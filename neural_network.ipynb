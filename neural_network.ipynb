{
 "cells": [
  {
   "cell_type": "code",
   "execution_count": 1,
   "id": "8399ac24",
   "metadata": {},
   "outputs": [],
   "source": [
    "import numpy as np\n",
    "import pandas as pd\n",
    "import random\n",
    "import matplotlib.pyplot as plt\n",
    "import seaborn as sns\n",
    "from tensorflow import keras\n",
    "import tensorflow as tf"
   ]
  },
  {
   "cell_type": "code",
   "execution_count": 2,
   "id": "1721ba3c",
   "metadata": {},
   "outputs": [],
   "source": [
    "%matplotlib inline\n",
    "plt.style.use('seaborn')"
   ]
  },
  {
   "cell_type": "code",
   "execution_count": 3,
   "id": "91401ee6",
   "metadata": {},
   "outputs": [
    {
     "data": {
      "text/plain": [
       "array([34400, 50000, 64400])"
      ]
     },
     "execution_count": 3,
     "metadata": {},
     "output_type": "execute_result"
    }
   ],
   "source": [
    "np.dot(price, unit)"
   ]
  },
  {
   "cell_type": "code",
   "execution_count": 5,
   "id": "07fbdc89",
   "metadata": {},
   "outputs": [
    {
     "data": {
      "text/plain": [
       "[1, 1, 1e-15, 1e-15, 1]"
      ]
     },
     "execution_count": 5,
     "metadata": {},
     "output_type": "execute_result"
    }
   ],
   "source": [
    "epsilon = 1e-15\n",
    "y_preds = [1, 1, 0, 0, 1]\n",
    "y_preds_new = [max(i, epsilon) for i in y_preds]\n",
    "y_preds_new"
   ]
  },
  {
   "cell_type": "code",
   "execution_count": 6,
   "id": "1487b83d",
   "metadata": {},
   "outputs": [
    {
     "data": {
      "text/plain": [
       "[0.999999999999999, 0.999999999999999, 1e-15, 1e-15, 0.999999999999999]"
      ]
     },
     "execution_count": 6,
     "metadata": {},
     "output_type": "execute_result"
    }
   ],
   "source": [
    "y_preds_new = [min(i, 1-epsilon) for i in y_preds_new]\n",
    "y_preds_new"
   ]
  },
  {
   "cell_type": "code",
   "execution_count": 7,
   "id": "0eca0322",
   "metadata": {},
   "outputs": [
    {
     "data": {
      "text/plain": [
       "array([-9.99200722e-16, -9.99200722e-16, -3.45387764e+01, -3.45387764e+01,\n",
       "       -9.99200722e-16])"
      ]
     },
     "execution_count": 7,
     "metadata": {},
     "output_type": "execute_result"
    }
   ],
   "source": [
    "y_preds_new = np.array(y_preds_new)\n",
    "np.log(y_preds_new)"
   ]
  },
  {
   "cell_type": "code",
   "execution_count": 8,
   "id": "2991760a",
   "metadata": {},
   "outputs": [
    {
     "name": "stderr",
     "output_type": "stream",
     "text": [
      "<ipython-input-8-03b498040291>:1: RuntimeWarning: divide by zero encountered in log\n",
      "  np.log(y_preds)\n"
     ]
    },
    {
     "data": {
      "text/plain": [
       "array([  0.,   0., -inf, -inf,   0.])"
      ]
     },
     "execution_count": 8,
     "metadata": {},
     "output_type": "execute_result"
    }
   ],
   "source": [
    "np.log(y_preds)"
   ]
  },
  {
   "cell_type": "code",
   "execution_count": 6,
   "id": "fef1d8e8",
   "metadata": {},
   "outputs": [
    {
     "data": {
      "text/html": [
       "<div>\n",
       "<style scoped>\n",
       "    .dataframe tbody tr th:only-of-type {\n",
       "        vertical-align: middle;\n",
       "    }\n",
       "\n",
       "    .dataframe tbody tr th {\n",
       "        vertical-align: top;\n",
       "    }\n",
       "\n",
       "    .dataframe thead th {\n",
       "        text-align: right;\n",
       "    }\n",
       "</style>\n",
       "<table border=\"1\" class=\"dataframe\">\n",
       "  <thead>\n",
       "    <tr style=\"text-align: right;\">\n",
       "      <th></th>\n",
       "      <th>area</th>\n",
       "      <th>bedrooms</th>\n",
       "      <th>price</th>\n",
       "    </tr>\n",
       "  </thead>\n",
       "  <tbody>\n",
       "    <tr>\n",
       "      <th>0</th>\n",
       "      <td>1056</td>\n",
       "      <td>2</td>\n",
       "      <td>39.07</td>\n",
       "    </tr>\n",
       "    <tr>\n",
       "      <th>1</th>\n",
       "      <td>2600</td>\n",
       "      <td>4</td>\n",
       "      <td>120.00</td>\n",
       "    </tr>\n",
       "    <tr>\n",
       "      <th>2</th>\n",
       "      <td>1440</td>\n",
       "      <td>3</td>\n",
       "      <td>62.00</td>\n",
       "    </tr>\n",
       "    <tr>\n",
       "      <th>3</th>\n",
       "      <td>1521</td>\n",
       "      <td>3</td>\n",
       "      <td>75.00</td>\n",
       "    </tr>\n",
       "    <tr>\n",
       "      <th>4</th>\n",
       "      <td>1200</td>\n",
       "      <td>2</td>\n",
       "      <td>51.00</td>\n",
       "    </tr>\n",
       "  </tbody>\n",
       "</table>\n",
       "</div>"
      ],
      "text/plain": [
       "   area  bedrooms   price\n",
       "0  1056         2   39.07\n",
       "1  2600         4  120.00\n",
       "2  1440         3   62.00\n",
       "3  1521         3   75.00\n",
       "4  1200         2   51.00"
      ]
     },
     "execution_count": 6,
     "metadata": {},
     "output_type": "execute_result"
    }
   ],
   "source": [
    "data = pd.read_csv('homeprices_banglore.csv')\n",
    "data.head()"
   ]
  },
  {
   "cell_type": "code",
   "execution_count": 7,
   "id": "8211b80e",
   "metadata": {},
   "outputs": [
    {
     "name": "stdout",
     "output_type": "stream",
     "text": [
      "<class 'pandas.core.frame.DataFrame'>\n",
      "RangeIndex: 20 entries, 0 to 19\n",
      "Data columns (total 3 columns):\n",
      " #   Column    Non-Null Count  Dtype  \n",
      "---  ------    --------------  -----  \n",
      " 0   area      20 non-null     int64  \n",
      " 1   bedrooms  20 non-null     int64  \n",
      " 2   price     20 non-null     float64\n",
      "dtypes: float64(1), int64(2)\n",
      "memory usage: 608.0 bytes\n"
     ]
    }
   ],
   "source": [
    "data.info()"
   ]
  },
  {
   "cell_type": "code",
   "execution_count": 8,
   "id": "332bb831",
   "metadata": {},
   "outputs": [],
   "source": [
    "def scaling(column):\n",
    "    return column/max(column)"
   ]
  },
  {
   "cell_type": "code",
   "execution_count": 10,
   "id": "c65266c3",
   "metadata": {},
   "outputs": [
    {
     "data": {
      "text/plain": [
       "0     0.285405\n",
       "1     0.702703\n",
       "2     0.389189\n",
       "3     0.411081\n",
       "4     0.324324\n",
       "5     0.316216\n",
       "6     0.738378\n",
       "7     0.891892\n",
       "8     0.354054\n",
       "9     1.000000\n",
       "10    0.486486\n",
       "11    0.752703\n",
       "12    0.270270\n",
       "13    0.297297\n",
       "14    0.608108\n",
       "15    0.317568\n",
       "16    0.318919\n",
       "17    0.416216\n",
       "18    0.748649\n",
       "19    0.216216\n",
       "Name: area, dtype: float64"
      ]
     },
     "execution_count": 10,
     "metadata": {},
     "output_type": "execute_result"
    }
   ],
   "source": [
    "scaling(data.area)"
   ]
  },
  {
   "cell_type": "code",
   "execution_count": 15,
   "id": "f5b2c152",
   "metadata": {},
   "outputs": [
    {
     "data": {
      "text/plain": [
       "array([[0.08827586, 0.25      ],\n",
       "       [0.62068966, 0.75      ],\n",
       "       [0.22068966, 0.5       ],\n",
       "       [0.24862069, 0.5       ],\n",
       "       [0.13793103, 0.25      ],\n",
       "       [0.12758621, 0.25      ],\n",
       "       [0.6662069 , 0.75      ],\n",
       "       [0.86206897, 0.75      ],\n",
       "       [0.17586207, 0.5       ],\n",
       "       [1.        , 1.        ],\n",
       "       [0.34482759, 0.5       ],\n",
       "       [0.68448276, 0.75      ],\n",
       "       [0.06896552, 0.25      ],\n",
       "       [0.10344828, 0.25      ],\n",
       "       [0.5       , 0.5       ],\n",
       "       [0.12931034, 0.25      ],\n",
       "       [0.13103448, 0.5       ],\n",
       "       [0.25517241, 0.5       ],\n",
       "       [0.67931034, 0.5       ],\n",
       "       [0.        , 0.        ]])"
      ]
     },
     "execution_count": 15,
     "metadata": {},
     "output_type": "execute_result"
    }
   ],
   "source": [
    "from sklearn import preprocessing\n",
    "\n",
    "sx = preprocessing.MinMaxScaler()\n",
    "sy = preprocessing.MinMaxScaler()\n",
    "\n",
    "scaled_X = sx.fit_transform(data.drop('price', axis = 1))\n",
    "scaled_X"
   ]
  },
  {
   "cell_type": "code",
   "execution_count": 33,
   "id": "891df6c2",
   "metadata": {},
   "outputs": [
    {
     "data": {
      "text/plain": [
       "array([[0.05237037],\n",
       "       [0.65185185],\n",
       "       [0.22222222],\n",
       "       [0.31851852],\n",
       "       [0.14074074],\n",
       "       [0.04444444],\n",
       "       [0.76296296],\n",
       "       [0.91111111],\n",
       "       [0.13333333],\n",
       "       [1.        ],\n",
       "       [0.37037037],\n",
       "       [0.8       ],\n",
       "       [0.04444444],\n",
       "       [0.05925926],\n",
       "       [0.51111111],\n",
       "       [0.07407407],\n",
       "       [0.11851852],\n",
       "       [0.20740741],\n",
       "       [0.51851852],\n",
       "       [0.        ]])"
      ]
     },
     "execution_count": 33,
     "metadata": {},
     "output_type": "execute_result"
    }
   ],
   "source": [
    "scaled_y = sy.fit_transform(np.asarray(data.price).reshape(data.shape[0], 1))\n",
    "scaled_y"
   ]
  },
  {
   "cell_type": "code",
   "execution_count": 37,
   "id": "78442616",
   "metadata": {},
   "outputs": [
    {
     "data": {
      "text/plain": [
       "array([0.33827586, 1.37068966, 0.72068966, 0.74862069, 0.38793103,\n",
       "       0.37758621, 1.4162069 , 1.61206897, 0.67586207, 2.        ,\n",
       "       0.84482759, 1.43448276, 0.31896552, 0.35344828, 1.        ,\n",
       "       0.37931034, 0.63103448, 0.75517241, 1.17931034, 0.        ])"
      ]
     },
     "execution_count": 37,
     "metadata": {},
     "output_type": "execute_result"
    }
   ],
   "source": [
    "w = np.ones(shape = scaled_X.shape[1])\n",
    "np.dot(w, scaled_X.T)"
   ]
  },
  {
   "cell_type": "code",
   "execution_count": 81,
   "id": "c803b2e3",
   "metadata": {},
   "outputs": [],
   "source": [
    "def batch_gradient_descent(X, y_true, epochs, learning_rate = 0.01):\n",
    "    \n",
    "    number_of_features = X.shape[1]\n",
    "    w = np.ones(shape = number_of_features)\n",
    "    b = 0\n",
    "    total_samples = X.shape[0]\n",
    "    \n",
    "    cost_list = []\n",
    "    epoch_list = []\n",
    "    \n",
    "    for i in range(epochs):\n",
    "        y_predicted = np.dot(w, X.T)+b\n",
    "        \n",
    "        w_grad = -(2/total_samples)*(X.T.dot(y_true-y_predicted))\n",
    "        b_grad = -(2/total_samples)*np.sum(y_true-y_predicted)\n",
    "        w = w - learning_rate*w_grad\n",
    "        b = b - learning_rate*b_grad\n",
    "        \n",
    "        cost = np.mean(np.square(y_true-y_predicted)) # MSE\n",
    "        \n",
    "        if i%10 == 0:\n",
    "            cost_list.append(cost)\n",
    "            epoch_list.append(i)\n",
    "        \n",
    "    return w, b, cost, cost_list, epoch_list"
   ]
  },
  {
   "cell_type": "code",
   "execution_count": 82,
   "id": "8e97b597",
   "metadata": {},
   "outputs": [
    {
     "data": {
      "text/plain": [
       "(array([0.70712464, 0.67456527]), -0.23034857438407427, 0.0068641890429808105)"
      ]
     },
     "execution_count": 82,
     "metadata": {},
     "output_type": "execute_result"
    }
   ],
   "source": [
    "w, b, cost, cost_list, epoch_list = batch_gradient_descent(scaled_X, scaled_y.reshape(scaled_y.shape[0]), 500)\n",
    "w, b, cost"
   ]
  },
  {
   "cell_type": "code",
   "execution_count": 83,
   "id": "188a3fa7",
   "metadata": {},
   "outputs": [
    {
     "data": {
      "image/png": "[encoded data removed]",
      "text/plain": [
       "<Figure size 576x396 with 1 Axes>"
      ]
     },
     "metadata": {},
     "output_type": "display_data"
    }
   ],
   "source": [
    "plt.plot(epoch_list, cost_list)\n",
    "plt.show()"
   ]
  },
  {
   "cell_type": "code",
   "execution_count": 84,
   "id": "21c5a636",
   "metadata": {},
   "outputs": [
    {
     "data": {
      "text/plain": [
       "128.45484403267596"
      ]
     },
     "execution_count": 84,
     "metadata": {},
     "output_type": "execute_result"
    }
   ],
   "source": [
    "def prediction(area, bedroom, w, b):\n",
    "    scaled_X = sx.transform([[area, bedroom]])[0]\n",
    "    scaled_price = w[0]*scaled_X[0]+w[1]*scaled_X[1]+b\n",
    "    return sy.inverse_transform([[scaled_price]])[0][0]\n",
    "    \n",
    "prediction(2600, 4, w, b)"
   ]
  },
  {
   "cell_type": "code",
   "execution_count": 85,
   "id": "9e5a1426",
   "metadata": {},
   "outputs": [
    {
     "data": {
      "text/plain": [
       "30.253094462442355"
      ]
     },
     "execution_count": 85,
     "metadata": {},
     "output_type": "execute_result"
    }
   ],
   "source": [
    "prediction(1000, 2, w, b)"
   ]
  },
  {
   "cell_type": "code",
   "execution_count": 86,
   "id": "efaeb4f9",
   "metadata": {},
   "outputs": [
    {
     "data": {
      "text/plain": [
       "69.47860785714694"
      ]
     },
     "execution_count": 86,
     "metadata": {},
     "output_type": "execute_result"
    }
   ],
   "source": [
    "prediction(1500, 3, w, b)"
   ]
  },
  {
   "cell_type": "code",
   "execution_count": 99,
   "id": "ca264769",
   "metadata": {},
   "outputs": [],
   "source": [
    "from random import randint\n",
    "\n",
    "def stochastic_gradient_descent(X, y_true, epochs, learning_rate = 0.01):\n",
    "    number_of_features = X.shape[1]\n",
    "    w = np.ones(shape = number_of_features)\n",
    "    b = 0\n",
    "    total_samples = X.shape[0]\n",
    "    \n",
    "    cost_list = []\n",
    "    epoch_list = []\n",
    "    \n",
    "    for i in range(epochs):\n",
    "        random_index = randint(0, total_samples-1)\n",
    "        sample_X = X[random_index]\n",
    "        sample_y = y_true[random_index]\n",
    "        y_predicted = np.dot(w, sample_X.T)+b\n",
    "        \n",
    "        w_grad = -(2/total_samples)*(sample_X.T.dot(sample_y-y_predicted))\n",
    "        b_grad = -(2/total_samples)*(sample_y-y_predicted)\n",
    "        w = w - learning_rate*w_grad\n",
    "        b = b - learning_rate*b_grad\n",
    "        \n",
    "        cost = np.square(sample_y-y_predicted) # MSE\n",
    "        \n",
    "        if i%10 == 0:\n",
    "            cost_list.append(cost)\n",
    "            epoch_list.append(i)\n",
    "            \n",
    "    return w, b, cost, cost_list, epoch_list"
   ]
  },
  {
   "cell_type": "code",
   "execution_count": 100,
   "id": "2ba99d32",
   "metadata": {},
   "outputs": [
    {
     "data": {
      "text/plain": [
       "(array([0.70703659, 0.67654618]), -0.230838290873808, 0.05339304923896949)"
      ]
     },
     "execution_count": 100,
     "metadata": {},
     "output_type": "execute_result"
    }
   ],
   "source": [
    "w, b, cost, cost_list, epoch_list = stochastic_gradient_descent(scaled_X, scaled_y.reshape(scaled_y.shape[0]), 10000)\n",
    "w, b, cost"
   ]
  },
  {
   "cell_type": "code",
   "execution_count": 102,
   "id": "fb76265e",
   "metadata": {},
   "outputs": [
    {
     "data": {
      "image/png": "[encoded data removed]",
      "text/plain": [
       "<Figure size 576x396 with 1 Axes>"
      ]
     },
     "metadata": {},
     "output_type": "display_data"
    }
   ],
   "source": [
    "plt.plot(epoch_list, cost_list);"
   ]
  },
  {
   "cell_type": "code",
   "execution_count": null,
   "id": "c89231ce",
   "metadata": {},
   "outputs": [],
   "source": [
    "def mini_batch_gradient_descent(X, y_true, epochs, learning_rate = 0.01):\n",
    "    number_of_features = X.shape[1]\n",
    "    w = np.ones(shape = number_of_features)\n",
    "    b = 0\n",
    "    total_samples = X.shape[0]\n",
    "    \n",
    "    cost_list = []\n",
    "    epoch_list = []\n",
    "    \n",
    "    for i in range(epochs):"
   ]
  },
  {
   "cell_type": "markdown",
   "id": "a84bb603",
   "metadata": {},
   "source": [
    "Exercise: GPU performance for fashion mnist dataset\n",
    "This notebook is derived from a tensorflow tutorial here: https://www.tensorflow.org/tutorials/keras/classification So please refer to it before starting work on this exercise\n",
    "\n",
    "You need to write code wherever you see your code goes here comment. You are going to do image classification for fashion mnist dataset and then you will benchmark the performance of GPU vs CPU for 1 hidden layer and then for 5 hidden layers. You will eventually fill out this table with your performance benchmark numbers"
   ]
  },
  {
   "cell_type": "code",
   "execution_count": 3,
   "id": "add6f9d4",
   "metadata": {},
   "outputs": [
    {
     "name": "stdout",
     "output_type": "stream",
     "text": [
      "2.5.0\n"
     ]
    },
    {
     "data": {
      "image/png": "[encoded data removed]",
      "text/plain": [
       "<Figure size 640x480 with 1 Axes>"
      ]
     },
     "metadata": {},
     "output_type": "display_data"
    },
    {
     "data": {
      "image/png": "[encoded data removed]",
      "text/plain": [
       "<Figure size 300x300 with 1 Axes>"
      ]
     },
     "metadata": {},
     "output_type": "display_data"
    },
    {
     "data": {
      "image/png": "[encoded data removed]",
      "text/plain": [
       "<Figure size 640x480 with 1 Axes>"
      ]
     },
     "metadata": {},
     "output_type": "display_data"
    },
    {
     "data": {
      "image/png": "[encoded data removed]",
      "text/plain": [
       "<Figure size 640x480 with 1 Axes>"
      ]
     },
     "metadata": {},
     "output_type": "display_data"
    },
    {
     "data": {
      "image/png": "[encoded data removed]",
      "text/plain": [
       "<Figure size 640x480 with 1 Axes>"
      ]
     },
     "metadata": {},
     "output_type": "display_data"
    },
    {
     "data": {
      "image/png": "[encoded data removed]",
      "text/plain": [
       "<Figure size 640x480 with 1 Axes>"
      ]
     },
     "metadata": {},
     "output_type": "display_data"
    }
   ],
   "source": [
    "import tensorflow as tf\n",
    "from tensorflow import keras\n",
    "import numpy as np\n",
    "import matplotlib.pyplot as plt\n",
    "print(tf.__version__)\n",
    "fashion_mnist = keras.datasets.fashion_mnist\n",
    "\n",
    "(train_images, train_labels), (test_images, test_labels) = fashion_mnist.load_data()\n",
    "class_names = ['T-shirt/top', 'Trouser', 'Pullover', 'Dress', 'Coat',\n",
    "               'Sandal', 'Shirt', 'Sneaker', 'Bag', 'Ankle boot']\n",
    "train_images.shape\n",
    "plt.imshow(train_images[0])\n",
    "train_labels[0]\n",
    "class_names[train_labels[0]]\n",
    "plt.figure(figsize=(3,3))\n",
    "for i in range(5):\n",
    "    plt.imshow(train_images[i])\n",
    "    plt.xlabel(class_names[train_labels[i]])\n",
    "    plt.show()\n",
    "train_images_scaled = train_images / 255.0\n",
    "test_images_scaled = test_images / 255.0"
   ]
  },
  {
   "cell_type": "code",
   "execution_count": 10,
   "id": "47530e98",
   "metadata": {},
   "outputs": [
    {
     "data": {
      "text/plain": [
       "(28, 28)"
      ]
     },
     "execution_count": 10,
     "metadata": {},
     "output_type": "execute_result"
    }
   ],
   "source": [
    "input_shape = train_images_scaled.shape[-2:]\n",
    "input_shape"
   ]
  },
  {
   "cell_type": "code",
   "execution_count": 12,
   "id": "4ac07553",
   "metadata": {},
   "outputs": [
    {
     "name": "stdout",
     "output_type": "stream",
     "text": [
      "Epoch 1/5\n",
      "1875/1875 [==============================] - 4s 2ms/step - loss: 0.5907 - accuracy: 0.7956\n",
      "Epoch 2/5\n",
      "1875/1875 [==============================] - 4s 2ms/step - loss: 0.4306 - accuracy: 0.8474\n",
      "Epoch 3/5\n",
      "1875/1875 [==============================] - 3s 2ms/step - loss: 0.4021 - accuracy: 0.8575\n",
      "Epoch 4/5\n",
      "1875/1875 [==============================] - 4s 2ms/step - loss: 0.3867 - accuracy: 0.8610\n",
      "Epoch 5/5\n",
      "1875/1875 [==============================] - 3s 1ms/step - loss: 0.3752 - accuracy: 0.8664\n"
     ]
    },
    {
     "data": {
      "text/plain": [
       "[PhysicalDevice(name='/physical_device:CPU:0', device_type='CPU')]"
      ]
     },
     "execution_count": 12,
     "metadata": {},
     "output_type": "execute_result"
    }
   ],
   "source": [
    "def get_model(hidden_layers=1):\n",
    "    layers = []\n",
    "    # Your code goes here-----------START\n",
    "    # Create Flatten input layers\n",
    "    # Create hidden layers that are equal to hidden_layers argument in this function\n",
    "    # Create output \n",
    "    # Your code goes here-----------END\n",
    "    \n",
    "    input_shape = train_images_scaled.shape[-2:]\n",
    "    layers.append(keras.layers.Flatten(input_shape = input_shape))\n",
    "    \n",
    "    for i in range(1, hidden_layers+1):\n",
    "        layers.append(keras.layers.Dense(int(input_shape[0]/(i*2)), activation = 'relu'))\n",
    "    layers.append(keras.layers.Dense(10, activation = 'sigmoid'))\n",
    "    model = keras.Sequential(layers)\n",
    "    \n",
    "    model.compile(optimizer='adam',\n",
    "                  loss='sparse_categorical_crossentropy',\n",
    "                  metrics=['accuracy'])\n",
    "    \n",
    "    return model\n",
    "model = get_model(1)\n",
    "model.fit(train_images_scaled, train_labels, epochs=5)\n",
    "model.predict(test_images_scaled)[2]\n",
    "test_labels[2]\n",
    "tf.config.experimental.list_physical_devices() "
   ]
  },
  {
   "cell_type": "code",
   "execution_count": null,
   "id": "7d787cc5",
   "metadata": {},
   "outputs": [],
   "source": [
    "# 5 Epochs performance comparison for 1 hidden layer\n",
    "%%timeit -n1 -r1\n",
    "with tf.device('/CPU:0'):\n",
    "    model = get_model(1)\n",
    "    model.fit(train_images_scaled, train_labels, epochs=5)"
   ]
  },
  {
   "cell_type": "code",
   "execution_count": null,
   "id": "6aa6311a",
   "metadata": {},
   "outputs": [],
   "source": [
    "%%timeit -n1 -r1\n",
    "with tf.device('/GPU:0'):\n",
    "     model = get_model(1)\n",
    "    model.fit(train_images_scaled, train_labels, epochs=5)"
   ]
  },
  {
   "cell_type": "code",
   "execution_count": null,
   "id": "2ed4be9b",
   "metadata": {},
   "outputs": [],
   "source": [
    "# 5 Epocs performance comparison with 5 hidden layers\n",
    "%%timeit -n1 -r1\n",
    "with tf.device('/CPU:0'):\n",
    "    # your code here\n"
   ]
  },
  {
   "cell_type": "code",
   "execution_count": null,
   "id": "25809e8e",
   "metadata": {},
   "outputs": [],
   "source": [
    "%%timeit -n1 -r1\n",
    "with tf.device('/GPU:0'):\n",
    "    # your code here\n"
   ]
  },
  {
   "cell_type": "code",
   "execution_count": 3,
   "id": "e4f54d79",
   "metadata": {},
   "outputs": [
    {
     "data": {
      "text/html": [
       "<div>\n",
       "<style scoped>\n",
       "    .dataframe tbody tr th:only-of-type {\n",
       "        vertical-align: middle;\n",
       "    }\n",
       "\n",
       "    .dataframe tbody tr th {\n",
       "        vertical-align: top;\n",
       "    }\n",
       "\n",
       "    .dataframe thead th {\n",
       "        text-align: right;\n",
       "    }\n",
       "</style>\n",
       "<table border=\"1\" class=\"dataframe\">\n",
       "  <thead>\n",
       "    <tr style=\"text-align: right;\">\n",
       "      <th></th>\n",
       "      <th>customerID</th>\n",
       "      <th>gender</th>\n",
       "      <th>SeniorCitizen</th>\n",
       "      <th>Partner</th>\n",
       "      <th>Dependents</th>\n",
       "      <th>tenure</th>\n",
       "      <th>PhoneService</th>\n",
       "      <th>MultipleLines</th>\n",
       "      <th>InternetService</th>\n",
       "      <th>OnlineSecurity</th>\n",
       "      <th>...</th>\n",
       "      <th>DeviceProtection</th>\n",
       "      <th>TechSupport</th>\n",
       "      <th>StreamingTV</th>\n",
       "      <th>StreamingMovies</th>\n",
       "      <th>Contract</th>\n",
       "      <th>PaperlessBilling</th>\n",
       "      <th>PaymentMethod</th>\n",
       "      <th>MonthlyCharges</th>\n",
       "      <th>TotalCharges</th>\n",
       "      <th>Churn</th>\n",
       "    </tr>\n",
       "  </thead>\n",
       "  <tbody>\n",
       "    <tr>\n",
       "      <th>0</th>\n",
       "      <td>7590-VHVEG</td>\n",
       "      <td>Female</td>\n",
       "      <td>0</td>\n",
       "      <td>Yes</td>\n",
       "      <td>No</td>\n",
       "      <td>1</td>\n",
       "      <td>No</td>\n",
       "      <td>No phone service</td>\n",
       "      <td>DSL</td>\n",
       "      <td>No</td>\n",
       "      <td>...</td>\n",
       "      <td>No</td>\n",
       "      <td>No</td>\n",
       "      <td>No</td>\n",
       "      <td>No</td>\n",
       "      <td>Month-to-month</td>\n",
       "      <td>Yes</td>\n",
       "      <td>Electronic check</td>\n",
       "      <td>29.85</td>\n",
       "      <td>29.85</td>\n",
       "      <td>No</td>\n",
       "    </tr>\n",
       "    <tr>\n",
       "      <th>1</th>\n",
       "      <td>5575-GNVDE</td>\n",
       "      <td>Male</td>\n",
       "      <td>0</td>\n",
       "      <td>No</td>\n",
       "      <td>No</td>\n",
       "      <td>34</td>\n",
       "      <td>Yes</td>\n",
       "      <td>No</td>\n",
       "      <td>DSL</td>\n",
       "      <td>Yes</td>\n",
       "      <td>...</td>\n",
       "      <td>Yes</td>\n",
       "      <td>No</td>\n",
       "      <td>No</td>\n",
       "      <td>No</td>\n",
       "      <td>One year</td>\n",
       "      <td>No</td>\n",
       "      <td>Mailed check</td>\n",
       "      <td>56.95</td>\n",
       "      <td>1889.5</td>\n",
       "      <td>No</td>\n",
       "    </tr>\n",
       "    <tr>\n",
       "      <th>2</th>\n",
       "      <td>3668-QPYBK</td>\n",
       "      <td>Male</td>\n",
       "      <td>0</td>\n",
       "      <td>No</td>\n",
       "      <td>No</td>\n",
       "      <td>2</td>\n",
       "      <td>Yes</td>\n",
       "      <td>No</td>\n",
       "      <td>DSL</td>\n",
       "      <td>Yes</td>\n",
       "      <td>...</td>\n",
       "      <td>No</td>\n",
       "      <td>No</td>\n",
       "      <td>No</td>\n",
       "      <td>No</td>\n",
       "      <td>Month-to-month</td>\n",
       "      <td>Yes</td>\n",
       "      <td>Mailed check</td>\n",
       "      <td>53.85</td>\n",
       "      <td>108.15</td>\n",
       "      <td>Yes</td>\n",
       "    </tr>\n",
       "    <tr>\n",
       "      <th>3</th>\n",
       "      <td>7795-CFOCW</td>\n",
       "      <td>Male</td>\n",
       "      <td>0</td>\n",
       "      <td>No</td>\n",
       "      <td>No</td>\n",
       "      <td>45</td>\n",
       "      <td>No</td>\n",
       "      <td>No phone service</td>\n",
       "      <td>DSL</td>\n",
       "      <td>Yes</td>\n",
       "      <td>...</td>\n",
       "      <td>Yes</td>\n",
       "      <td>Yes</td>\n",
       "      <td>No</td>\n",
       "      <td>No</td>\n",
       "      <td>One year</td>\n",
       "      <td>No</td>\n",
       "      <td>Bank transfer (automatic)</td>\n",
       "      <td>42.30</td>\n",
       "      <td>1840.75</td>\n",
       "      <td>No</td>\n",
       "    </tr>\n",
       "    <tr>\n",
       "      <th>4</th>\n",
       "      <td>9237-HQITU</td>\n",
       "      <td>Female</td>\n",
       "      <td>0</td>\n",
       "      <td>No</td>\n",
       "      <td>No</td>\n",
       "      <td>2</td>\n",
       "      <td>Yes</td>\n",
       "      <td>No</td>\n",
       "      <td>Fiber optic</td>\n",
       "      <td>No</td>\n",
       "      <td>...</td>\n",
       "      <td>No</td>\n",
       "      <td>No</td>\n",
       "      <td>No</td>\n",
       "      <td>No</td>\n",
       "      <td>Month-to-month</td>\n",
       "      <td>Yes</td>\n",
       "      <td>Electronic check</td>\n",
       "      <td>70.70</td>\n",
       "      <td>151.65</td>\n",
       "      <td>Yes</td>\n",
       "    </tr>\n",
       "  </tbody>\n",
       "</table>\n",
       "<p>5 rows × 21 columns</p>\n",
       "</div>"
      ],
      "text/plain": [
       "   customerID  gender  SeniorCitizen Partner Dependents  tenure PhoneService  \\\n",
       "0  7590-VHVEG  Female              0     Yes         No       1           No   \n",
       "1  5575-GNVDE    Male              0      No         No      34          Yes   \n",
       "2  3668-QPYBK    Male              0      No         No       2          Yes   \n",
       "3  7795-CFOCW    Male              0      No         No      45           No   \n",
       "4  9237-HQITU  Female              0      No         No       2          Yes   \n",
       "\n",
       "      MultipleLines InternetService OnlineSecurity  ... DeviceProtection  \\\n",
       "0  No phone service             DSL             No  ...               No   \n",
       "1                No             DSL            Yes  ...              Yes   \n",
       "2                No             DSL            Yes  ...               No   \n",
       "3  No phone service             DSL            Yes  ...              Yes   \n",
       "4                No     Fiber optic             No  ...               No   \n",
       "\n",
       "  TechSupport StreamingTV StreamingMovies        Contract PaperlessBilling  \\\n",
       "0          No          No              No  Month-to-month              Yes   \n",
       "1          No          No              No        One year               No   \n",
       "2          No          No              No  Month-to-month              Yes   \n",
       "3         Yes          No              No        One year               No   \n",
       "4          No          No              No  Month-to-month              Yes   \n",
       "\n",
       "               PaymentMethod MonthlyCharges  TotalCharges Churn  \n",
       "0           Electronic check          29.85         29.85    No  \n",
       "1               Mailed check          56.95        1889.5    No  \n",
       "2               Mailed check          53.85        108.15   Yes  \n",
       "3  Bank transfer (automatic)          42.30       1840.75    No  \n",
       "4           Electronic check          70.70        151.65   Yes  \n",
       "\n",
       "[5 rows x 21 columns]"
      ]
     },
     "execution_count": 3,
     "metadata": {},
     "output_type": "execute_result"
    }
   ],
   "source": [
    "df = pd.read_csv('WA_Fn-UseC_-Telco-Customer-Churn.csv')\n",
    "df.head()"
   ]
  },
  {
   "cell_type": "code",
   "execution_count": 4,
   "id": "d7f74970",
   "metadata": {},
   "outputs": [
    {
     "name": "stdout",
     "output_type": "stream",
     "text": [
      "<class 'pandas.core.frame.DataFrame'>\n",
      "RangeIndex: 7043 entries, 0 to 7042\n",
      "Data columns (total 21 columns):\n",
      " #   Column            Non-Null Count  Dtype  \n",
      "---  ------            --------------  -----  \n",
      " 0   customerID        7043 non-null   object \n",
      " 1   gender            7043 non-null   object \n",
      " 2   SeniorCitizen     7043 non-null   int64  \n",
      " 3   Partner           7043 non-null   object \n",
      " 4   Dependents        7043 non-null   object \n",
      " 5   tenure            7043 non-null   int64  \n",
      " 6   PhoneService      7043 non-null   object \n",
      " 7   MultipleLines     7043 non-null   object \n",
      " 8   InternetService   7043 non-null   object \n",
      " 9   OnlineSecurity    7043 non-null   object \n",
      " 10  OnlineBackup      7043 non-null   object \n",
      " 11  DeviceProtection  7043 non-null   object \n",
      " 12  TechSupport       7043 non-null   object \n",
      " 13  StreamingTV       7043 non-null   object \n",
      " 14  StreamingMovies   7043 non-null   object \n",
      " 15  Contract          7043 non-null   object \n",
      " 16  PaperlessBilling  7043 non-null   object \n",
      " 17  PaymentMethod     7043 non-null   object \n",
      " 18  MonthlyCharges    7043 non-null   float64\n",
      " 19  TotalCharges      7043 non-null   object \n",
      " 20  Churn             7043 non-null   object \n",
      "dtypes: float64(1), int64(2), object(18)\n",
      "memory usage: 1.1+ MB\n"
     ]
    }
   ],
   "source": [
    "df.info()"
   ]
  },
  {
   "cell_type": "code",
   "execution_count": 5,
   "id": "853590ce",
   "metadata": {},
   "outputs": [],
   "source": [
    "df1 = df.copy()\n",
    "df1.drop('customerID', axis = 1, inplace = True)\n",
    "df1['TotalCharges'] = pd.to_numeric(df1['TotalCharges'], errors = 'coerce')"
   ]
  },
  {
   "cell_type": "code",
   "execution_count": 6,
   "id": "3c0068c8",
   "metadata": {},
   "outputs": [],
   "source": [
    "df1.dropna(inplace = True)"
   ]
  },
  {
   "cell_type": "code",
   "execution_count": 7,
   "id": "e8efd5bb",
   "metadata": {},
   "outputs": [
    {
     "name": "stdout",
     "output_type": "stream",
     "text": [
      "<class 'pandas.core.frame.DataFrame'>\n",
      "Int64Index: 7032 entries, 0 to 7042\n",
      "Data columns (total 20 columns):\n",
      " #   Column            Non-Null Count  Dtype  \n",
      "---  ------            --------------  -----  \n",
      " 0   gender            7032 non-null   object \n",
      " 1   SeniorCitizen     7032 non-null   int64  \n",
      " 2   Partner           7032 non-null   object \n",
      " 3   Dependents        7032 non-null   object \n",
      " 4   tenure            7032 non-null   int64  \n",
      " 5   PhoneService      7032 non-null   object \n",
      " 6   MultipleLines     7032 non-null   object \n",
      " 7   InternetService   7032 non-null   object \n",
      " 8   OnlineSecurity    7032 non-null   object \n",
      " 9   OnlineBackup      7032 non-null   object \n",
      " 10  DeviceProtection  7032 non-null   object \n",
      " 11  TechSupport       7032 non-null   object \n",
      " 12  StreamingTV       7032 non-null   object \n",
      " 13  StreamingMovies   7032 non-null   object \n",
      " 14  Contract          7032 non-null   object \n",
      " 15  PaperlessBilling  7032 non-null   object \n",
      " 16  PaymentMethod     7032 non-null   object \n",
      " 17  MonthlyCharges    7032 non-null   float64\n",
      " 18  TotalCharges      7032 non-null   float64\n",
      " 19  Churn             7032 non-null   object \n",
      "dtypes: float64(2), int64(2), object(16)\n",
      "memory usage: 1.1+ MB\n"
     ]
    }
   ],
   "source": [
    "df1.info()"
   ]
  },
  {
   "cell_type": "code",
   "execution_count": 8,
   "id": "09a48714",
   "metadata": {},
   "outputs": [],
   "source": [
    "df1.TotalCharges.hist(bins = 20);"
   ]
  },
  {
   "cell_type": "code",
   "execution_count": 9,
   "id": "b4b1215a",
   "metadata": {},
   "outputs": [],
   "source": [
    "sns.histplot(df1, x = 'tenure', hue = 'Churn', multiple = 'dodge');"
   ]
  },
  {
   "cell_type": "code",
   "execution_count": 10,
   "id": "1ca1d146",
   "metadata": {
    "scrolled": true
   },
   "outputs": [
    {
     "name": "stdout",
     "output_type": "stream",
     "text": [
      "SeniorCitizen: [0 1]\n",
      " count: 2\n",
      "Dependents: ['No' 'Yes']\n",
      " count: 2\n",
      "MultipleLines: ['No phone service' 'No' 'Yes']\n",
      " count: 3\n",
      "InternetService: ['DSL' 'Fiber optic' 'No']\n",
      " count: 3\n",
      "TechSupport: ['No' 'Yes' 'No internet service']\n",
      " count: 3\n",
      "OnlineSecurity: ['No' 'Yes' 'No internet service']\n",
      " count: 3\n",
      "PhoneService: ['No' 'Yes']\n",
      " count: 2\n",
      "Churn: ['No' 'Yes']\n",
      " count: 2\n",
      "OnlineBackup: ['Yes' 'No' 'No internet service']\n",
      " count: 3\n",
      "Partner: ['Yes' 'No']\n",
      " count: 2\n",
      "DeviceProtection: ['No' 'Yes' 'No internet service']\n",
      " count: 3\n",
      "PaymentMethod: ['Electronic check' 'Mailed check' 'Bank transfer (automatic)'\n",
      " 'Credit card (automatic)']\n",
      " count: 4\n",
      "gender: ['Female' 'Male']\n",
      " count: 2\n",
      "StreamingMovies: ['No' 'Yes' 'No internet service']\n",
      " count: 3\n",
      "Contract: ['Month-to-month' 'One year' 'Two year']\n",
      " count: 3\n",
      "StreamingTV: ['No' 'Yes' 'No internet service']\n",
      " count: 3\n",
      "PaperlessBilling: ['Yes' 'No']\n",
      " count: 2\n"
     ]
    }
   ],
   "source": [
    "def print_unique_columns(data):\n",
    "\n",
    "    column_list = list(set(data.columns)-set(['customerID', 'tenure', 'MonthlyCharges', 'TotalCharges']))\n",
    "\n",
    "    for i in column_list:\n",
    "        print(f'{i}: {data[i].unique()}\\n count: {data[i].unique().shape[0]}')\n",
    "\n",
    "print_unique_columns(df1)"
   ]
  },
  {
   "cell_type": "code",
   "execution_count": 11,
   "id": "af62721e",
   "metadata": {},
   "outputs": [],
   "source": [
    "df1.replace('No phone service', 'No', inplace = True)\n",
    "df1.replace('No internet service', 'No', inplace = True)"
   ]
  },
  {
   "cell_type": "code",
   "execution_count": 12,
   "id": "7057b88f",
   "metadata": {},
   "outputs": [],
   "source": [
    "yes_no_columns = ['Partner', 'Dependents',\n",
    "       'tenure', 'PhoneService', 'MultipleLines',\n",
    "       'OnlineSecurity', 'OnlineBackup', 'DeviceProtection', 'TechSupport',\n",
    "       'StreamingTV', 'StreamingMovies', 'PaperlessBilling',\n",
    "       'MonthlyCharges', 'TotalCharges', 'Churn']\n",
    "\n",
    "for col in yes_no_columns:\n",
    "    df1[col].replace({'Yes': 1, 'No': 0}, inplace = True)"
   ]
  },
  {
   "cell_type": "code",
   "execution_count": 13,
   "id": "491f1550",
   "metadata": {},
   "outputs": [],
   "source": [
    "df1.replace({'Female': 1, 'Male': 0}, inplace = True)"
   ]
  },
  {
   "cell_type": "code",
   "execution_count": 14,
   "id": "62aaa499",
   "metadata": {},
   "outputs": [
    {
     "data": {
      "text/plain": [
       "Index(['gender', 'SeniorCitizen', 'Partner', 'Dependents', 'tenure',\n",
       "       'PhoneService', 'MultipleLines', 'OnlineSecurity', 'OnlineBackup',\n",
       "       'DeviceProtection', 'TechSupport', 'StreamingTV', 'StreamingMovies',\n",
       "       'PaperlessBilling', 'MonthlyCharges', 'TotalCharges', 'Churn',\n",
       "       'InternetService_DSL', 'InternetService_Fiber optic',\n",
       "       'InternetService_No', 'Contract_Month-to-month', 'Contract_One year',\n",
       "       'Contract_Two year', 'PaymentMethod_Bank transfer (automatic)',\n",
       "       'PaymentMethod_Credit card (automatic)',\n",
       "       'PaymentMethod_Electronic check', 'PaymentMethod_Mailed check'],\n",
       "      dtype='object')"
      ]
     },
     "execution_count": 14,
     "metadata": {},
     "output_type": "execute_result"
    }
   ],
   "source": [
    "col = ['InternetService', 'Contract', 'PaymentMethod']\n",
    "\n",
    "df2 = pd.get_dummies(data = df1, columns = col)\n",
    "df2.columns"
   ]
  },
  {
   "cell_type": "code",
   "execution_count": 15,
   "id": "3baf0b91",
   "metadata": {},
   "outputs": [
    {
     "data": {
      "text/html": [
       "<div>\n",
       "<style scoped>\n",
       "    .dataframe tbody tr th:only-of-type {\n",
       "        vertical-align: middle;\n",
       "    }\n",
       "\n",
       "    .dataframe tbody tr th {\n",
       "        vertical-align: top;\n",
       "    }\n",
       "\n",
       "    .dataframe thead th {\n",
       "        text-align: right;\n",
       "    }\n",
       "</style>\n",
       "<table border=\"1\" class=\"dataframe\">\n",
       "  <thead>\n",
       "    <tr style=\"text-align: right;\">\n",
       "      <th></th>\n",
       "      <th>gender</th>\n",
       "      <th>SeniorCitizen</th>\n",
       "      <th>Partner</th>\n",
       "      <th>Dependents</th>\n",
       "      <th>tenure</th>\n",
       "      <th>PhoneService</th>\n",
       "      <th>MultipleLines</th>\n",
       "      <th>OnlineSecurity</th>\n",
       "      <th>OnlineBackup</th>\n",
       "      <th>DeviceProtection</th>\n",
       "      <th>...</th>\n",
       "      <th>InternetService_DSL</th>\n",
       "      <th>InternetService_Fiber optic</th>\n",
       "      <th>InternetService_No</th>\n",
       "      <th>Contract_Month-to-month</th>\n",
       "      <th>Contract_One year</th>\n",
       "      <th>Contract_Two year</th>\n",
       "      <th>PaymentMethod_Bank transfer (automatic)</th>\n",
       "      <th>PaymentMethod_Credit card (automatic)</th>\n",
       "      <th>PaymentMethod_Electronic check</th>\n",
       "      <th>PaymentMethod_Mailed check</th>\n",
       "    </tr>\n",
       "  </thead>\n",
       "  <tbody>\n",
       "    <tr>\n",
       "      <th>3870</th>\n",
       "      <td>1</td>\n",
       "      <td>0</td>\n",
       "      <td>1</td>\n",
       "      <td>0</td>\n",
       "      <td>68</td>\n",
       "      <td>0</td>\n",
       "      <td>0</td>\n",
       "      <td>1</td>\n",
       "      <td>0</td>\n",
       "      <td>1</td>\n",
       "      <td>...</td>\n",
       "      <td>1</td>\n",
       "      <td>0</td>\n",
       "      <td>0</td>\n",
       "      <td>0</td>\n",
       "      <td>1</td>\n",
       "      <td>0</td>\n",
       "      <td>0</td>\n",
       "      <td>0</td>\n",
       "      <td>1</td>\n",
       "      <td>0</td>\n",
       "    </tr>\n",
       "    <tr>\n",
       "      <th>6503</th>\n",
       "      <td>0</td>\n",
       "      <td>0</td>\n",
       "      <td>1</td>\n",
       "      <td>1</td>\n",
       "      <td>70</td>\n",
       "      <td>0</td>\n",
       "      <td>0</td>\n",
       "      <td>0</td>\n",
       "      <td>1</td>\n",
       "      <td>1</td>\n",
       "      <td>...</td>\n",
       "      <td>1</td>\n",
       "      <td>0</td>\n",
       "      <td>0</td>\n",
       "      <td>0</td>\n",
       "      <td>1</td>\n",
       "      <td>0</td>\n",
       "      <td>0</td>\n",
       "      <td>0</td>\n",
       "      <td>1</td>\n",
       "      <td>0</td>\n",
       "    </tr>\n",
       "    <tr>\n",
       "      <th>4581</th>\n",
       "      <td>0</td>\n",
       "      <td>0</td>\n",
       "      <td>0</td>\n",
       "      <td>0</td>\n",
       "      <td>58</td>\n",
       "      <td>1</td>\n",
       "      <td>0</td>\n",
       "      <td>0</td>\n",
       "      <td>0</td>\n",
       "      <td>0</td>\n",
       "      <td>...</td>\n",
       "      <td>0</td>\n",
       "      <td>0</td>\n",
       "      <td>1</td>\n",
       "      <td>0</td>\n",
       "      <td>0</td>\n",
       "      <td>1</td>\n",
       "      <td>0</td>\n",
       "      <td>0</td>\n",
       "      <td>0</td>\n",
       "      <td>1</td>\n",
       "    </tr>\n",
       "    <tr>\n",
       "      <th>6733</th>\n",
       "      <td>0</td>\n",
       "      <td>0</td>\n",
       "      <td>0</td>\n",
       "      <td>0</td>\n",
       "      <td>27</td>\n",
       "      <td>1</td>\n",
       "      <td>0</td>\n",
       "      <td>1</td>\n",
       "      <td>0</td>\n",
       "      <td>0</td>\n",
       "      <td>...</td>\n",
       "      <td>1</td>\n",
       "      <td>0</td>\n",
       "      <td>0</td>\n",
       "      <td>1</td>\n",
       "      <td>0</td>\n",
       "      <td>0</td>\n",
       "      <td>0</td>\n",
       "      <td>0</td>\n",
       "      <td>0</td>\n",
       "      <td>1</td>\n",
       "    </tr>\n",
       "    <tr>\n",
       "      <th>787</th>\n",
       "      <td>1</td>\n",
       "      <td>0</td>\n",
       "      <td>1</td>\n",
       "      <td>0</td>\n",
       "      <td>34</td>\n",
       "      <td>1</td>\n",
       "      <td>1</td>\n",
       "      <td>1</td>\n",
       "      <td>0</td>\n",
       "      <td>0</td>\n",
       "      <td>...</td>\n",
       "      <td>1</td>\n",
       "      <td>0</td>\n",
       "      <td>0</td>\n",
       "      <td>1</td>\n",
       "      <td>0</td>\n",
       "      <td>0</td>\n",
       "      <td>1</td>\n",
       "      <td>0</td>\n",
       "      <td>0</td>\n",
       "      <td>0</td>\n",
       "    </tr>\n",
       "  </tbody>\n",
       "</table>\n",
       "<p>5 rows × 27 columns</p>\n",
       "</div>"
      ],
      "text/plain": [
       "      gender  SeniorCitizen  Partner  Dependents  tenure  PhoneService  \\\n",
       "3870       1              0        1           0      68             0   \n",
       "6503       0              0        1           1      70             0   \n",
       "4581       0              0        0           0      58             1   \n",
       "6733       0              0        0           0      27             1   \n",
       "787        1              0        1           0      34             1   \n",
       "\n",
       "      MultipleLines  OnlineSecurity  OnlineBackup  DeviceProtection  ...  \\\n",
       "3870              0               1             0                 1  ...   \n",
       "6503              0               0             1                 1  ...   \n",
       "4581              0               0             0                 0  ...   \n",
       "6733              0               1             0                 0  ...   \n",
       "787               1               1             0                 0  ...   \n",
       "\n",
       "      InternetService_DSL  InternetService_Fiber optic  InternetService_No  \\\n",
       "3870                    1                            0                   0   \n",
       "6503                    1                            0                   0   \n",
       "4581                    0                            0                   1   \n",
       "6733                    1                            0                   0   \n",
       "787                     1                            0                   0   \n",
       "\n",
       "      Contract_Month-to-month  Contract_One year  Contract_Two year  \\\n",
       "3870                        0                  1                  0   \n",
       "6503                        0                  1                  0   \n",
       "4581                        0                  0                  1   \n",
       "6733                        1                  0                  0   \n",
       "787                         1                  0                  0   \n",
       "\n",
       "      PaymentMethod_Bank transfer (automatic)  \\\n",
       "3870                                        0   \n",
       "6503                                        0   \n",
       "4581                                        0   \n",
       "6733                                        0   \n",
       "787                                         1   \n",
       "\n",
       "      PaymentMethod_Credit card (automatic)  PaymentMethod_Electronic check  \\\n",
       "3870                                      0                               1   \n",
       "6503                                      0                               1   \n",
       "4581                                      0                               0   \n",
       "6733                                      0                               0   \n",
       "787                                       0                               0   \n",
       "\n",
       "      PaymentMethod_Mailed check  \n",
       "3870                           0  \n",
       "6503                           0  \n",
       "4581                           1  \n",
       "6733                           1  \n",
       "787                            0  \n",
       "\n",
       "[5 rows x 27 columns]"
      ]
     },
     "execution_count": 15,
     "metadata": {},
     "output_type": "execute_result"
    }
   ],
   "source": [
    "df2.sample(5)"
   ]
  },
  {
   "cell_type": "code",
   "execution_count": 16,
   "id": "754c0fc9",
   "metadata": {
    "scrolled": true
   },
   "outputs": [
    {
     "name": "stdout",
     "output_type": "stream",
     "text": [
      "InternetService_Fiber optic: [0 1]\n",
      " count: 2\n",
      "InternetService_DSL: [1 0]\n",
      " count: 2\n",
      "SeniorCitizen: [0 1]\n",
      " count: 2\n",
      "Dependents: [0 1]\n",
      " count: 2\n",
      "MultipleLines: [0 1]\n",
      " count: 2\n",
      "TechSupport: [0 1]\n",
      " count: 2\n",
      "Contract_One year: [0 1]\n",
      " count: 2\n",
      "OnlineSecurity: [0 1]\n",
      " count: 2\n",
      "PhoneService: [0 1]\n",
      " count: 2\n",
      "Contract_Two year: [0 1]\n",
      " count: 2\n",
      "PaymentMethod_Bank transfer (automatic): [0 1]\n",
      " count: 2\n",
      "Churn: [0 1]\n",
      " count: 2\n",
      "InternetService_No: [0 1]\n",
      " count: 2\n",
      "OnlineBackup: [1 0]\n",
      " count: 2\n",
      "PaymentMethod_Mailed check: [0 1]\n",
      " count: 2\n",
      "Partner: [1 0]\n",
      " count: 2\n",
      "DeviceProtection: [0 1]\n",
      " count: 2\n",
      "Contract_Month-to-month: [1 0]\n",
      " count: 2\n",
      "gender: [1 0]\n",
      " count: 2\n",
      "PaymentMethod_Electronic check: [1 0]\n",
      " count: 2\n",
      "StreamingMovies: [0 1]\n",
      " count: 2\n",
      "PaymentMethod_Credit card (automatic): [0 1]\n",
      " count: 2\n",
      "StreamingTV: [0 1]\n",
      " count: 2\n",
      "PaperlessBilling: [1 0]\n",
      " count: 2\n"
     ]
    }
   ],
   "source": [
    "print_unique_columns(df2)"
   ]
  },
  {
   "cell_type": "code",
   "execution_count": 17,
   "id": "2829f99b",
   "metadata": {},
   "outputs": [
    {
     "data": {
      "text/plain": [
       "gender                                       int64\n",
       "SeniorCitizen                                int64\n",
       "Partner                                      int64\n",
       "Dependents                                   int64\n",
       "tenure                                       int64\n",
       "PhoneService                                 int64\n",
       "MultipleLines                                int64\n",
       "OnlineSecurity                               int64\n",
       "OnlineBackup                                 int64\n",
       "DeviceProtection                             int64\n",
       "TechSupport                                  int64\n",
       "StreamingTV                                  int64\n",
       "StreamingMovies                              int64\n",
       "PaperlessBilling                             int64\n",
       "MonthlyCharges                             float64\n",
       "TotalCharges                               float64\n",
       "Churn                                        int64\n",
       "InternetService_DSL                          uint8\n",
       "InternetService_Fiber optic                  uint8\n",
       "InternetService_No                           uint8\n",
       "Contract_Month-to-month                      uint8\n",
       "Contract_One year                            uint8\n",
       "Contract_Two year                            uint8\n",
       "PaymentMethod_Bank transfer (automatic)      uint8\n",
       "PaymentMethod_Credit card (automatic)        uint8\n",
       "PaymentMethod_Electronic check               uint8\n",
       "PaymentMethod_Mailed check                   uint8\n",
       "dtype: object"
      ]
     },
     "execution_count": 17,
     "metadata": {},
     "output_type": "execute_result"
    }
   ],
   "source": [
    "df2.dtypes"
   ]
  },
  {
   "cell_type": "code",
   "execution_count": 18,
   "id": "54592b43",
   "metadata": {},
   "outputs": [
    {
     "data": {
      "text/html": [
       "<div>\n",
       "<style scoped>\n",
       "    .dataframe tbody tr th:only-of-type {\n",
       "        vertical-align: middle;\n",
       "    }\n",
       "\n",
       "    .dataframe tbody tr th {\n",
       "        vertical-align: top;\n",
       "    }\n",
       "\n",
       "    .dataframe thead th {\n",
       "        text-align: right;\n",
       "    }\n",
       "</style>\n",
       "<table border=\"1\" class=\"dataframe\">\n",
       "  <thead>\n",
       "    <tr style=\"text-align: right;\">\n",
       "      <th></th>\n",
       "      <th>tenure</th>\n",
       "      <th>MonthlyCharges</th>\n",
       "      <th>TotalCharges</th>\n",
       "    </tr>\n",
       "  </thead>\n",
       "  <tbody>\n",
       "    <tr>\n",
       "      <th>5523</th>\n",
       "      <td>0.084507</td>\n",
       "      <td>0.506965</td>\n",
       "      <td>0.052937</td>\n",
       "    </tr>\n",
       "    <tr>\n",
       "      <th>4205</th>\n",
       "      <td>0.323944</td>\n",
       "      <td>0.600498</td>\n",
       "      <td>0.210922</td>\n",
       "    </tr>\n",
       "    <tr>\n",
       "      <th>3760</th>\n",
       "      <td>0.028169</td>\n",
       "      <td>0.550746</td>\n",
       "      <td>0.024660</td>\n",
       "    </tr>\n",
       "  </tbody>\n",
       "</table>\n",
       "</div>"
      ],
      "text/plain": [
       "        tenure  MonthlyCharges  TotalCharges\n",
       "5523  0.084507        0.506965      0.052937\n",
       "4205  0.323944        0.600498      0.210922\n",
       "3760  0.028169        0.550746      0.024660"
      ]
     },
     "execution_count": 18,
     "metadata": {},
     "output_type": "execute_result"
    }
   ],
   "source": [
    "cols_to_scale = ['tenure', 'MonthlyCharges', 'TotalCharges']\n",
    "\n",
    "from sklearn.preprocessing import MinMaxScaler\n",
    "\n",
    "scaler = MinMaxScaler()\n",
    "df2[cols_to_scale] = scaler.fit_transform(df2[cols_to_scale])\n",
    "df2[cols_to_scale].sample(3)"
   ]
  },
  {
   "cell_type": "code",
   "execution_count": 19,
   "id": "58348f23",
   "metadata": {},
   "outputs": [],
   "source": [
    "X = df2.drop('Churn', axis = 1)\n",
    "y = df2.Churn"
   ]
  },
  {
   "cell_type": "code",
   "execution_count": 20,
   "id": "0f528ef8",
   "metadata": {},
   "outputs": [],
   "source": [
    "from sklearn.model_selection import train_test_split\n",
    "\n",
    "X_train, X_test, y_train, y_test = train_test_split(X, y, test_size = 0.2)"
   ]
  },
  {
   "cell_type": "code",
   "execution_count": 21,
   "id": "2d4db749",
   "metadata": {},
   "outputs": [
    {
     "data": {
      "text/plain": [
       "((5625, 26), (1407, 26), (5625,), (1407,))"
      ]
     },
     "execution_count": 21,
     "metadata": {},
     "output_type": "execute_result"
    }
   ],
   "source": [
    "X_train.shape, X_test.shape, y_train.shape, y_test.shape"
   ]
  },
  {
   "cell_type": "code",
   "execution_count": 30,
   "id": "9a4def2a",
   "metadata": {},
   "outputs": [],
   "source": [
    "from sklearn.metrics import classification_report\n",
    "\n",
    "def ANN(X_train, X_test, y_train, y_test, loss, weights):\n",
    "    model = keras.Sequential([\n",
    "    keras.layers.Dense(26, input_dim = 26, activation = 'relu'),\n",
    "    keras.layers.Dense(15, activation = 'relu'),\n",
    "    keras.layers.Dense(1, activation = 'sigmoid')\n",
    "    ])\n",
    "\n",
    "    model.compile(optimizer = 'adam', loss = loss, metrics = ['accuracy'])\n",
    "    if weights == -1:\n",
    "        model.fit(X_train, y_train, epochs = 100)\n",
    "    else:\n",
    "        model.fit(X_train, y_train, epochs = 100, class_weight = weights)\n",
    "    model.evaluate(X_test, y_test)\n",
    "    y_preds = model.predict(X_test)\n",
    "    y_preds = np.round(y_preds)\n",
    "    print(classification_report(y_test, y_preds))\n",
    "    \n",
    "    return y_preds"
   ]
  },
  {
   "cell_type": "code",
   "execution_count": 31,
   "id": "5e048360",
   "metadata": {
    "scrolled": true
   },
   "outputs": [
    {
     "name": "stdout",
     "output_type": "stream",
     "text": [
      "Epoch 1/100\n",
      "94/94 [==============================] - 1s 2ms/step - loss: 0.6278 - accuracy: 0.6769\n",
      "Epoch 2/100\n",
      "94/94 [==============================] - 0s 3ms/step - loss: 0.5197 - accuracy: 0.7522\n",
      "Epoch 3/100\n",
      "94/94 [==============================] - 0s 3ms/step - loss: 0.4970 - accuracy: 0.7552\n",
      "Epoch 4/100\n",
      "94/94 [==============================] - 0s 3ms/step - loss: 0.4909 - accuracy: 0.7645\n",
      "Epoch 5/100\n",
      "94/94 [==============================] - 0s 3ms/step - loss: 0.4864 - accuracy: 0.7669\n",
      "Epoch 6/100\n",
      "94/94 [==============================] - 0s 2ms/step - loss: 0.4833 - accuracy: 0.7679\n",
      "Epoch 7/100\n",
      "94/94 [==============================] - 0s 2ms/step - loss: 0.4803 - accuracy: 0.7706\n",
      "Epoch 8/100\n",
      "94/94 [==============================] - ETA: 0s - loss: 0.4752 - accuracy: 0.76 - 0s 2ms/step - loss: 0.4780 - accuracy: 0.7689\n",
      "Epoch 9/100\n",
      "94/94 [==============================] - 0s 2ms/step - loss: 0.4756 - accuracy: 0.7702\n",
      "Epoch 10/100\n",
      "94/94 [==============================] - 0s 2ms/step - loss: 0.4740 - accuracy: 0.7719\n",
      "Epoch 11/100\n",
      "94/94 [==============================] - 0s 2ms/step - loss: 0.4735 - accuracy: 0.7769\n",
      "Epoch 12/100\n",
      "94/94 [==============================] - 0s 2ms/step - loss: 0.4721 - accuracy: 0.7736\n",
      "Epoch 13/100\n",
      "94/94 [==============================] - 0s 2ms/step - loss: 0.4693 - accuracy: 0.7709\n",
      "Epoch 14/100\n",
      "94/94 [==============================] - 0s 2ms/step - loss: 0.4695 - accuracy: 0.7766\n",
      "Epoch 15/100\n",
      "94/94 [==============================] - 0s 2ms/step - loss: 0.4670 - accuracy: 0.7766\n",
      "Epoch 16/100\n",
      "94/94 [==============================] - 0s 2ms/step - loss: 0.4671 - accuracy: 0.7766\n",
      "Epoch 17/100\n",
      "94/94 [==============================] - 0s 2ms/step - loss: 0.4654 - accuracy: 0.7816\n",
      "Epoch 18/100\n",
      "94/94 [==============================] - 0s 2ms/step - loss: 0.4648 - accuracy: 0.7726\n",
      "Epoch 19/100\n",
      "94/94 [==============================] - 0s 2ms/step - loss: 0.4637 - accuracy: 0.7803\n",
      "Epoch 20/100\n",
      "94/94 [==============================] - 0s 2ms/step - loss: 0.4604 - accuracy: 0.7803\n",
      "Epoch 21/100\n",
      "94/94 [==============================] - 0s 2ms/step - loss: 0.4616 - accuracy: 0.7769\n",
      "Epoch 22/100\n",
      "94/94 [==============================] - 0s 2ms/step - loss: 0.4588 - accuracy: 0.7823\n",
      "Epoch 23/100\n",
      "94/94 [==============================] - 0s 3ms/step - loss: 0.4587 - accuracy: 0.7796\n",
      "Epoch 24/100\n",
      "94/94 [==============================] - 0s 2ms/step - loss: 0.4578 - accuracy: 0.7843\n",
      "Epoch 25/100\n",
      "94/94 [==============================] - 0s 2ms/step - loss: 0.4573 - accuracy: 0.7829\n",
      "Epoch 26/100\n",
      "94/94 [==============================] - 0s 2ms/step - loss: 0.4551 - accuracy: 0.7819\n",
      "Epoch 27/100\n",
      "94/94 [==============================] - 0s 2ms/step - loss: 0.4544 - accuracy: 0.7813\n",
      "Epoch 28/100\n",
      "94/94 [==============================] - 0s 2ms/step - loss: 0.4539 - accuracy: 0.7843\n",
      "Epoch 29/100\n",
      "94/94 [==============================] - 0s 2ms/step - loss: 0.4521 - accuracy: 0.7856\n",
      "Epoch 30/100\n",
      "94/94 [==============================] - 0s 2ms/step - loss: 0.4515 - accuracy: 0.7803\n",
      "Epoch 31/100\n",
      "94/94 [==============================] - 0s 2ms/step - loss: 0.4511 - accuracy: 0.7843\n",
      "Epoch 32/100\n",
      "94/94 [==============================] - 0s 2ms/step - loss: 0.4491 - accuracy: 0.7826\n",
      "Epoch 33/100\n",
      "94/94 [==============================] - 0s 2ms/step - loss: 0.4484 - accuracy: 0.7883\n",
      "Epoch 34/100\n",
      "94/94 [==============================] - 0s 2ms/step - loss: 0.4473 - accuracy: 0.7856\n",
      "Epoch 35/100\n",
      "94/94 [==============================] - 0s 2ms/step - loss: 0.4458 - accuracy: 0.7860\n",
      "Epoch 36/100\n",
      "94/94 [==============================] - 0s 2ms/step - loss: 0.4451 - accuracy: 0.7853\n",
      "Epoch 37/100\n",
      "94/94 [==============================] - 0s 2ms/step - loss: 0.4436 - accuracy: 0.7896\n",
      "Epoch 38/100\n",
      "94/94 [==============================] - 0s 2ms/step - loss: 0.4430 - accuracy: 0.7903\n",
      "Epoch 39/100\n",
      "94/94 [==============================] - 0s 2ms/step - loss: 0.4430 - accuracy: 0.7873\n",
      "Epoch 40/100\n",
      "94/94 [==============================] - 0s 2ms/step - loss: 0.4419 - accuracy: 0.7923\n",
      "Epoch 41/100\n",
      "94/94 [==============================] - 0s 2ms/step - loss: 0.4414 - accuracy: 0.7883\n",
      "Epoch 42/100\n",
      "94/94 [==============================] - 0s 2ms/step - loss: 0.4395 - accuracy: 0.7940\n",
      "Epoch 43/100\n",
      "94/94 [==============================] - 0s 2ms/step - loss: 0.4392 - accuracy: 0.7913\n",
      "Epoch 44/100\n",
      "94/94 [==============================] - 0s 2ms/step - loss: 0.4386 - accuracy: 0.7896\n",
      "Epoch 45/100\n",
      "94/94 [==============================] - 0s 2ms/step - loss: 0.4367 - accuracy: 0.7920\n",
      "Epoch 46/100\n",
      "94/94 [==============================] - 0s 2ms/step - loss: 0.4362 - accuracy: 0.7916\n",
      "Epoch 47/100\n",
      "94/94 [==============================] - 0s 2ms/step - loss: 0.4374 - accuracy: 0.7880\n",
      "Epoch 48/100\n",
      "94/94 [==============================] - 0s 2ms/step - loss: 0.4350 - accuracy: 0.7960\n",
      "Epoch 49/100\n",
      "94/94 [==============================] - 0s 2ms/step - loss: 0.4350 - accuracy: 0.7876\n",
      "Epoch 50/100\n",
      "94/94 [==============================] - 0s 2ms/step - loss: 0.4349 - accuracy: 0.7926\n",
      "Epoch 51/100\n",
      "94/94 [==============================] - 0s 3ms/step - loss: 0.4328 - accuracy: 0.7893\n",
      "Epoch 52/100\n",
      "94/94 [==============================] - 0s 3ms/step - loss: 0.4321 - accuracy: 0.7920\n",
      "Epoch 53/100\n",
      "94/94 [==============================] - 0s 3ms/step - loss: 0.4308 - accuracy: 0.7946\n",
      "Epoch 54/100\n",
      "94/94 [==============================] - 0s 1ms/step - loss: 0.4300 - accuracy: 0.7960\n",
      "Epoch 55/100\n",
      "94/94 [==============================] - 0s 3ms/step - loss: 0.4290 - accuracy: 0.7963\n",
      "Epoch 56/100\n",
      "94/94 [==============================] - 0s 1ms/step - loss: 0.4323 - accuracy: 0.7910\n",
      "Epoch 57/100\n",
      "94/94 [==============================] - 0s 1ms/step - loss: 0.4284 - accuracy: 0.7953\n",
      "Epoch 58/100\n",
      "94/94 [==============================] - 0s 4ms/step - loss: 0.4262 - accuracy: 0.7993\n",
      "Epoch 59/100\n",
      "94/94 [==============================] - 0s 4ms/step - loss: 0.4265 - accuracy: 0.7953\n",
      "Epoch 60/100\n",
      "94/94 [==============================] - 0s 2ms/step - loss: 0.4247 - accuracy: 0.7970\n",
      "Epoch 61/100\n",
      "94/94 [==============================] - 0s 2ms/step - loss: 0.4236 - accuracy: 0.7953\n",
      "Epoch 62/100\n",
      "94/94 [==============================] - 0s 2ms/step - loss: 0.4240 - accuracy: 0.8000\n",
      "Epoch 63/100\n",
      "94/94 [==============================] - 0s 2ms/step - loss: 0.4220 - accuracy: 0.7997\n",
      "Epoch 64/100\n",
      "94/94 [==============================] - 0s 2ms/step - loss: 0.4227 - accuracy: 0.8010\n",
      "Epoch 65/100\n",
      "94/94 [==============================] - 0s 2ms/step - loss: 0.4214 - accuracy: 0.7983\n",
      "Epoch 66/100\n",
      "94/94 [==============================] - 0s 2ms/step - loss: 0.4203 - accuracy: 0.8023\n",
      "Epoch 67/100\n",
      "94/94 [==============================] - 0s 2ms/step - loss: 0.4203 - accuracy: 0.8010\n",
      "Epoch 68/100\n",
      "94/94 [==============================] - 0s 2ms/step - loss: 0.4217 - accuracy: 0.7997\n",
      "Epoch 69/100\n",
      "94/94 [==============================] - 0s 2ms/step - loss: 0.4179 - accuracy: 0.8047\n",
      "Epoch 70/100\n",
      "94/94 [==============================] - 0s 2ms/step - loss: 0.4189 - accuracy: 0.8007\n",
      "Epoch 71/100\n",
      "94/94 [==============================] - 0s 2ms/step - loss: 0.4171 - accuracy: 0.8020\n",
      "Epoch 72/100\n",
      "94/94 [==============================] - 0s 2ms/step - loss: 0.4161 - accuracy: 0.8003\n",
      "Epoch 73/100\n",
      "94/94 [==============================] - 0s 2ms/step - loss: 0.4157 - accuracy: 0.8003\n",
      "Epoch 74/100\n",
      "94/94 [==============================] - 0s 2ms/step - loss: 0.4158 - accuracy: 0.7997\n",
      "Epoch 75/100\n",
      "94/94 [==============================] - 0s 2ms/step - loss: 0.4145 - accuracy: 0.8060\n",
      "Epoch 76/100\n",
      "94/94 [==============================] - 0s 2ms/step - loss: 0.4135 - accuracy: 0.8074\n",
      "Epoch 77/100\n",
      "94/94 [==============================] - 0s 2ms/step - loss: 0.4126 - accuracy: 0.8117\n",
      "Epoch 78/100\n",
      "94/94 [==============================] - 0s 2ms/step - loss: 0.4121 - accuracy: 0.8057\n",
      "Epoch 79/100\n",
      "94/94 [==============================] - 0s 2ms/step - loss: 0.4104 - accuracy: 0.8064\n",
      "Epoch 80/100\n",
      "94/94 [==============================] - 0s 2ms/step - loss: 0.4111 - accuracy: 0.8060\n",
      "Epoch 81/100\n",
      "94/94 [==============================] - 0s 2ms/step - loss: 0.4095 - accuracy: 0.8067\n",
      "Epoch 82/100\n",
      "94/94 [==============================] - 0s 2ms/step - loss: 0.4120 - accuracy: 0.8060\n",
      "Epoch 83/100\n",
      "94/94 [==============================] - 0s 2ms/step - loss: 0.4079 - accuracy: 0.8120\n",
      "Epoch 84/100\n",
      "94/94 [==============================] - 0s 2ms/step - loss: 0.4075 - accuracy: 0.8027\n",
      "Epoch 85/100\n",
      "94/94 [==============================] - 0s 2ms/step - loss: 0.4070 - accuracy: 0.8097\n",
      "Epoch 86/100\n",
      "94/94 [==============================] - 0s 2ms/step - loss: 0.4072 - accuracy: 0.8060\n",
      "Epoch 87/100\n",
      "94/94 [==============================] - 0s 2ms/step - loss: 0.4051 - accuracy: 0.8100\n",
      "Epoch 88/100\n",
      "94/94 [==============================] - 0s 2ms/step - loss: 0.4067 - accuracy: 0.8100\n",
      "Epoch 89/100\n",
      "94/94 [==============================] - 0s 2ms/step - loss: 0.4048 - accuracy: 0.8087\n",
      "Epoch 90/100\n",
      "94/94 [==============================] - 0s 2ms/step - loss: 0.4043 - accuracy: 0.8107\n",
      "Epoch 91/100\n",
      "94/94 [==============================] - 0s 2ms/step - loss: 0.4029 - accuracy: 0.8087\n",
      "Epoch 92/100\n",
      "94/94 [==============================] - 0s 2ms/step - loss: 0.4031 - accuracy: 0.8127\n",
      "Epoch 93/100\n",
      "94/94 [==============================] - 0s 2ms/step - loss: 0.4019 - accuracy: 0.8084\n",
      "Epoch 94/100\n",
      "94/94 [==============================] - 0s 2ms/step - loss: 0.4028 - accuracy: 0.8110\n",
      "Epoch 95/100\n",
      "94/94 [==============================] - 0s 2ms/step - loss: 0.4021 - accuracy: 0.8094\n",
      "Epoch 96/100\n",
      "94/94 [==============================] - 0s 2ms/step - loss: 0.4014 - accuracy: 0.8140\n",
      "Epoch 97/100\n",
      "94/94 [==============================] - 0s 2ms/step - loss: 0.4008 - accuracy: 0.8100\n",
      "Epoch 98/100\n",
      "94/94 [==============================] - 0s 1ms/step - loss: 0.3990 - accuracy: 0.8110\n",
      "Epoch 99/100\n",
      "94/94 [==============================] - 0s 2ms/step - loss: 0.3988 - accuracy: 0.8187\n",
      "Epoch 100/100\n",
      "94/94 [==============================] - 0s 2ms/step - loss: 0.3972 - accuracy: 0.8151\n",
      "24/24 [==============================] - 0s 1ms/step - loss: 0.5481 - accuracy: 0.7487\n",
      "              precision    recall  f1-score   support\n",
      "\n",
      "           0       0.75      0.74      0.75       374\n",
      "           1       0.74      0.76      0.75       374\n",
      "\n",
      "    accuracy                           0.75       748\n",
      "   macro avg       0.75      0.75      0.75       748\n",
      "weighted avg       0.75      0.75      0.75       748\n",
      "\n"
     ]
    }
   ],
   "source": [
    "y_preds = ANN(X_train, X_test, y_train, y_test, 'binary_crossentropy', -1)"
   ]
  },
  {
   "cell_type": "code",
   "execution_count": 32,
   "id": "23439c6e",
   "metadata": {},
   "outputs": [],
   "source": [
    "class_0, class_1 = df2.Churn.value_counts()\n",
    "df_class_0 = df2[df2.Churn == 0]\n",
    "df_class_1 = df2[df2.Churn == 1]"
   ]
  },
  {
   "cell_type": "code",
   "execution_count": 33,
   "id": "4c450217",
   "metadata": {},
   "outputs": [
    {
     "data": {
      "text/plain": [
       "((5163, 27), (1869, 27))"
      ]
     },
     "execution_count": 33,
     "metadata": {},
     "output_type": "execute_result"
    }
   ],
   "source": [
    "df_class_0.shape, df_class_1.shape"
   ]
  },
  {
   "cell_type": "markdown",
   "id": "c69a707e",
   "metadata": {},
   "source": [
    "# method 1: undersampling"
   ]
  },
  {
   "cell_type": "code",
   "execution_count": 34,
   "id": "4dffc0b7",
   "metadata": {},
   "outputs": [
    {
     "data": {
      "text/plain": [
       "(3738, 27)"
      ]
     },
     "execution_count": 34,
     "metadata": {},
     "output_type": "execute_result"
    }
   ],
   "source": [
    "df_class_0_under = df_class_0.sample(class_1)\n",
    "df_test_under = pd.concat([df_class_0_under, df_class_1], axis = 0)\n",
    "df_test_under.shape"
   ]
  },
  {
   "cell_type": "code",
   "execution_count": 35,
   "id": "ffef16f6",
   "metadata": {},
   "outputs": [
    {
     "data": {
      "text/plain": [
       "0    1869\n",
       "1    1869\n",
       "Name: Churn, dtype: int64"
      ]
     },
     "execution_count": 35,
     "metadata": {},
     "output_type": "execute_result"
    }
   ],
   "source": [
    "df_test_under.Churn.value_counts()"
   ]
  },
  {
   "cell_type": "code",
   "execution_count": 36,
   "id": "c6414b4a",
   "metadata": {},
   "outputs": [],
   "source": [
    "X = df_test_under.drop('Churn', axis = 1)\n",
    "y = df_test_under.Churn\n",
    "\n",
    "X_train, X_test, y_train, y_test = train_test_split(X, y, test_size = 0.2, stratify = y, random_state = 15)"
   ]
  },
  {
   "cell_type": "code",
   "execution_count": 37,
   "id": "2c0bcb97",
   "metadata": {},
   "outputs": [
    {
     "name": "stdout",
     "output_type": "stream",
     "text": [
      "Epoch 1/100\n",
      "94/94 [==============================] - 1s 2ms/step - loss: 0.6217 - accuracy: 0.6649\n",
      "Epoch 2/100\n",
      "94/94 [==============================] - 0s 2ms/step - loss: 0.5227 - accuracy: 0.7589\n",
      "Epoch 3/100\n",
      "94/94 [==============================] - 0s 2ms/step - loss: 0.5030 - accuracy: 0.7635\n",
      "Epoch 4/100\n",
      "94/94 [==============================] - 0s 2ms/step - loss: 0.4945 - accuracy: 0.7635\n",
      "Epoch 5/100\n",
      "94/94 [==============================] - 0s 2ms/step - loss: 0.4900 - accuracy: 0.7645\n",
      "Epoch 6/100\n",
      "94/94 [==============================] - 0s 2ms/step - loss: 0.4890 - accuracy: 0.7682\n",
      "Epoch 7/100\n",
      "94/94 [==============================] - 0s 2ms/step - loss: 0.4858 - accuracy: 0.7642\n",
      "Epoch 8/100\n",
      "94/94 [==============================] - 0s 2ms/step - loss: 0.4820 - accuracy: 0.7669\n",
      "Epoch 9/100\n",
      "94/94 [==============================] - 0s 2ms/step - loss: 0.4810 - accuracy: 0.7682\n",
      "Epoch 10/100\n",
      "94/94 [==============================] - 0s 2ms/step - loss: 0.4801 - accuracy: 0.7635\n",
      "Epoch 11/100\n",
      "94/94 [==============================] - 0s 2ms/step - loss: 0.4769 - accuracy: 0.7696\n",
      "Epoch 12/100\n",
      "94/94 [==============================] - 0s 2ms/step - loss: 0.4745 - accuracy: 0.7712\n",
      "Epoch 13/100\n",
      "94/94 [==============================] - 0s 2ms/step - loss: 0.4725 - accuracy: 0.7726\n",
      "Epoch 14/100\n",
      "94/94 [==============================] - 0s 2ms/step - loss: 0.4721 - accuracy: 0.7756\n",
      "Epoch 15/100\n",
      "94/94 [==============================] - 0s 2ms/step - loss: 0.4692 - accuracy: 0.7702\n",
      "Epoch 16/100\n",
      "94/94 [==============================] - 0s 2ms/step - loss: 0.4679 - accuracy: 0.7719\n",
      "Epoch 17/100\n",
      "94/94 [==============================] - 0s 2ms/step - loss: 0.4660 - accuracy: 0.7783\n",
      "Epoch 18/100\n",
      "94/94 [==============================] - 0s 2ms/step - loss: 0.4646 - accuracy: 0.7763\n",
      "Epoch 19/100\n",
      "94/94 [==============================] - 0s 2ms/step - loss: 0.4631 - accuracy: 0.7712\n",
      "Epoch 20/100\n",
      "94/94 [==============================] - 0s 2ms/step - loss: 0.4623 - accuracy: 0.7759\n",
      "Epoch 21/100\n",
      "94/94 [==============================] - 0s 2ms/step - loss: 0.4614 - accuracy: 0.7736\n",
      "Epoch 22/100\n",
      "94/94 [==============================] - 0s 2ms/step - loss: 0.4591 - accuracy: 0.7739\n",
      "Epoch 23/100\n",
      "94/94 [==============================] - 0s 2ms/step - loss: 0.4591 - accuracy: 0.7756\n",
      "Epoch 24/100\n",
      "94/94 [==============================] - 0s 2ms/step - loss: 0.4567 - accuracy: 0.7742\n",
      "Epoch 25/100\n",
      "94/94 [==============================] - 0s 2ms/step - loss: 0.4553 - accuracy: 0.7753\n",
      "Epoch 26/100\n",
      "94/94 [==============================] - 0s 2ms/step - loss: 0.4539 - accuracy: 0.7786\n",
      "Epoch 27/100\n",
      "94/94 [==============================] - 0s 2ms/step - loss: 0.4534 - accuracy: 0.7806\n",
      "Epoch 28/100\n",
      "94/94 [==============================] - 0s 2ms/step - loss: 0.4524 - accuracy: 0.7783\n",
      "Epoch 29/100\n",
      "94/94 [==============================] - 0s 2ms/step - loss: 0.4519 - accuracy: 0.7769\n",
      "Epoch 30/100\n",
      "94/94 [==============================] - 0s 2ms/step - loss: 0.4495 - accuracy: 0.7833\n",
      "Epoch 31/100\n",
      "94/94 [==============================] - 0s 2ms/step - loss: 0.4497 - accuracy: 0.7786\n",
      "Epoch 32/100\n",
      "94/94 [==============================] - 0s 2ms/step - loss: 0.4480 - accuracy: 0.7779\n",
      "Epoch 33/100\n",
      "94/94 [==============================] - 0s 2ms/step - loss: 0.4453 - accuracy: 0.7823\n",
      "Epoch 34/100\n",
      "94/94 [==============================] - 0s 2ms/step - loss: 0.4442 - accuracy: 0.7826\n",
      "Epoch 35/100\n",
      "94/94 [==============================] - 0s 2ms/step - loss: 0.4426 - accuracy: 0.7833\n",
      "Epoch 36/100\n",
      "94/94 [==============================] - 0s 2ms/step - loss: 0.4427 - accuracy: 0.7860\n",
      "Epoch 37/100\n",
      "94/94 [==============================] - 0s 2ms/step - loss: 0.4417 - accuracy: 0.7853\n",
      "Epoch 38/100\n",
      "94/94 [==============================] - 0s 2ms/step - loss: 0.4392 - accuracy: 0.7866\n",
      "Epoch 39/100\n",
      "94/94 [==============================] - 0s 2ms/step - loss: 0.4375 - accuracy: 0.7873\n",
      "Epoch 40/100\n",
      "94/94 [==============================] - 0s 2ms/step - loss: 0.4394 - accuracy: 0.7866\n",
      "Epoch 41/100\n",
      "94/94 [==============================] - 0s 2ms/step - loss: 0.4370 - accuracy: 0.7916\n",
      "Epoch 42/100\n",
      "94/94 [==============================] - 0s 2ms/step - loss: 0.4359 - accuracy: 0.7910\n",
      "Epoch 43/100\n",
      "94/94 [==============================] - 0s 2ms/step - loss: 0.4334 - accuracy: 0.7873\n",
      "Epoch 44/100\n",
      "94/94 [==============================] - 0s 2ms/step - loss: 0.4324 - accuracy: 0.7849\n",
      "Epoch 45/100\n",
      "94/94 [==============================] - 0s 2ms/step - loss: 0.4322 - accuracy: 0.7903\n",
      "Epoch 46/100\n",
      "94/94 [==============================] - 0s 2ms/step - loss: 0.4299 - accuracy: 0.7953\n",
      "Epoch 47/100\n",
      "94/94 [==============================] - 0s 2ms/step - loss: 0.4299 - accuracy: 0.7906\n",
      "Epoch 48/100\n",
      "94/94 [==============================] - 0s 2ms/step - loss: 0.4292 - accuracy: 0.7873\n",
      "Epoch 49/100\n",
      "94/94 [==============================] - 0s 2ms/step - loss: 0.4278 - accuracy: 0.7936\n",
      "Epoch 50/100\n",
      "94/94 [==============================] - 0s 2ms/step - loss: 0.4264 - accuracy: 0.7950\n",
      "Epoch 51/100\n",
      "94/94 [==============================] - 0s 2ms/step - loss: 0.4270 - accuracy: 0.7950\n",
      "Epoch 52/100\n",
      "94/94 [==============================] - 0s 2ms/step - loss: 0.4243 - accuracy: 0.8000\n",
      "Epoch 53/100\n",
      "94/94 [==============================] - 0s 2ms/step - loss: 0.4233 - accuracy: 0.7967\n",
      "Epoch 54/100\n",
      "94/94 [==============================] - 0s 2ms/step - loss: 0.4230 - accuracy: 0.7920\n",
      "Epoch 55/100\n",
      "94/94 [==============================] - 0s 2ms/step - loss: 0.4207 - accuracy: 0.7993\n",
      "Epoch 56/100\n",
      "94/94 [==============================] - 0s 2ms/step - loss: 0.4202 - accuracy: 0.8000\n",
      "Epoch 57/100\n",
      "94/94 [==============================] - 0s 2ms/step - loss: 0.4203 - accuracy: 0.7970\n",
      "Epoch 58/100\n",
      "94/94 [==============================] - 0s 2ms/step - loss: 0.4192 - accuracy: 0.7987\n",
      "Epoch 59/100\n",
      "94/94 [==============================] - 0s 2ms/step - loss: 0.4171 - accuracy: 0.8027\n",
      "Epoch 60/100\n",
      "94/94 [==============================] - 0s 2ms/step - loss: 0.4181 - accuracy: 0.8003\n",
      "Epoch 61/100\n",
      "94/94 [==============================] - 0s 2ms/step - loss: 0.4164 - accuracy: 0.8023\n",
      "Epoch 62/100\n",
      "94/94 [==============================] - 0s 2ms/step - loss: 0.4145 - accuracy: 0.8030\n",
      "Epoch 63/100\n",
      "94/94 [==============================] - 0s 3ms/step - loss: 0.4154 - accuracy: 0.8047\n",
      "Epoch 64/100\n",
      "94/94 [==============================] - 0s 2ms/step - loss: 0.4134 - accuracy: 0.8057\n",
      "Epoch 65/100\n",
      "94/94 [==============================] - 0s 2ms/step - loss: 0.4110 - accuracy: 0.8047\n",
      "Epoch 66/100\n",
      "94/94 [==============================] - 0s 2ms/step - loss: 0.4102 - accuracy: 0.8020\n",
      "Epoch 67/100\n",
      "94/94 [==============================] - 0s 2ms/step - loss: 0.4103 - accuracy: 0.8027\n",
      "Epoch 68/100\n",
      "94/94 [==============================] - 0s 2ms/step - loss: 0.4094 - accuracy: 0.8023\n",
      "Epoch 69/100\n",
      "94/94 [==============================] - 0s 2ms/step - loss: 0.4085 - accuracy: 0.8027\n",
      "Epoch 70/100\n",
      "94/94 [==============================] - 0s 2ms/step - loss: 0.4070 - accuracy: 0.8064\n",
      "Epoch 71/100\n",
      "94/94 [==============================] - 0s 2ms/step - loss: 0.4058 - accuracy: 0.8087\n",
      "Epoch 72/100\n",
      "94/94 [==============================] - 0s 2ms/step - loss: 0.4057 - accuracy: 0.8087\n",
      "Epoch 73/100\n",
      "94/94 [==============================] - 0s 2ms/step - loss: 0.4052 - accuracy: 0.8087\n",
      "Epoch 74/100\n",
      "94/94 [==============================] - 0s 2ms/step - loss: 0.4038 - accuracy: 0.8080\n",
      "Epoch 75/100\n",
      "94/94 [==============================] - 0s 2ms/step - loss: 0.4027 - accuracy: 0.8060\n",
      "Epoch 76/100\n",
      "94/94 [==============================] - 0s 2ms/step - loss: 0.4029 - accuracy: 0.8110\n",
      "Epoch 77/100\n",
      "94/94 [==============================] - 0s 2ms/step - loss: 0.4018 - accuracy: 0.8120\n",
      "Epoch 78/100\n",
      "94/94 [==============================] - 0s 2ms/step - loss: 0.4003 - accuracy: 0.8110\n",
      "Epoch 79/100\n",
      "94/94 [==============================] - 0s 2ms/step - loss: 0.3983 - accuracy: 0.8100\n",
      "Epoch 80/100\n",
      "94/94 [==============================] - 0s 2ms/step - loss: 0.3982 - accuracy: 0.8147\n",
      "Epoch 81/100\n",
      "94/94 [==============================] - 0s 2ms/step - loss: 0.3987 - accuracy: 0.8057\n",
      "Epoch 82/100\n",
      "94/94 [==============================] - 0s 2ms/step - loss: 0.3966 - accuracy: 0.8161\n",
      "Epoch 83/100\n"
     ]
    },
    {
     "name": "stdout",
     "output_type": "stream",
     "text": [
      "94/94 [==============================] - 0s 2ms/step - loss: 0.3962 - accuracy: 0.8164\n",
      "Epoch 84/100\n",
      "94/94 [==============================] - 0s 2ms/step - loss: 0.3949 - accuracy: 0.8114\n",
      "Epoch 85/100\n",
      "94/94 [==============================] - 0s 2ms/step - loss: 0.3942 - accuracy: 0.8127\n",
      "Epoch 86/100\n",
      "94/94 [==============================] - 0s 2ms/step - loss: 0.3932 - accuracy: 0.8134\n",
      "Epoch 87/100\n",
      "94/94 [==============================] - 0s 2ms/step - loss: 0.3952 - accuracy: 0.8100\n",
      "Epoch 88/100\n",
      "94/94 [==============================] - 0s 2ms/step - loss: 0.3920 - accuracy: 0.8191\n",
      "Epoch 89/100\n",
      "94/94 [==============================] - 0s 2ms/step - loss: 0.3926 - accuracy: 0.8127\n",
      "Epoch 90/100\n",
      "94/94 [==============================] - 0s 2ms/step - loss: 0.3881 - accuracy: 0.8201\n",
      "Epoch 91/100\n",
      "94/94 [==============================] - 0s 2ms/step - loss: 0.3895 - accuracy: 0.8167\n",
      "Epoch 92/100\n",
      "94/94 [==============================] - 0s 2ms/step - loss: 0.3893 - accuracy: 0.8167\n",
      "Epoch 93/100\n",
      "94/94 [==============================] - 0s 2ms/step - loss: 0.3890 - accuracy: 0.8161\n",
      "Epoch 94/100\n",
      "94/94 [==============================] - 0s 2ms/step - loss: 0.3880 - accuracy: 0.8204\n",
      "Epoch 95/100\n",
      "94/94 [==============================] - 0s 2ms/step - loss: 0.3855 - accuracy: 0.8164\n",
      "Epoch 96/100\n",
      "94/94 [==============================] - 0s 2ms/step - loss: 0.3872 - accuracy: 0.8177\n",
      "Epoch 97/100\n",
      "94/94 [==============================] - 0s 2ms/step - loss: 0.3846 - accuracy: 0.8241\n",
      "Epoch 98/100\n",
      "94/94 [==============================] - 0s 2ms/step - loss: 0.3849 - accuracy: 0.8194\n",
      "Epoch 99/100\n",
      "94/94 [==============================] - 0s 2ms/step - loss: 0.3863 - accuracy: 0.8184\n",
      "Epoch 100/100\n",
      "94/94 [==============================] - 0s 2ms/step - loss: 0.3825 - accuracy: 0.8207\n",
      "24/24 [==============================] - 0s 1ms/step - loss: 0.5895 - accuracy: 0.7193\n",
      "              precision    recall  f1-score   support\n",
      "\n",
      "           0       0.73      0.70      0.71       374\n",
      "           1       0.71      0.74      0.73       374\n",
      "\n",
      "    accuracy                           0.72       748\n",
      "   macro avg       0.72      0.72      0.72       748\n",
      "weighted avg       0.72      0.72      0.72       748\n",
      "\n"
     ]
    }
   ],
   "source": [
    "y_preds = ANN(X_train, X_test, y_train, y_test, 'binary_crossentropy', -1)"
   ]
  },
  {
   "cell_type": "code",
   "execution_count": 38,
   "id": "0681d116",
   "metadata": {},
   "outputs": [
    {
     "data": {
      "text/plain": [
       "(5163, 1869)"
      ]
     },
     "execution_count": 38,
     "metadata": {},
     "output_type": "execute_result"
    }
   ],
   "source": [
    "class_0, class_1"
   ]
  },
  {
   "cell_type": "markdown",
   "id": "0af21c16",
   "metadata": {},
   "source": [
    "# method 2: over sampling (blind copying)"
   ]
  },
  {
   "cell_type": "code",
   "execution_count": 39,
   "id": "b882d501",
   "metadata": {},
   "outputs": [],
   "source": [
    "df_class_1_over = df_class_1.sample(class_0, replace = True)\n",
    "df_test_over = pd.concat([df_class_0, df_class_1_over], axis = 0)"
   ]
  },
  {
   "cell_type": "code",
   "execution_count": 40,
   "id": "790c5d85",
   "metadata": {},
   "outputs": [],
   "source": [
    "X = df_test_under.drop('Churn', axis = 1)\n",
    "y = df_test_under.Churn\n",
    "\n",
    "X_train, X_test, y_train, y_test = train_test_split(X, y, test_size = 0.2, stratify = y, random_state = 15)"
   ]
  },
  {
   "cell_type": "code",
   "execution_count": 41,
   "id": "3ac0ff9e",
   "metadata": {},
   "outputs": [
    {
     "data": {
      "text/plain": [
       "1    374\n",
       "0    374\n",
       "Name: Churn, dtype: int64"
      ]
     },
     "execution_count": 41,
     "metadata": {},
     "output_type": "execute_result"
    }
   ],
   "source": [
    "y_test.value_counts()"
   ]
  },
  {
   "cell_type": "code",
   "execution_count": 42,
   "id": "01816b76",
   "metadata": {
    "scrolled": true
   },
   "outputs": [
    {
     "name": "stdout",
     "output_type": "stream",
     "text": [
      "Epoch 1/100\n",
      "94/94 [==============================] - 1s 2ms/step - loss: 0.6019 - accuracy: 0.6712\n",
      "Epoch 2/100\n",
      "94/94 [==============================] - 0s 2ms/step - loss: 0.5139 - accuracy: 0.7472\n",
      "Epoch 3/100\n",
      "94/94 [==============================] - 0s 2ms/step - loss: 0.4970 - accuracy: 0.7555\n",
      "Epoch 4/100\n",
      "94/94 [==============================] - 0s 2ms/step - loss: 0.4906 - accuracy: 0.7575\n",
      "Epoch 5/100\n",
      "94/94 [==============================] - 0s 2ms/step - loss: 0.4850 - accuracy: 0.7592\n",
      "Epoch 6/100\n",
      "94/94 [==============================] - 0s 2ms/step - loss: 0.4818 - accuracy: 0.7632\n",
      "Epoch 7/100\n",
      "94/94 [==============================] - 0s 2ms/step - loss: 0.4802 - accuracy: 0.7699\n",
      "Epoch 8/100\n",
      "94/94 [==============================] - 0s 2ms/step - loss: 0.4754 - accuracy: 0.7699\n",
      "Epoch 9/100\n",
      "94/94 [==============================] - 0s 2ms/step - loss: 0.4741 - accuracy: 0.7689\n",
      "Epoch 10/100\n",
      "94/94 [==============================] - 0s 2ms/step - loss: 0.4716 - accuracy: 0.7709\n",
      "Epoch 11/100\n",
      "94/94 [==============================] - 0s 2ms/step - loss: 0.4704 - accuracy: 0.7719\n",
      "Epoch 12/100\n",
      "94/94 [==============================] - 0s 2ms/step - loss: 0.4701 - accuracy: 0.7746\n",
      "Epoch 13/100\n",
      "94/94 [==============================] - 0s 2ms/step - loss: 0.4675 - accuracy: 0.7729\n",
      "Epoch 14/100\n",
      "94/94 [==============================] - 0s 2ms/step - loss: 0.4666 - accuracy: 0.7789\n",
      "Epoch 15/100\n",
      "94/94 [==============================] - 0s 2ms/step - loss: 0.4642 - accuracy: 0.7756\n",
      "Epoch 16/100\n",
      "94/94 [==============================] - 0s 2ms/step - loss: 0.4626 - accuracy: 0.7773\n",
      "Epoch 17/100\n",
      "94/94 [==============================] - 0s 2ms/step - loss: 0.4610 - accuracy: 0.7813\n",
      "Epoch 18/100\n",
      "94/94 [==============================] - 0s 2ms/step - loss: 0.4590 - accuracy: 0.7833\n",
      "Epoch 19/100\n",
      "94/94 [==============================] - 0s 2ms/step - loss: 0.4577 - accuracy: 0.7816\n",
      "Epoch 20/100\n",
      "94/94 [==============================] - 0s 2ms/step - loss: 0.4571 - accuracy: 0.7779\n",
      "Epoch 21/100\n",
      "94/94 [==============================] - 0s 2ms/step - loss: 0.4552 - accuracy: 0.7860\n",
      "Epoch 22/100\n",
      "94/94 [==============================] - 0s 2ms/step - loss: 0.4534 - accuracy: 0.7843\n",
      "Epoch 23/100\n",
      "94/94 [==============================] - 0s 2ms/step - loss: 0.4513 - accuracy: 0.7846\n",
      "Epoch 24/100\n",
      "94/94 [==============================] - 0s 2ms/step - loss: 0.4524 - accuracy: 0.7843\n",
      "Epoch 25/100\n",
      "94/94 [==============================] - 0s 2ms/step - loss: 0.4484 - accuracy: 0.7856\n",
      "Epoch 26/100\n",
      "94/94 [==============================] - 0s 2ms/step - loss: 0.4483 - accuracy: 0.7870\n",
      "Epoch 27/100\n",
      "94/94 [==============================] - 0s 2ms/step - loss: 0.4457 - accuracy: 0.7853\n",
      "Epoch 28/100\n",
      "94/94 [==============================] - 0s 2ms/step - loss: 0.4454 - accuracy: 0.7849\n",
      "Epoch 29/100\n",
      "94/94 [==============================] - 0s 2ms/step - loss: 0.4434 - accuracy: 0.7900\n",
      "Epoch 30/100\n",
      "94/94 [==============================] - 0s 2ms/step - loss: 0.4415 - accuracy: 0.7876\n",
      "Epoch 31/100\n",
      "94/94 [==============================] - 0s 2ms/step - loss: 0.4412 - accuracy: 0.7916\n",
      "Epoch 32/100\n",
      "94/94 [==============================] - 0s 2ms/step - loss: 0.4406 - accuracy: 0.7883\n",
      "Epoch 33/100\n",
      "94/94 [==============================] - 0s 2ms/step - loss: 0.4385 - accuracy: 0.7886\n",
      "Epoch 34/100\n",
      "94/94 [==============================] - 0s 2ms/step - loss: 0.4384 - accuracy: 0.7900\n",
      "Epoch 35/100\n",
      "94/94 [==============================] - 0s 2ms/step - loss: 0.4364 - accuracy: 0.7930\n",
      "Epoch 36/100\n",
      "94/94 [==============================] - 0s 2ms/step - loss: 0.4360 - accuracy: 0.7943\n",
      "Epoch 37/100\n",
      "94/94 [==============================] - 0s 2ms/step - loss: 0.4346 - accuracy: 0.7920\n",
      "Epoch 38/100\n",
      "94/94 [==============================] - 0s 2ms/step - loss: 0.4338 - accuracy: 0.7913\n",
      "Epoch 39/100\n",
      "94/94 [==============================] - 0s 2ms/step - loss: 0.4342 - accuracy: 0.7910\n",
      "Epoch 40/100\n",
      "94/94 [==============================] - 0s 2ms/step - loss: 0.4325 - accuracy: 0.7967\n",
      "Epoch 41/100\n",
      "94/94 [==============================] - 0s 2ms/step - loss: 0.4310 - accuracy: 0.7970\n",
      "Epoch 42/100\n",
      "94/94 [==============================] - 0s 2ms/step - loss: 0.4313 - accuracy: 0.7963\n",
      "Epoch 43/100\n",
      "94/94 [==============================] - 0s 2ms/step - loss: 0.4292 - accuracy: 0.7963\n",
      "Epoch 44/100\n",
      "94/94 [==============================] - 0s 2ms/step - loss: 0.4281 - accuracy: 0.7967\n",
      "Epoch 45/100\n",
      "94/94 [==============================] - 0s 2ms/step - loss: 0.4280 - accuracy: 0.7990\n",
      "Epoch 46/100\n",
      "94/94 [==============================] - 0s 2ms/step - loss: 0.4263 - accuracy: 0.7946\n",
      "Epoch 47/100\n",
      "94/94 [==============================] - 0s 2ms/step - loss: 0.4264 - accuracy: 0.7990\n",
      "Epoch 48/100\n",
      "94/94 [==============================] - 0s 2ms/step - loss: 0.4243 - accuracy: 0.8007\n",
      "Epoch 49/100\n",
      "94/94 [==============================] - 0s 2ms/step - loss: 0.4244 - accuracy: 0.8003\n",
      "Epoch 50/100\n",
      "94/94 [==============================] - 0s 2ms/step - loss: 0.4234 - accuracy: 0.7973\n",
      "Epoch 51/100\n",
      "94/94 [==============================] - 0s 2ms/step - loss: 0.4213 - accuracy: 0.8003\n",
      "Epoch 52/100\n",
      "94/94 [==============================] - 0s 2ms/step - loss: 0.4212 - accuracy: 0.8017\n",
      "Epoch 53/100\n",
      "94/94 [==============================] - 0s 2ms/step - loss: 0.4198 - accuracy: 0.8020\n",
      "Epoch 54/100\n",
      "94/94 [==============================] - 0s 2ms/step - loss: 0.4199 - accuracy: 0.8027\n",
      "Epoch 55/100\n",
      "94/94 [==============================] - 0s 2ms/step - loss: 0.4181 - accuracy: 0.8030\n",
      "Epoch 56/100\n",
      "94/94 [==============================] - 0s 2ms/step - loss: 0.4178 - accuracy: 0.8027\n",
      "Epoch 57/100\n",
      "94/94 [==============================] - 0s 2ms/step - loss: 0.4153 - accuracy: 0.8047\n",
      "Epoch 58/100\n",
      "94/94 [==============================] - 0s 2ms/step - loss: 0.4155 - accuracy: 0.7993\n",
      "Epoch 59/100\n",
      "94/94 [==============================] - 0s 2ms/step - loss: 0.4139 - accuracy: 0.8043\n",
      "Epoch 60/100\n",
      "94/94 [==============================] - 0s 2ms/step - loss: 0.4143 - accuracy: 0.8054\n",
      "Epoch 61/100\n",
      "94/94 [==============================] - 0s 2ms/step - loss: 0.4130 - accuracy: 0.8074\n",
      "Epoch 62/100\n",
      "94/94 [==============================] - 0s 2ms/step - loss: 0.4122 - accuracy: 0.8054\n",
      "Epoch 63/100\n",
      "94/94 [==============================] - 0s 2ms/step - loss: 0.4113 - accuracy: 0.8057\n",
      "Epoch 64/100\n",
      "94/94 [==============================] - 0s 2ms/step - loss: 0.4119 - accuracy: 0.8060\n",
      "Epoch 65/100\n",
      "94/94 [==============================] - 0s 2ms/step - loss: 0.4113 - accuracy: 0.8074\n",
      "Epoch 66/100\n",
      "94/94 [==============================] - 0s 2ms/step - loss: 0.4072 - accuracy: 0.8107\n",
      "Epoch 67/100\n",
      "94/94 [==============================] - 0s 2ms/step - loss: 0.4066 - accuracy: 0.8090\n",
      "Epoch 68/100\n",
      "94/94 [==============================] - 0s 2ms/step - loss: 0.4058 - accuracy: 0.8087\n",
      "Epoch 69/100\n",
      "94/94 [==============================] - 0s 2ms/step - loss: 0.4042 - accuracy: 0.8124\n",
      "Epoch 70/100\n",
      "94/94 [==============================] - 0s 2ms/step - loss: 0.4061 - accuracy: 0.8084\n",
      "Epoch 71/100\n",
      "94/94 [==============================] - 0s 2ms/step - loss: 0.4027 - accuracy: 0.8147\n",
      "Epoch 72/100\n",
      "94/94 [==============================] - 0s 2ms/step - loss: 0.4041 - accuracy: 0.8104\n",
      "Epoch 73/100\n",
      "94/94 [==============================] - 0s 2ms/step - loss: 0.4013 - accuracy: 0.8117\n",
      "Epoch 74/100\n",
      "94/94 [==============================] - 0s 2ms/step - loss: 0.4014 - accuracy: 0.8154\n",
      "Epoch 75/100\n",
      "94/94 [==============================] - 0s 2ms/step - loss: 0.4014 - accuracy: 0.8154\n",
      "Epoch 76/100\n",
      "94/94 [==============================] - 0s 2ms/step - loss: 0.4023 - accuracy: 0.8107\n",
      "Epoch 77/100\n",
      "94/94 [==============================] - 0s 2ms/step - loss: 0.4005 - accuracy: 0.8107\n",
      "Epoch 78/100\n",
      "94/94 [==============================] - 0s 2ms/step - loss: 0.3983 - accuracy: 0.8100\n",
      "Epoch 79/100\n",
      "94/94 [==============================] - 0s 2ms/step - loss: 0.3970 - accuracy: 0.8154\n",
      "Epoch 80/100\n",
      "94/94 [==============================] - 0s 2ms/step - loss: 0.3984 - accuracy: 0.8127\n",
      "Epoch 81/100\n",
      "94/94 [==============================] - 0s 2ms/step - loss: 0.3952 - accuracy: 0.8177\n",
      "Epoch 82/100\n",
      "94/94 [==============================] - 0s 2ms/step - loss: 0.3952 - accuracy: 0.8134\n",
      "Epoch 83/100\n"
     ]
    },
    {
     "name": "stdout",
     "output_type": "stream",
     "text": [
      "94/94 [==============================] - 0s 3ms/step - loss: 0.3946 - accuracy: 0.8164\n",
      "Epoch 84/100\n",
      "94/94 [==============================] - 0s 2ms/step - loss: 0.3952 - accuracy: 0.8197\n",
      "Epoch 85/100\n",
      "94/94 [==============================] - 0s 2ms/step - loss: 0.3929 - accuracy: 0.8134\n",
      "Epoch 86/100\n",
      "94/94 [==============================] - 0s 2ms/step - loss: 0.3922 - accuracy: 0.8147\n",
      "Epoch 87/100\n",
      "94/94 [==============================] - 0s 2ms/step - loss: 0.3927 - accuracy: 0.8157\n",
      "Epoch 88/100\n",
      "94/94 [==============================] - 0s 2ms/step - loss: 0.3926 - accuracy: 0.8157\n",
      "Epoch 89/100\n",
      "94/94 [==============================] - 0s 2ms/step - loss: 0.3900 - accuracy: 0.8204\n",
      "Epoch 90/100\n",
      "94/94 [==============================] - 0s 2ms/step - loss: 0.3889 - accuracy: 0.8227\n",
      "Epoch 91/100\n",
      "94/94 [==============================] - 0s 2ms/step - loss: 0.3884 - accuracy: 0.8201\n",
      "Epoch 92/100\n",
      "94/94 [==============================] - 0s 2ms/step - loss: 0.3880 - accuracy: 0.8187\n",
      "Epoch 93/100\n",
      "94/94 [==============================] - 0s 2ms/step - loss: 0.3891 - accuracy: 0.8237\n",
      "Epoch 94/100\n",
      "94/94 [==============================] - 0s 2ms/step - loss: 0.3877 - accuracy: 0.8187\n",
      "Epoch 95/100\n",
      "94/94 [==============================] - 0s 2ms/step - loss: 0.3854 - accuracy: 0.8207\n",
      "Epoch 96/100\n",
      "94/94 [==============================] - 0s 2ms/step - loss: 0.3852 - accuracy: 0.8204\n",
      "Epoch 97/100\n",
      "94/94 [==============================] - 0s 2ms/step - loss: 0.3857 - accuracy: 0.8224\n",
      "Epoch 98/100\n",
      "94/94 [==============================] - 0s 2ms/step - loss: 0.3875 - accuracy: 0.8217\n",
      "Epoch 99/100\n",
      "94/94 [==============================] - 0s 2ms/step - loss: 0.3839 - accuracy: 0.8268\n",
      "Epoch 100/100\n",
      "94/94 [==============================] - 0s 2ms/step - loss: 0.3822 - accuracy: 0.8214\n",
      "24/24 [==============================] - 0s 1ms/step - loss: 0.6004 - accuracy: 0.7366\n",
      "              precision    recall  f1-score   support\n",
      "\n",
      "           0       0.79      0.65      0.71       374\n",
      "           1       0.70      0.82      0.76       374\n",
      "\n",
      "    accuracy                           0.74       748\n",
      "   macro avg       0.74      0.74      0.73       748\n",
      "weighted avg       0.74      0.74      0.73       748\n",
      "\n"
     ]
    }
   ],
   "source": [
    "y_preds = ANN(X_train, X_test, y_train, y_test, 'binary_crossentropy', -1)"
   ]
  },
  {
   "cell_type": "markdown",
   "id": "a687ac07",
   "metadata": {},
   "source": [
    "# method 3: oversampling (SMOTE)"
   ]
  },
  {
   "cell_type": "code",
   "execution_count": 46,
   "id": "800f55d1",
   "metadata": {
    "scrolled": true
   },
   "outputs": [],
   "source": [
    "from imblearn.over_sampling import SMOTE\n",
    "\n",
    "X = df_test_under.drop('Churn', axis = 1)\n",
    "y = df_test_under.Churn\n",
    "\n",
    "X_train, X_test, y_train, y_test = train_test_split(X, y, test_size = 0.2, stratify = y, random_state = 15)\n",
    "\n",
    "smote = SMOTE(sampling_strategy = 'minority')\n",
    "X_train_sm, y_train_sm = smote.fit_resample(X_train, y_train)"
   ]
  },
  {
   "cell_type": "code",
   "execution_count": 47,
   "id": "13e74f9b",
   "metadata": {},
   "outputs": [
    {
     "data": {
      "text/plain": [
       "0    1495\n",
       "1    1495\n",
       "Name: Churn, dtype: int64"
      ]
     },
     "execution_count": 47,
     "metadata": {},
     "output_type": "execute_result"
    }
   ],
   "source": [
    "y_train_sm.value_counts()"
   ]
  },
  {
   "cell_type": "code",
   "execution_count": 48,
   "id": "172d8587",
   "metadata": {},
   "outputs": [
    {
     "name": "stdout",
     "output_type": "stream",
     "text": [
      "Epoch 1/100\n",
      "94/94 [==============================] - 1s 2ms/step - loss: 0.6546 - accuracy: 0.6408\n",
      "Epoch 2/100\n",
      "94/94 [==============================] - 0s 2ms/step - loss: 0.5359 - accuracy: 0.7522\n",
      "Epoch 3/100\n",
      "94/94 [==============================] - 0s 2ms/step - loss: 0.5006 - accuracy: 0.7538\n",
      "Epoch 4/100\n",
      "94/94 [==============================] - 0s 3ms/step - loss: 0.4909 - accuracy: 0.7579\n",
      "Epoch 5/100\n",
      "94/94 [==============================] - 0s 2ms/step - loss: 0.4872 - accuracy: 0.7615\n",
      "Epoch 6/100\n",
      "94/94 [==============================] - 0s 5ms/step - loss: 0.4854 - accuracy: 0.7629\n",
      "Epoch 7/100\n",
      "94/94 [==============================] - 0s 4ms/step - loss: 0.4829 - accuracy: 0.7672\n",
      "Epoch 8/100\n",
      "94/94 [==============================] - 0s 4ms/step - loss: 0.4813 - accuracy: 0.7645\n",
      "Epoch 9/100\n",
      "94/94 [==============================] - 0s 3ms/step - loss: 0.4784 - accuracy: 0.7649\n",
      "Epoch 10/100\n",
      "94/94 [==============================] - 0s 2ms/step - loss: 0.4759 - accuracy: 0.7686\n",
      "Epoch 11/100\n",
      "94/94 [==============================] - 0s 3ms/step - loss: 0.4752 - accuracy: 0.7686\n",
      "Epoch 12/100\n",
      "94/94 [==============================] - 0s 3ms/step - loss: 0.4739 - accuracy: 0.7656\n",
      "Epoch 13/100\n",
      "94/94 [==============================] - 0s 2ms/step - loss: 0.4732 - accuracy: 0.7706\n",
      "Epoch 14/100\n",
      "94/94 [==============================] - 0s 2ms/step - loss: 0.4696 - accuracy: 0.7699\n",
      "Epoch 15/100\n",
      "94/94 [==============================] - 0s 2ms/step - loss: 0.4689 - accuracy: 0.7699\n",
      "Epoch 16/100\n",
      "94/94 [==============================] - 0s 3ms/step - loss: 0.4663 - accuracy: 0.7729\n",
      "Epoch 17/100\n",
      "94/94 [==============================] - 0s 4ms/step - loss: 0.4661 - accuracy: 0.7776\n",
      "Epoch 18/100\n",
      "94/94 [==============================] - 0s 3ms/step - loss: 0.4635 - accuracy: 0.7773\n",
      "Epoch 19/100\n",
      "94/94 [==============================] - 0s 3ms/step - loss: 0.4618 - accuracy: 0.7742\n",
      "Epoch 20/100\n",
      "94/94 [==============================] - 0s 2ms/step - loss: 0.4611 - accuracy: 0.7753\n",
      "Epoch 21/100\n",
      "94/94 [==============================] - 1s 6ms/step - loss: 0.4590 - accuracy: 0.7826\n",
      "Epoch 22/100\n",
      "94/94 [==============================] - 0s 4ms/step - loss: 0.4582 - accuracy: 0.7836\n",
      "Epoch 23/100\n",
      "94/94 [==============================] - 0s 3ms/step - loss: 0.4567 - accuracy: 0.7823\n",
      "Epoch 24/100\n",
      "94/94 [==============================] - 0s 3ms/step - loss: 0.4554 - accuracy: 0.7789\n",
      "Epoch 25/100\n",
      "94/94 [==============================] - 0s 2ms/step - loss: 0.4544 - accuracy: 0.7826\n",
      "Epoch 26/100\n",
      "94/94 [==============================] - 0s 2ms/step - loss: 0.4537 - accuracy: 0.7813\n",
      "Epoch 27/100\n",
      "94/94 [==============================] - 0s 2ms/step - loss: 0.4513 - accuracy: 0.7813\n",
      "Epoch 28/100\n",
      "94/94 [==============================] - 0s 2ms/step - loss: 0.4528 - accuracy: 0.7783\n",
      "Epoch 29/100\n",
      "94/94 [==============================] - 0s 2ms/step - loss: 0.4492 - accuracy: 0.7883\n",
      "Epoch 30/100\n",
      "94/94 [==============================] - 0s 2ms/step - loss: 0.4492 - accuracy: 0.7819\n",
      "Epoch 31/100\n",
      "94/94 [==============================] - 0s 2ms/step - loss: 0.4465 - accuracy: 0.7866\n",
      "Epoch 32/100\n",
      "94/94 [==============================] - 0s 3ms/step - loss: 0.4463 - accuracy: 0.7816\n",
      "Epoch 33/100\n",
      "94/94 [==============================] - 0s 2ms/step - loss: 0.4467 - accuracy: 0.7829\n",
      "Epoch 34/100\n",
      "94/94 [==============================] - 0s 2ms/step - loss: 0.4448 - accuracy: 0.7870\n",
      "Epoch 35/100\n",
      "94/94 [==============================] - 0s 3ms/step - loss: 0.4423 - accuracy: 0.7886\n",
      "Epoch 36/100\n",
      "94/94 [==============================] - 0s 2ms/step - loss: 0.4411 - accuracy: 0.7900\n",
      "Epoch 37/100\n",
      "94/94 [==============================] - 0s 2ms/step - loss: 0.4410 - accuracy: 0.7903\n",
      "Epoch 38/100\n",
      "94/94 [==============================] - 0s 2ms/step - loss: 0.4404 - accuracy: 0.7926\n",
      "Epoch 39/100\n",
      "94/94 [==============================] - 0s 2ms/step - loss: 0.4396 - accuracy: 0.7910\n",
      "Epoch 40/100\n",
      "94/94 [==============================] - 0s 2ms/step - loss: 0.4386 - accuracy: 0.7893\n",
      "Epoch 41/100\n",
      "94/94 [==============================] - 0s 2ms/step - loss: 0.4383 - accuracy: 0.7886\n",
      "Epoch 42/100\n",
      "94/94 [==============================] - 0s 2ms/step - loss: 0.4367 - accuracy: 0.7910\n",
      "Epoch 43/100\n",
      "94/94 [==============================] - 0s 3ms/step - loss: 0.4351 - accuracy: 0.7943\n",
      "Epoch 44/100\n",
      "94/94 [==============================] - 0s 3ms/step - loss: 0.4346 - accuracy: 0.7933\n",
      "Epoch 45/100\n",
      "94/94 [==============================] - 0s 2ms/step - loss: 0.4344 - accuracy: 0.7940\n",
      "Epoch 46/100\n",
      "94/94 [==============================] - 0s 3ms/step - loss: 0.4326 - accuracy: 0.7880\n",
      "Epoch 47/100\n",
      "94/94 [==============================] - 0s 3ms/step - loss: 0.4308 - accuracy: 0.7977\n",
      "Epoch 48/100\n",
      "94/94 [==============================] - 0s 3ms/step - loss: 0.4297 - accuracy: 0.7980\n",
      "Epoch 49/100\n",
      "94/94 [==============================] - 0s 3ms/step - loss: 0.4314 - accuracy: 0.7923\n",
      "Epoch 50/100\n",
      "94/94 [==============================] - 0s 3ms/step - loss: 0.4282 - accuracy: 0.7973\n",
      "Epoch 51/100\n",
      "94/94 [==============================] - 0s 3ms/step - loss: 0.4281 - accuracy: 0.7997\n",
      "Epoch 52/100\n",
      "94/94 [==============================] - 0s 2ms/step - loss: 0.4267 - accuracy: 0.7957\n",
      "Epoch 53/100\n",
      "94/94 [==============================] - 0s 4ms/step - loss: 0.4272 - accuracy: 0.7953\n",
      "Epoch 54/100\n",
      "94/94 [==============================] - 0s 3ms/step - loss: 0.4259 - accuracy: 0.7950\n",
      "Epoch 55/100\n",
      "94/94 [==============================] - 0s 3ms/step - loss: 0.4233 - accuracy: 0.8013\n",
      "Epoch 56/100\n",
      "94/94 [==============================] - 0s 5ms/step - loss: 0.4237 - accuracy: 0.8023\n",
      "Epoch 57/100\n",
      "94/94 [==============================] - 0s 3ms/step - loss: 0.4212 - accuracy: 0.8027\n",
      "Epoch 58/100\n",
      "94/94 [==============================] - 0s 5ms/step - loss: 0.4201 - accuracy: 0.8027\n",
      "Epoch 59/100\n",
      "94/94 [==============================] - 0s 3ms/step - loss: 0.4204 - accuracy: 0.8017\n",
      "Epoch 60/100\n",
      "94/94 [==============================] - 0s 3ms/step - loss: 0.4190 - accuracy: 0.7980\n",
      "Epoch 61/100\n",
      "94/94 [==============================] - 0s 4ms/step - loss: 0.4182 - accuracy: 0.8084\n",
      "Epoch 62/100\n",
      "94/94 [==============================] - 0s 3ms/step - loss: 0.4168 - accuracy: 0.8070\n",
      "Epoch 63/100\n",
      "94/94 [==============================] - 0s 3ms/step - loss: 0.4158 - accuracy: 0.8114\n",
      "Epoch 64/100\n",
      "94/94 [==============================] - 0s 3ms/step - loss: 0.4155 - accuracy: 0.8013\n",
      "Epoch 65/100\n",
      "94/94 [==============================] - 1s 7ms/step - loss: 0.4132 - accuracy: 0.8040: 3s - loss: 0.4243 \n",
      "Epoch 66/100\n",
      "94/94 [==============================] - 0s 4ms/step - loss: 0.4126 - accuracy: 0.8084\n",
      "Epoch 67/100\n",
      "94/94 [==============================] - 0s 4ms/step - loss: 0.4128 - accuracy: 0.8087\n",
      "Epoch 68/100\n",
      "94/94 [==============================] - 0s 3ms/step - loss: 0.4156 - accuracy: 0.8033\n",
      "Epoch 69/100\n",
      "94/94 [==============================] - 0s 3ms/step - loss: 0.4105 - accuracy: 0.8060\n",
      "Epoch 70/100\n",
      "94/94 [==============================] - 0s 3ms/step - loss: 0.4090 - accuracy: 0.8094\n",
      "Epoch 71/100\n",
      "94/94 [==============================] - 0s 4ms/step - loss: 0.4090 - accuracy: 0.8094\n",
      "Epoch 72/100\n",
      "94/94 [==============================] - 0s 5ms/step - loss: 0.4078 - accuracy: 0.8077\n",
      "Epoch 73/100\n",
      "94/94 [==============================] - 0s 4ms/step - loss: 0.4067 - accuracy: 0.8094\n",
      "Epoch 74/100\n",
      "94/94 [==============================] - 0s 4ms/step - loss: 0.4073 - accuracy: 0.8140\n",
      "Epoch 75/100\n",
      "94/94 [==============================] - 0s 4ms/step - loss: 0.4032 - accuracy: 0.8147\n",
      "Epoch 76/100\n",
      "94/94 [==============================] - 0s 3ms/step - loss: 0.4053 - accuracy: 0.8134\n",
      "Epoch 77/100\n",
      "94/94 [==============================] - 0s 3ms/step - loss: 0.4043 - accuracy: 0.8137\n",
      "Epoch 78/100\n",
      "94/94 [==============================] - 0s 3ms/step - loss: 0.4040 - accuracy: 0.8080\n",
      "Epoch 79/100\n",
      "94/94 [==============================] - 0s 3ms/step - loss: 0.4030 - accuracy: 0.8174\n",
      "Epoch 80/100\n",
      "94/94 [==============================] - 0s 3ms/step - loss: 0.4000 - accuracy: 0.8120\n",
      "Epoch 81/100\n",
      "94/94 [==============================] - 0s 3ms/step - loss: 0.3995 - accuracy: 0.8124\n",
      "Epoch 82/100\n",
      "94/94 [==============================] - 0s 3ms/step - loss: 0.3991 - accuracy: 0.8137\n",
      "Epoch 83/100\n",
      "94/94 [==============================] - 0s 5ms/step - loss: 0.3992 - accuracy: 0.8164\n",
      "Epoch 84/100\n",
      "94/94 [==============================] - 0s 4ms/step - loss: 0.3977 - accuracy: 0.8167\n",
      "Epoch 85/100\n",
      "94/94 [==============================] - 1s 5ms/step - loss: 0.3970 - accuracy: 0.8144\n",
      "Epoch 86/100\n",
      "94/94 [==============================] - 0s 4ms/step - loss: 0.3975 - accuracy: 0.8147\n",
      "Epoch 87/100\n",
      "94/94 [==============================] - 0s 3ms/step - loss: 0.3962 - accuracy: 0.8151\n",
      "Epoch 88/100\n",
      "94/94 [==============================] - 0s 3ms/step - loss: 0.3953 - accuracy: 0.8164\n",
      "Epoch 89/100\n",
      "94/94 [==============================] - 0s 2ms/step - loss: 0.3957 - accuracy: 0.8151\n",
      "Epoch 90/100\n",
      "94/94 [==============================] - 0s 2ms/step - loss: 0.3940 - accuracy: 0.8130\n",
      "Epoch 91/100\n",
      "94/94 [==============================] - 0s 4ms/step - loss: 0.3933 - accuracy: 0.8161\n",
      "Epoch 92/100\n",
      "94/94 [==============================] - 0s 4ms/step - loss: 0.3912 - accuracy: 0.8144\n",
      "Epoch 93/100\n",
      "94/94 [==============================] - 0s 3ms/step - loss: 0.3914 - accuracy: 0.8184\n",
      "Epoch 94/100\n",
      "94/94 [==============================] - 0s 2ms/step - loss: 0.3911 - accuracy: 0.8137\n",
      "Epoch 95/100\n",
      "94/94 [==============================] - 0s 2ms/step - loss: 0.3898 - accuracy: 0.8194\n",
      "Epoch 96/100\n",
      "94/94 [==============================] - 0s 2ms/step - loss: 0.3881 - accuracy: 0.8177\n",
      "Epoch 97/100\n",
      "94/94 [==============================] - 0s 2ms/step - loss: 0.3886 - accuracy: 0.8211\n",
      "Epoch 98/100\n",
      "94/94 [==============================] - 1s 6ms/step - loss: 0.3889 - accuracy: 0.8167\n",
      "Epoch 99/100\n",
      "94/94 [==============================] - 0s 2ms/step - loss: 0.3872 - accuracy: 0.8184\n",
      "Epoch 100/100\n",
      "94/94 [==============================] - 0s 2ms/step - loss: 0.3858 - accuracy: 0.8191\n",
      "24/24 [==============================] - 0s 1ms/step - loss: 0.5755 - accuracy: 0.7433\n",
      "              precision    recall  f1-score   support\n",
      "\n",
      "           0       0.77      0.69      0.73       374\n",
      "           1       0.72      0.80      0.76       374\n",
      "\n",
      "    accuracy                           0.74       748\n",
      "   macro avg       0.75      0.74      0.74       748\n",
      "weighted avg       0.75      0.74      0.74       748\n",
      "\n"
     ]
    }
   ],
   "source": [
    "y_preds = ANN(X_train, X_test, y_train, y_test, 'binary_crossentropy', -1)"
   ]
  },
  {
   "cell_type": "markdown",
   "id": "3ec2ebb6",
   "metadata": {},
   "source": [
    "# method 4: ensemble method with undersampling"
   ]
  },
  {
   "cell_type": "code",
   "execution_count": 49,
   "id": "3131b019",
   "metadata": {},
   "outputs": [],
   "source": [
    "X = df2.drop('Churn', axis = 1)\n",
    "y = df2.Churn\n",
    "X_train, X_test, y_train, y_test = train_test_split(X, y, test_size = 0.2, stratify = y, random_state = 15)"
   ]
  },
  {
   "cell_type": "code",
   "execution_count": 52,
   "id": "f4b80331",
   "metadata": {},
   "outputs": [],
   "source": [
    "df3 = X_train.copy()\n",
    "df3['Churn'] = y_train"
   ]
  },
  {
   "cell_type": "code",
   "execution_count": 54,
   "id": "55387ede",
   "metadata": {},
   "outputs": [],
   "source": [
    "df3_class_0 = df3[df3.Churn == 0]\n",
    "df3_class_1 = df3[df3.Churn == 1]"
   ]
  },
  {
   "cell_type": "code",
   "execution_count": 55,
   "id": "2a9267f0",
   "metadata": {},
   "outputs": [
    {
     "data": {
      "text/plain": [
       "((4130, 27), (1495, 27))"
      ]
     },
     "execution_count": 55,
     "metadata": {},
     "output_type": "execute_result"
    }
   ],
   "source": [
    "df3_class_0.shape, df3_class_1.shape"
   ]
  },
  {
   "cell_type": "code",
   "execution_count": 63,
   "id": "141dd022",
   "metadata": {},
   "outputs": [],
   "source": [
    "def get_train_batch(df_majority, df_minority, start, end):\n",
    "\n",
    "    df_train = pd.concat([df_majority[start:end], df_minority], axis = 0)\n",
    "    X_train = df_train.drop('Churn', axis = 1)\n",
    "    y_train = df_train.Churn\n",
    "    \n",
    "    return X_train, y_train\n",
    "X_train, y_train = get_train_batch(df3_class_0, df3_class_1, 0, 1495)"
   ]
  },
  {
   "cell_type": "code",
   "execution_count": 65,
   "id": "da603683",
   "metadata": {
    "scrolled": true
   },
   "outputs": [
    {
     "name": "stdout",
     "output_type": "stream",
     "text": [
      "Epoch 1/100\n",
      "94/94 [==============================] - 1s 2ms/step - loss: 0.5958 - accuracy: 0.7030\n",
      "Epoch 2/100\n",
      "94/94 [==============================] - 0s 2ms/step - loss: 0.5129 - accuracy: 0.7629\n",
      "Epoch 3/100\n",
      "94/94 [==============================] - 0s 3ms/step - loss: 0.4940 - accuracy: 0.7656\n",
      "Epoch 4/100\n",
      "94/94 [==============================] - 0s 1ms/step - loss: 0.4877 - accuracy: 0.7682\n",
      "Epoch 5/100\n",
      "94/94 [==============================] - 0s 2ms/step - loss: 0.4841 - accuracy: 0.7645\n",
      "Epoch 6/100\n",
      "94/94 [==============================] - 0s 2ms/step - loss: 0.4785 - accuracy: 0.7679\n",
      "Epoch 7/100\n",
      "94/94 [==============================] - 0s 3ms/step - loss: 0.4759 - accuracy: 0.7696\n",
      "Epoch 8/100\n",
      "94/94 [==============================] - 0s 4ms/step - loss: 0.4746 - accuracy: 0.7753\n",
      "Epoch 9/100\n",
      "94/94 [==============================] - 0s 4ms/step - loss: 0.4730 - accuracy: 0.7736\n",
      "Epoch 10/100\n",
      "94/94 [==============================] - 0s 3ms/step - loss: 0.4708 - accuracy: 0.7716\n",
      "Epoch 11/100\n",
      "94/94 [==============================] - 0s 2ms/step - loss: 0.4676 - accuracy: 0.7759\n",
      "Epoch 12/100\n",
      "94/94 [==============================] - 0s 2ms/step - loss: 0.4677 - accuracy: 0.7769\n",
      "Epoch 13/100\n",
      "94/94 [==============================] - 0s 3ms/step - loss: 0.4649 - accuracy: 0.7776\n",
      "Epoch 14/100\n",
      "94/94 [==============================] - 0s 4ms/step - loss: 0.4621 - accuracy: 0.7793\n",
      "Epoch 15/100\n",
      "94/94 [==============================] - 0s 2ms/step - loss: 0.4624 - accuracy: 0.7799\n",
      "Epoch 16/100\n",
      "94/94 [==============================] - 0s 3ms/step - loss: 0.4619 - accuracy: 0.7809\n",
      "Epoch 17/100\n",
      "94/94 [==============================] - 0s 2ms/step - loss: 0.4600 - accuracy: 0.7856\n",
      "Epoch 18/100\n",
      "94/94 [==============================] - 0s 2ms/step - loss: 0.4577 - accuracy: 0.7836\n",
      "Epoch 19/100\n",
      "94/94 [==============================] - 0s 3ms/step - loss: 0.4568 - accuracy: 0.7883\n",
      "Epoch 20/100\n",
      "94/94 [==============================] - 0s 2ms/step - loss: 0.4572 - accuracy: 0.7863\n",
      "Epoch 21/100\n",
      "94/94 [==============================] - 0s 2ms/step - loss: 0.4555 - accuracy: 0.7846\n",
      "Epoch 22/100\n",
      "94/94 [==============================] - 0s 2ms/step - loss: 0.4549 - accuracy: 0.7880\n",
      "Epoch 23/100\n",
      "94/94 [==============================] - 0s 3ms/step - loss: 0.4526 - accuracy: 0.7870\n",
      "Epoch 24/100\n",
      "94/94 [==============================] - 0s 4ms/step - loss: 0.4515 - accuracy: 0.7853\n",
      "Epoch 25/100\n",
      "94/94 [==============================] - 0s 3ms/step - loss: 0.4515 - accuracy: 0.7910\n",
      "Epoch 26/100\n",
      "94/94 [==============================] - 0s 3ms/step - loss: 0.4498 - accuracy: 0.7870\n",
      "Epoch 27/100\n",
      "94/94 [==============================] - 0s 2ms/step - loss: 0.4468 - accuracy: 0.7923\n",
      "Epoch 28/100\n",
      "94/94 [==============================] - 0s 2ms/step - loss: 0.4470 - accuracy: 0.7903\n",
      "Epoch 29/100\n",
      "94/94 [==============================] - 0s 2ms/step - loss: 0.4462 - accuracy: 0.7957\n",
      "Epoch 30/100\n",
      "94/94 [==============================] - 0s 2ms/step - loss: 0.4460 - accuracy: 0.7923\n",
      "Epoch 31/100\n",
      "94/94 [==============================] - 0s 2ms/step - loss: 0.4453 - accuracy: 0.7896\n",
      "Epoch 32/100\n",
      "94/94 [==============================] - 0s 2ms/step - loss: 0.4431 - accuracy: 0.7960\n",
      "Epoch 33/100\n",
      "94/94 [==============================] - 0s 2ms/step - loss: 0.4430 - accuracy: 0.7883\n",
      "Epoch 34/100\n",
      "94/94 [==============================] - 0s 2ms/step - loss: 0.4404 - accuracy: 0.7913\n",
      "Epoch 35/100\n",
      "94/94 [==============================] - 0s 2ms/step - loss: 0.4419 - accuracy: 0.7950\n",
      "Epoch 36/100\n",
      "94/94 [==============================] - 0s 2ms/step - loss: 0.4408 - accuracy: 0.7983\n",
      "Epoch 37/100\n",
      "94/94 [==============================] - 0s 3ms/step - loss: 0.4397 - accuracy: 0.7950\n",
      "Epoch 38/100\n",
      "94/94 [==============================] - 0s 2ms/step - loss: 0.4371 - accuracy: 0.7960\n",
      "Epoch 39/100\n",
      "94/94 [==============================] - 0s 1ms/step - loss: 0.4366 - accuracy: 0.7957\n",
      "Epoch 40/100\n",
      "94/94 [==============================] - 0s 2ms/step - loss: 0.4360 - accuracy: 0.7943\n",
      "Epoch 41/100\n",
      "94/94 [==============================] - 0s 3ms/step - loss: 0.4339 - accuracy: 0.7990\n",
      "Epoch 42/100\n",
      "94/94 [==============================] - 0s 2ms/step - loss: 0.4344 - accuracy: 0.7950\n",
      "Epoch 43/100\n",
      "94/94 [==============================] - 0s 2ms/step - loss: 0.4325 - accuracy: 0.7993\n",
      "Epoch 44/100\n",
      "94/94 [==============================] - 0s 2ms/step - loss: 0.4331 - accuracy: 0.7973\n",
      "Epoch 45/100\n",
      "94/94 [==============================] - 0s 3ms/step - loss: 0.4329 - accuracy: 0.7967\n",
      "Epoch 46/100\n",
      "94/94 [==============================] - 0s 2ms/step - loss: 0.4313 - accuracy: 0.7980\n",
      "Epoch 47/100\n",
      "94/94 [==============================] - 0s 3ms/step - loss: 0.4309 - accuracy: 0.7963\n",
      "Epoch 48/100\n",
      "94/94 [==============================] - 0s 3ms/step - loss: 0.4290 - accuracy: 0.8007\n",
      "Epoch 49/100\n",
      "94/94 [==============================] - 0s 3ms/step - loss: 0.4279 - accuracy: 0.8020\n",
      "Epoch 50/100\n",
      "94/94 [==============================] - 0s 4ms/step - loss: 0.4274 - accuracy: 0.8033\n",
      "Epoch 51/100\n",
      "94/94 [==============================] - 0s 3ms/step - loss: 0.4266 - accuracy: 0.7997\n",
      "Epoch 52/100\n",
      "94/94 [==============================] - 0s 3ms/step - loss: 0.4278 - accuracy: 0.8023\n",
      "Epoch 53/100\n",
      "94/94 [==============================] - 0s 3ms/step - loss: 0.4271 - accuracy: 0.7987\n",
      "Epoch 54/100\n",
      "94/94 [==============================] - 0s 3ms/step - loss: 0.4246 - accuracy: 0.8064\n",
      "Epoch 55/100\n",
      "94/94 [==============================] - 0s 4ms/step - loss: 0.4244 - accuracy: 0.8054\n",
      "Epoch 56/100\n",
      "94/94 [==============================] - 0s 2ms/step - loss: 0.4222 - accuracy: 0.8007\n",
      "Epoch 57/100\n",
      "94/94 [==============================] - 0s 2ms/step - loss: 0.4210 - accuracy: 0.8054\n",
      "Epoch 58/100\n",
      "94/94 [==============================] - 0s 4ms/step - loss: 0.4207 - accuracy: 0.8037\n",
      "Epoch 59/100\n",
      "94/94 [==============================] - 0s 3ms/step - loss: 0.4201 - accuracy: 0.8090\n",
      "Epoch 60/100\n",
      "94/94 [==============================] - 0s 3ms/step - loss: 0.4201 - accuracy: 0.8084\n",
      "Epoch 61/100\n",
      "94/94 [==============================] - 0s 2ms/step - loss: 0.4199 - accuracy: 0.8074\n",
      "Epoch 62/100\n",
      "94/94 [==============================] - 0s 3ms/step - loss: 0.4192 - accuracy: 0.8040\n",
      "Epoch 63/100\n",
      "94/94 [==============================] - 0s 2ms/step - loss: 0.4173 - accuracy: 0.8050\n",
      "Epoch 64/100\n",
      "94/94 [==============================] - 0s 2ms/step - loss: 0.4177 - accuracy: 0.8017\n",
      "Epoch 65/100\n",
      "94/94 [==============================] - 0s 3ms/step - loss: 0.4174 - accuracy: 0.8087\n",
      "Epoch 66/100\n",
      "94/94 [==============================] - 0s 2ms/step - loss: 0.4152 - accuracy: 0.8080\n",
      "Epoch 67/100\n",
      "94/94 [==============================] - 0s 3ms/step - loss: 0.4147 - accuracy: 0.8097\n",
      "Epoch 68/100\n",
      "94/94 [==============================] - 0s 3ms/step - loss: 0.4135 - accuracy: 0.8067\n",
      "Epoch 69/100\n",
      "94/94 [==============================] - 0s 2ms/step - loss: 0.4121 - accuracy: 0.8114\n",
      "Epoch 70/100\n",
      "94/94 [==============================] - 0s 2ms/step - loss: 0.4130 - accuracy: 0.8087\n",
      "Epoch 71/100\n",
      "94/94 [==============================] - 0s 2ms/step - loss: 0.4104 - accuracy: 0.8114\n",
      "Epoch 72/100\n",
      "94/94 [==============================] - 0s 2ms/step - loss: 0.4101 - accuracy: 0.8124\n",
      "Epoch 73/100\n",
      "94/94 [==============================] - 0s 5ms/step - loss: 0.4120 - accuracy: 0.8090\n",
      "Epoch 74/100\n",
      "94/94 [==============================] - 0s 3ms/step - loss: 0.4098 - accuracy: 0.8137\n",
      "Epoch 75/100\n",
      "94/94 [==============================] - 0s 2ms/step - loss: 0.4098 - accuracy: 0.8134\n",
      "Epoch 76/100\n",
      "94/94 [==============================] - 0s 2ms/step - loss: 0.4081 - accuracy: 0.8097\n",
      "Epoch 77/100\n",
      "94/94 [==============================] - 0s 2ms/step - loss: 0.4077 - accuracy: 0.8134\n",
      "Epoch 78/100\n",
      "94/94 [==============================] - 0s 2ms/step - loss: 0.4053 - accuracy: 0.8117\n",
      "Epoch 79/100\n",
      "94/94 [==============================] - 0s 1ms/step - loss: 0.4055 - accuracy: 0.8174\n",
      "Epoch 80/100\n",
      "94/94 [==============================] - 0s 4ms/step - loss: 0.4052 - accuracy: 0.8137\n",
      "Epoch 81/100\n",
      "94/94 [==============================] - 0s 2ms/step - loss: 0.4057 - accuracy: 0.8130\n",
      "Epoch 82/100\n",
      "94/94 [==============================] - 0s 2ms/step - loss: 0.4021 - accuracy: 0.8137\n",
      "Epoch 83/100\n"
     ]
    },
    {
     "name": "stdout",
     "output_type": "stream",
     "text": [
      "94/94 [==============================] - 0s 2ms/step - loss: 0.4020 - accuracy: 0.8154\n",
      "Epoch 84/100\n",
      "94/94 [==============================] - 0s 2ms/step - loss: 0.4016 - accuracy: 0.8167\n",
      "Epoch 85/100\n",
      "94/94 [==============================] - 0s 2ms/step - loss: 0.4009 - accuracy: 0.8130\n",
      "Epoch 86/100\n",
      "94/94 [==============================] - 0s 2ms/step - loss: 0.3993 - accuracy: 0.8171\n",
      "Epoch 87/100\n",
      "94/94 [==============================] - 0s 2ms/step - loss: 0.3984 - accuracy: 0.8204\n",
      "Epoch 88/100\n",
      "94/94 [==============================] - 0s 3ms/step - loss: 0.3988 - accuracy: 0.8137\n",
      "Epoch 89/100\n",
      "94/94 [==============================] - 0s 2ms/step - loss: 0.4007 - accuracy: 0.8134\n",
      "Epoch 90/100\n",
      "94/94 [==============================] - 0s 2ms/step - loss: 0.3974 - accuracy: 0.8164\n",
      "Epoch 91/100\n",
      "94/94 [==============================] - 0s 2ms/step - loss: 0.3991 - accuracy: 0.8227\n",
      "Epoch 92/100\n",
      "94/94 [==============================] - 0s 5ms/step - loss: 0.3949 - accuracy: 0.8187\n",
      "Epoch 93/100\n",
      "94/94 [==============================] - 0s 4ms/step - loss: 0.3940 - accuracy: 0.8241: 0s - loss: 0.3599 - accuracy\n",
      "Epoch 94/100\n",
      "94/94 [==============================] - 0s 2ms/step - loss: 0.3924 - accuracy: 0.8217\n",
      "Epoch 95/100\n",
      "94/94 [==============================] - 0s 2ms/step - loss: 0.3924 - accuracy: 0.8171\n",
      "Epoch 96/100\n",
      "94/94 [==============================] - 0s 2ms/step - loss: 0.3916 - accuracy: 0.8201\n",
      "Epoch 97/100\n",
      "94/94 [==============================] - 0s 1ms/step - loss: 0.3920 - accuracy: 0.8191\n",
      "Epoch 98/100\n",
      "94/94 [==============================] - 0s 1ms/step - loss: 0.3921 - accuracy: 0.8177\n",
      "Epoch 99/100\n",
      "94/94 [==============================] - 0s 1ms/step - loss: 0.3913 - accuracy: 0.8227\n",
      "Epoch 100/100\n",
      "94/94 [==============================] - 0s 1ms/step - loss: 0.3877 - accuracy: 0.8207\n",
      "44/44 [==============================] - 0s 1ms/step - loss: 0.5882 - accuracy: 0.7122\n",
      "              precision    recall  f1-score   support\n",
      "\n",
      "           0       0.89      0.69      0.78      1033\n",
      "           1       0.47      0.77      0.59       374\n",
      "\n",
      "    accuracy                           0.71      1407\n",
      "   macro avg       0.68      0.73      0.68      1407\n",
      "weighted avg       0.78      0.71      0.73      1407\n",
      "\n"
     ]
    }
   ],
   "source": [
    "y_pred1 = ANN(X_train, X_test, y_train, y_test, 'binary_crossentropy', -1)"
   ]
  },
  {
   "cell_type": "code",
   "execution_count": 66,
   "id": "4322b2d9",
   "metadata": {},
   "outputs": [
    {
     "name": "stdout",
     "output_type": "stream",
     "text": [
      "Epoch 1/100\n",
      "94/94 [==============================] - 1s 2ms/step - loss: 0.6302 - accuracy: 0.6575\n",
      "Epoch 2/100\n",
      "94/94 [==============================] - 0s 3ms/step - loss: 0.5289 - accuracy: 0.7488\n",
      "Epoch 3/100\n",
      "94/94 [==============================] - 0s 2ms/step - loss: 0.5066 - accuracy: 0.7565\n",
      "Epoch 4/100\n",
      "94/94 [==============================] - 0s 2ms/step - loss: 0.4967 - accuracy: 0.7595\n",
      "Epoch 5/100\n",
      "94/94 [==============================] - 0s 1ms/step - loss: 0.4906 - accuracy: 0.7652\n",
      "Epoch 6/100\n",
      "94/94 [==============================] - 0s 3ms/step - loss: 0.4845 - accuracy: 0.7689\n",
      "Epoch 7/100\n",
      "94/94 [==============================] - 0s 2ms/step - loss: 0.4804 - accuracy: 0.7679\n",
      "Epoch 8/100\n",
      "94/94 [==============================] - 0s 2ms/step - loss: 0.4772 - accuracy: 0.7709\n",
      "Epoch 9/100\n",
      "94/94 [==============================] - 0s 2ms/step - loss: 0.4747 - accuracy: 0.7662\n",
      "Epoch 10/100\n",
      "94/94 [==============================] - 0s 1ms/step - loss: 0.4713 - accuracy: 0.7689\n",
      "Epoch 11/100\n",
      "94/94 [==============================] - 0s 2ms/step - loss: 0.4690 - accuracy: 0.7676\n",
      "Epoch 12/100\n",
      "94/94 [==============================] - 0s 2ms/step - loss: 0.4671 - accuracy: 0.7712\n",
      "Epoch 13/100\n",
      "94/94 [==============================] - 0s 3ms/step - loss: 0.4650 - accuracy: 0.7709\n",
      "Epoch 14/100\n",
      "94/94 [==============================] - 0s 2ms/step - loss: 0.4628 - accuracy: 0.7722\n",
      "Epoch 15/100\n",
      "94/94 [==============================] - 0s 1ms/step - loss: 0.4629 - accuracy: 0.7736\n",
      "Epoch 16/100\n",
      "94/94 [==============================] - 0s 2ms/step - loss: 0.4602 - accuracy: 0.7796\n",
      "Epoch 17/100\n",
      "94/94 [==============================] - 0s 4ms/step - loss: 0.4591 - accuracy: 0.7742\n",
      "Epoch 18/100\n",
      "94/94 [==============================] - 0s 2ms/step - loss: 0.4568 - accuracy: 0.7746\n",
      "Epoch 19/100\n",
      "94/94 [==============================] - 0s 2ms/step - loss: 0.4546 - accuracy: 0.7793\n",
      "Epoch 20/100\n",
      "94/94 [==============================] - 0s 2ms/step - loss: 0.4537 - accuracy: 0.7779\n",
      "Epoch 21/100\n",
      "94/94 [==============================] - 0s 2ms/step - loss: 0.4512 - accuracy: 0.7816\n",
      "Epoch 22/100\n",
      "94/94 [==============================] - 0s 1ms/step - loss: 0.4509 - accuracy: 0.7863\n",
      "Epoch 23/100\n",
      "94/94 [==============================] - 0s 2ms/step - loss: 0.4482 - accuracy: 0.7816\n",
      "Epoch 24/100\n",
      "94/94 [==============================] - 0s 3ms/step - loss: 0.4475 - accuracy: 0.7886\n",
      "Epoch 25/100\n",
      "94/94 [==============================] - 0s 2ms/step - loss: 0.4453 - accuracy: 0.7876\n",
      "Epoch 26/100\n",
      "94/94 [==============================] - 0s 1ms/step - loss: 0.4447 - accuracy: 0.7886\n",
      "Epoch 27/100\n",
      "94/94 [==============================] - 0s 3ms/step - loss: 0.4433 - accuracy: 0.7826\n",
      "Epoch 28/100\n",
      "94/94 [==============================] - 0s 2ms/step - loss: 0.4405 - accuracy: 0.7916\n",
      "Epoch 29/100\n",
      "94/94 [==============================] - 0s 2ms/step - loss: 0.4413 - accuracy: 0.7886\n",
      "Epoch 30/100\n",
      "94/94 [==============================] - 0s 2ms/step - loss: 0.4393 - accuracy: 0.7876\n",
      "Epoch 31/100\n",
      "94/94 [==============================] - 0s 5ms/step - loss: 0.4376 - accuracy: 0.7913: 0s - loss: 0.4350 - accu\n",
      "Epoch 32/100\n",
      "94/94 [==============================] - 0s 4ms/step - loss: 0.4373 - accuracy: 0.7906\n",
      "Epoch 33/100\n",
      "94/94 [==============================] - 0s 2ms/step - loss: 0.4360 - accuracy: 0.7880\n",
      "Epoch 34/100\n",
      "94/94 [==============================] - 0s 2ms/step - loss: 0.4359 - accuracy: 0.7940\n",
      "Epoch 35/100\n",
      "94/94 [==============================] - 0s 2ms/step - loss: 0.4339 - accuracy: 0.7940\n",
      "Epoch 36/100\n",
      "94/94 [==============================] - 0s 2ms/step - loss: 0.4312 - accuracy: 0.7970\n",
      "Epoch 37/100\n",
      "94/94 [==============================] - 0s 2ms/step - loss: 0.4307 - accuracy: 0.7950\n",
      "Epoch 38/100\n",
      "94/94 [==============================] - 0s 2ms/step - loss: 0.4292 - accuracy: 0.8017\n",
      "Epoch 39/100\n",
      "94/94 [==============================] - 0s 2ms/step - loss: 0.4282 - accuracy: 0.7940\n",
      "Epoch 40/100\n",
      "94/94 [==============================] - 0s 2ms/step - loss: 0.4268 - accuracy: 0.7993\n",
      "Epoch 41/100\n",
      "94/94 [==============================] - 0s 2ms/step - loss: 0.4261 - accuracy: 0.7987\n",
      "Epoch 42/100\n",
      "94/94 [==============================] - 0s 2ms/step - loss: 0.4243 - accuracy: 0.8037\n",
      "Epoch 43/100\n",
      "94/94 [==============================] - 0s 2ms/step - loss: 0.4223 - accuracy: 0.8010\n",
      "Epoch 44/100\n",
      "94/94 [==============================] - 0s 2ms/step - loss: 0.4213 - accuracy: 0.8047\n",
      "Epoch 45/100\n",
      "94/94 [==============================] - 0s 4ms/step - loss: 0.4222 - accuracy: 0.7990\n",
      "Epoch 46/100\n",
      "94/94 [==============================] - 0s 4ms/step - loss: 0.4197 - accuracy: 0.8020\n",
      "Epoch 47/100\n",
      "94/94 [==============================] - 0s 3ms/step - loss: 0.4191 - accuracy: 0.8037\n",
      "Epoch 48/100\n",
      "94/94 [==============================] - 0s 3ms/step - loss: 0.4189 - accuracy: 0.8023\n",
      "Epoch 49/100\n",
      "94/94 [==============================] - 0s 2ms/step - loss: 0.4176 - accuracy: 0.8023\n",
      "Epoch 50/100\n",
      "94/94 [==============================] - 0s 3ms/step - loss: 0.4171 - accuracy: 0.8020\n",
      "Epoch 51/100\n",
      "94/94 [==============================] - 0s 2ms/step - loss: 0.4143 - accuracy: 0.8064\n",
      "Epoch 52/100\n",
      "94/94 [==============================] - 0s 2ms/step - loss: 0.4140 - accuracy: 0.8070\n",
      "Epoch 53/100\n",
      "94/94 [==============================] - 0s 2ms/step - loss: 0.4122 - accuracy: 0.8070\n",
      "Epoch 54/100\n",
      "94/94 [==============================] - 0s 2ms/step - loss: 0.4097 - accuracy: 0.8130\n",
      "Epoch 55/100\n",
      "94/94 [==============================] - 0s 2ms/step - loss: 0.4142 - accuracy: 0.8104\n",
      "Epoch 56/100\n",
      "94/94 [==============================] - 1s 5ms/step - loss: 0.4089 - accuracy: 0.8114: 0s - loss: 0.4301 - accu\n",
      "Epoch 57/100\n",
      "94/94 [==============================] - 0s 5ms/step - loss: 0.4084 - accuracy: 0.8117: 0s - loss: 0.4087 - accuracy: 0.81\n",
      "Epoch 58/100\n",
      "94/94 [==============================] - 0s 4ms/step - loss: 0.4057 - accuracy: 0.8110\n",
      "Epoch 59/100\n",
      "94/94 [==============================] - 0s 3ms/step - loss: 0.4048 - accuracy: 0.8167\n",
      "Epoch 60/100\n",
      "94/94 [==============================] - 0s 3ms/step - loss: 0.4062 - accuracy: 0.8114\n",
      "Epoch 61/100\n",
      "94/94 [==============================] - 0s 2ms/step - loss: 0.4025 - accuracy: 0.8127\n",
      "Epoch 62/100\n",
      "94/94 [==============================] - 0s 2ms/step - loss: 0.4019 - accuracy: 0.8127\n",
      "Epoch 63/100\n",
      "94/94 [==============================] - 0s 2ms/step - loss: 0.4031 - accuracy: 0.8167\n",
      "Epoch 64/100\n",
      "94/94 [==============================] - 0s 1ms/step - loss: 0.4022 - accuracy: 0.8187\n",
      "Epoch 65/100\n",
      "94/94 [==============================] - 0s 1ms/step - loss: 0.3982 - accuracy: 0.8194\n",
      "Epoch 66/100\n",
      "94/94 [==============================] - 0s 1ms/step - loss: 0.3994 - accuracy: 0.8151\n",
      "Epoch 67/100\n",
      "94/94 [==============================] - 0s 1ms/step - loss: 0.3969 - accuracy: 0.8184\n",
      "Epoch 68/100\n",
      "94/94 [==============================] - 0s 1ms/step - loss: 0.3978 - accuracy: 0.8194\n",
      "Epoch 69/100\n",
      "94/94 [==============================] - 0s 1ms/step - loss: 0.3939 - accuracy: 0.8211\n",
      "Epoch 70/100\n",
      "94/94 [==============================] - 0s 1ms/step - loss: 0.3943 - accuracy: 0.8194\n",
      "Epoch 71/100\n",
      "94/94 [==============================] - 0s 1ms/step - loss: 0.3949 - accuracy: 0.8181\n",
      "Epoch 72/100\n",
      "94/94 [==============================] - 0s 1ms/step - loss: 0.3919 - accuracy: 0.8197\n",
      "Epoch 73/100\n",
      "94/94 [==============================] - 0s 1ms/step - loss: 0.3916 - accuracy: 0.8231\n",
      "Epoch 74/100\n",
      "94/94 [==============================] - 0s 1ms/step - loss: 0.3920 - accuracy: 0.8234\n",
      "Epoch 75/100\n",
      "94/94 [==============================] - 0s 1ms/step - loss: 0.3891 - accuracy: 0.8237\n",
      "Epoch 76/100\n",
      "94/94 [==============================] - 0s 2ms/step - loss: 0.3916 - accuracy: 0.8231\n",
      "Epoch 77/100\n",
      "94/94 [==============================] - 1s 6ms/step - loss: 0.3876 - accuracy: 0.8234\n",
      "Epoch 78/100\n",
      "94/94 [==============================] - 0s 4ms/step - loss: 0.3882 - accuracy: 0.8258\n",
      "Epoch 79/100\n",
      "94/94 [==============================] - 0s 2ms/step - loss: 0.3851 - accuracy: 0.8281\n",
      "Epoch 80/100\n",
      "94/94 [==============================] - 0s 2ms/step - loss: 0.3851 - accuracy: 0.8291\n",
      "Epoch 81/100\n",
      "94/94 [==============================] - 0s 2ms/step - loss: 0.3843 - accuracy: 0.8201\n",
      "Epoch 82/100\n",
      "94/94 [==============================] - 0s 3ms/step - loss: 0.3856 - accuracy: 0.8227: 0s - loss: 0.3844 - accuracy: 0.\n",
      "Epoch 83/100\n",
      "94/94 [==============================] - ETA: 0s - loss: 0.3836 - accuracy: 0.82 - 0s 2ms/step - loss: 0.3832 - accuracy: 0.8261\n",
      "Epoch 84/100\n",
      "94/94 [==============================] - 0s 2ms/step - loss: 0.3813 - accuracy: 0.8294\n",
      "Epoch 85/100\n",
      "94/94 [==============================] - 0s 2ms/step - loss: 0.3800 - accuracy: 0.8321\n",
      "Epoch 86/100\n",
      "94/94 [==============================] - 0s 2ms/step - loss: 0.3811 - accuracy: 0.8251\n",
      "Epoch 87/100\n",
      "94/94 [==============================] - 0s 3ms/step - loss: 0.3798 - accuracy: 0.8254\n",
      "Epoch 88/100\n",
      "94/94 [==============================] - 0s 2ms/step - loss: 0.3774 - accuracy: 0.8311\n",
      "Epoch 89/100\n",
      "94/94 [==============================] - 0s 2ms/step - loss: 0.3774 - accuracy: 0.8304\n",
      "Epoch 90/100\n",
      "94/94 [==============================] - 0s 2ms/step - loss: 0.3773 - accuracy: 0.8284\n",
      "Epoch 91/100\n",
      "94/94 [==============================] - 0s 2ms/step - loss: 0.3763 - accuracy: 0.8254\n",
      "Epoch 92/100\n",
      "94/94 [==============================] - 0s 1ms/step - loss: 0.3727 - accuracy: 0.8341\n",
      "Epoch 93/100\n",
      "94/94 [==============================] - 0s 1ms/step - loss: 0.3749 - accuracy: 0.8278\n",
      "Epoch 94/100\n",
      "94/94 [==============================] - 0s 1ms/step - loss: 0.3737 - accuracy: 0.8314\n",
      "Epoch 95/100\n",
      "94/94 [==============================] - 0s 1ms/step - loss: 0.3720 - accuracy: 0.8298\n",
      "Epoch 96/100\n",
      "94/94 [==============================] - 0s 2ms/step - loss: 0.3714 - accuracy: 0.8341\n",
      "Epoch 97/100\n",
      "94/94 [==============================] - 0s 2ms/step - loss: 0.3695 - accuracy: 0.8334\n",
      "Epoch 98/100\n",
      "94/94 [==============================] - 0s 2ms/step - loss: 0.3695 - accuracy: 0.8334\n",
      "Epoch 99/100\n",
      "94/94 [==============================] - 0s 2ms/step - loss: 0.3693 - accuracy: 0.8328\n",
      "Epoch 100/100\n",
      "94/94 [==============================] - 0s 1ms/step - loss: 0.3695 - accuracy: 0.8351\n",
      "44/44 [==============================] - 0s 1ms/step - loss: 0.5892 - accuracy: 0.7292\n",
      "              precision    recall  f1-score   support\n",
      "\n",
      "           0       0.87      0.74      0.80      1033\n",
      "           1       0.49      0.69      0.58       374\n",
      "\n",
      "    accuracy                           0.73      1407\n",
      "   macro avg       0.68      0.72      0.69      1407\n",
      "weighted avg       0.77      0.73      0.74      1407\n",
      "\n",
      "Epoch 1/100\n",
      "83/83 [==============================] - 1s 2ms/step - loss: 0.6163 - accuracy: 0.6414\n",
      "Epoch 2/100\n",
      "83/83 [==============================] - 0s 2ms/step - loss: 0.5425 - accuracy: 0.7484\n",
      "Epoch 3/100\n",
      "83/83 [==============================] - 0s 2ms/step - loss: 0.5092 - accuracy: 0.7586\n",
      "Epoch 4/100\n",
      "83/83 [==============================] - 0s 2ms/step - loss: 0.4933 - accuracy: 0.7655\n",
      "Epoch 5/100\n",
      "83/83 [==============================] - 0s 2ms/step - loss: 0.4856 - accuracy: 0.7708\n",
      "Epoch 6/100\n",
      "83/83 [==============================] - 0s 5ms/step - loss: 0.4809 - accuracy: 0.7731\n",
      "Epoch 7/100\n",
      "83/83 [==============================] - 0s 3ms/step - loss: 0.4763 - accuracy: 0.7742\n",
      "Epoch 8/100\n",
      "83/83 [==============================] - 0s 4ms/step - loss: 0.4748 - accuracy: 0.7784\n",
      "Epoch 9/100\n",
      "83/83 [==============================] - 0s 3ms/step - loss: 0.4715 - accuracy: 0.7787\n",
      "Epoch 10/100\n",
      "83/83 [==============================] - 0s 3ms/step - loss: 0.4707 - accuracy: 0.7791\n",
      "Epoch 11/100\n",
      "83/83 [==============================] - 0s 3ms/step - loss: 0.4666 - accuracy: 0.7833\n",
      "Epoch 12/100\n",
      "83/83 [==============================] - 0s 2ms/step - loss: 0.4645 - accuracy: 0.7856\n",
      "Epoch 13/100\n",
      "83/83 [==============================] - 0s 2ms/step - loss: 0.4637 - accuracy: 0.7879\n",
      "Epoch 14/100\n",
      "83/83 [==============================] - 0s 4ms/step - loss: 0.4610 - accuracy: 0.7894\n",
      "Epoch 15/100\n",
      "83/83 [==============================] - 0s 3ms/step - loss: 0.4583 - accuracy: 0.7882\n",
      "Epoch 16/100\n",
      "83/83 [==============================] - 0s 3ms/step - loss: 0.4566 - accuracy: 0.7901\n",
      "Epoch 17/100\n",
      "83/83 [==============================] - 0s 3ms/step - loss: 0.4568 - accuracy: 0.7898\n",
      "Epoch 18/100\n",
      "83/83 [==============================] - 0s 2ms/step - loss: 0.4561 - accuracy: 0.7871\n",
      "Epoch 19/100\n",
      "83/83 [==============================] - 0s 2ms/step - loss: 0.4518 - accuracy: 0.7928\n",
      "Epoch 20/100\n",
      "83/83 [==============================] - 0s 2ms/step - loss: 0.4513 - accuracy: 0.7935\n",
      "Epoch 21/100\n",
      "83/83 [==============================] - 0s 2ms/step - loss: 0.4487 - accuracy: 0.7951\n",
      "Epoch 22/100\n",
      "83/83 [==============================] - 0s 4ms/step - loss: 0.4481 - accuracy: 0.7935\n",
      "Epoch 23/100\n",
      "83/83 [==============================] - 0s 2ms/step - loss: 0.4469 - accuracy: 0.7966\n",
      "Epoch 24/100\n",
      "83/83 [==============================] - 0s 2ms/step - loss: 0.4453 - accuracy: 0.7951\n",
      "Epoch 25/100\n",
      "83/83 [==============================] - 0s 3ms/step - loss: 0.4463 - accuracy: 0.7905\n",
      "Epoch 26/100\n",
      "83/83 [==============================] - 0s 3ms/step - loss: 0.4425 - accuracy: 0.7970\n",
      "Epoch 27/100\n",
      "83/83 [==============================] - 0s 2ms/step - loss: 0.4402 - accuracy: 0.7985\n",
      "Epoch 28/100\n",
      "83/83 [==============================] - 0s 2ms/step - loss: 0.4404 - accuracy: 0.7973\n",
      "Epoch 29/100\n",
      "83/83 [==============================] - 0s 2ms/step - loss: 0.4382 - accuracy: 0.7977\n",
      "Epoch 30/100\n",
      "83/83 [==============================] - 0s 2ms/step - loss: 0.4383 - accuracy: 0.7970\n",
      "Epoch 31/100\n",
      "83/83 [==============================] - 0s 2ms/step - loss: 0.4357 - accuracy: 0.7985\n",
      "Epoch 32/100\n",
      "83/83 [==============================] - 0s 2ms/step - loss: 0.4346 - accuracy: 0.8015\n",
      "Epoch 33/100\n",
      "83/83 [==============================] - 0s 2ms/step - loss: 0.4349 - accuracy: 0.7977\n",
      "Epoch 34/100\n",
      "83/83 [==============================] - 0s 2ms/step - loss: 0.4315 - accuracy: 0.8034\n",
      "Epoch 35/100\n",
      "83/83 [==============================] - 0s 2ms/step - loss: 0.4303 - accuracy: 0.8061\n",
      "Epoch 36/100\n",
      "83/83 [==============================] - 0s 2ms/step - loss: 0.4297 - accuracy: 0.8027\n",
      "Epoch 37/100\n",
      "83/83 [==============================] - 0s 2ms/step - loss: 0.4288 - accuracy: 0.8049\n",
      "Epoch 38/100\n",
      "83/83 [==============================] - 0s 3ms/step - loss: 0.4279 - accuracy: 0.8057\n",
      "Epoch 39/100\n",
      "83/83 [==============================] - 0s 3ms/step - loss: 0.4257 - accuracy: 0.8057\n",
      "Epoch 40/100\n",
      "83/83 [==============================] - 0s 2ms/step - loss: 0.4250 - accuracy: 0.8080\n",
      "Epoch 41/100\n",
      "83/83 [==============================] - 0s 2ms/step - loss: 0.4234 - accuracy: 0.8068\n",
      "Epoch 42/100\n",
      "83/83 [==============================] - 0s 2ms/step - loss: 0.4223 - accuracy: 0.8095\n",
      "Epoch 43/100\n",
      "83/83 [==============================] - 0s 2ms/step - loss: 0.4202 - accuracy: 0.8057\n",
      "Epoch 44/100\n",
      "83/83 [==============================] - 0s 2ms/step - loss: 0.4192 - accuracy: 0.8110\n",
      "Epoch 45/100\n",
      "83/83 [==============================] - 0s 2ms/step - loss: 0.4179 - accuracy: 0.8091\n",
      "Epoch 46/100\n",
      "83/83 [==============================] - 0s 2ms/step - loss: 0.4170 - accuracy: 0.8118\n",
      "Epoch 47/100\n",
      "83/83 [==============================] - 0s 2ms/step - loss: 0.4169 - accuracy: 0.8148\n",
      "Epoch 48/100\n",
      "83/83 [==============================] - 0s 2ms/step - loss: 0.4133 - accuracy: 0.8080\n",
      "Epoch 49/100\n",
      "83/83 [==============================] - 0s 2ms/step - loss: 0.4133 - accuracy: 0.8114\n",
      "Epoch 50/100\n",
      "83/83 [==============================] - 0s 2ms/step - loss: 0.4129 - accuracy: 0.8159\n",
      "Epoch 51/100\n",
      "83/83 [==============================] - 0s 2ms/step - loss: 0.4104 - accuracy: 0.8140\n",
      "Epoch 52/100\n",
      "83/83 [==============================] - 0s 2ms/step - loss: 0.4100 - accuracy: 0.8144\n",
      "Epoch 53/100\n",
      "83/83 [==============================] - 0s 2ms/step - loss: 0.4083 - accuracy: 0.8216\n",
      "Epoch 54/100\n",
      "83/83 [==============================] - 0s 2ms/step - loss: 0.4091 - accuracy: 0.8201\n",
      "Epoch 55/100\n",
      "83/83 [==============================] - 0s 2ms/step - loss: 0.4073 - accuracy: 0.8171\n",
      "Epoch 56/100\n",
      "83/83 [==============================] - 0s 2ms/step - loss: 0.4063 - accuracy: 0.8186\n",
      "Epoch 57/100\n",
      "83/83 [==============================] - 0s 2ms/step - loss: 0.4043 - accuracy: 0.8175\n",
      "Epoch 58/100\n",
      "83/83 [==============================] - 0s 2ms/step - loss: 0.4026 - accuracy: 0.8201\n",
      "Epoch 59/100\n"
     ]
    },
    {
     "name": "stdout",
     "output_type": "stream",
     "text": [
      "83/83 [==============================] - 0s 2ms/step - loss: 0.4025 - accuracy: 0.8159\n",
      "Epoch 60/100\n",
      "83/83 [==============================] - 0s 2ms/step - loss: 0.4013 - accuracy: 0.8209\n",
      "Epoch 61/100\n",
      "83/83 [==============================] - 0s 2ms/step - loss: 0.3996 - accuracy: 0.8243\n",
      "Epoch 62/100\n",
      "83/83 [==============================] - 0s 2ms/step - loss: 0.3998 - accuracy: 0.8231\n",
      "Epoch 63/100\n",
      "83/83 [==============================] - 0s 2ms/step - loss: 0.3978 - accuracy: 0.8216\n",
      "Epoch 64/100\n",
      "83/83 [==============================] - 0s 2ms/step - loss: 0.3972 - accuracy: 0.8224\n",
      "Epoch 65/100\n",
      "83/83 [==============================] - 0s 2ms/step - loss: 0.3966 - accuracy: 0.8239\n",
      "Epoch 66/100\n",
      "83/83 [==============================] - 0s 2ms/step - loss: 0.3975 - accuracy: 0.8178\n",
      "Epoch 67/100\n",
      "83/83 [==============================] - 0s 2ms/step - loss: 0.3962 - accuracy: 0.8243\n",
      "Epoch 68/100\n",
      "83/83 [==============================] - 0s 2ms/step - loss: 0.3935 - accuracy: 0.8247\n",
      "Epoch 69/100\n",
      "83/83 [==============================] - 0s 2ms/step - loss: 0.3935 - accuracy: 0.8273\n",
      "Epoch 70/100\n",
      "83/83 [==============================] - 0s 2ms/step - loss: 0.3909 - accuracy: 0.8296\n",
      "Epoch 71/100\n",
      "83/83 [==============================] - 0s 2ms/step - loss: 0.3913 - accuracy: 0.8254\n",
      "Epoch 72/100\n",
      "83/83 [==============================] - 0s 2ms/step - loss: 0.3909 - accuracy: 0.8254\n",
      "Epoch 73/100\n",
      "83/83 [==============================] - 0s 2ms/step - loss: 0.3904 - accuracy: 0.8296\n",
      "Epoch 74/100\n",
      "83/83 [==============================] - 0s 2ms/step - loss: 0.3903 - accuracy: 0.8300\n",
      "Epoch 75/100\n",
      "83/83 [==============================] - 0s 2ms/step - loss: 0.3882 - accuracy: 0.8269\n",
      "Epoch 76/100\n",
      "83/83 [==============================] - 0s 2ms/step - loss: 0.3882 - accuracy: 0.8288\n",
      "Epoch 77/100\n",
      "83/83 [==============================] - 0s 2ms/step - loss: 0.3860 - accuracy: 0.8250\n",
      "Epoch 78/100\n",
      "83/83 [==============================] - 0s 2ms/step - loss: 0.3854 - accuracy: 0.8345\n",
      "Epoch 79/100\n",
      "83/83 [==============================] - 0s 2ms/step - loss: 0.3868 - accuracy: 0.8262\n",
      "Epoch 80/100\n",
      "83/83 [==============================] - 0s 2ms/step - loss: 0.3819 - accuracy: 0.8315\n",
      "Epoch 81/100\n",
      "83/83 [==============================] - 0s 2ms/step - loss: 0.3817 - accuracy: 0.8281\n",
      "Epoch 82/100\n",
      "83/83 [==============================] - 0s 2ms/step - loss: 0.3810 - accuracy: 0.8345\n",
      "Epoch 83/100\n",
      "83/83 [==============================] - 0s 2ms/step - loss: 0.3839 - accuracy: 0.8315\n",
      "Epoch 84/100\n",
      "83/83 [==============================] - 0s 2ms/step - loss: 0.3811 - accuracy: 0.8304\n",
      "Epoch 85/100\n",
      "83/83 [==============================] - 0s 2ms/step - loss: 0.3824 - accuracy: 0.8353\n",
      "Epoch 86/100\n",
      "83/83 [==============================] - 0s 2ms/step - loss: 0.3794 - accuracy: 0.8326\n",
      "Epoch 87/100\n",
      "83/83 [==============================] - 0s 2ms/step - loss: 0.3816 - accuracy: 0.8307\n",
      "Epoch 88/100\n",
      "83/83 [==============================] - 0s 2ms/step - loss: 0.3789 - accuracy: 0.8296\n",
      "Epoch 89/100\n",
      "83/83 [==============================] - ETA: 0s - loss: 0.3765 - accuracy: 0.83 - 0s 4ms/step - loss: 0.3765 - accuracy: 0.8380\n",
      "Epoch 90/100\n",
      "83/83 [==============================] - 1s 6ms/step - loss: 0.3753 - accuracy: 0.8383\n",
      "Epoch 91/100\n",
      "83/83 [==============================] - 0s 3ms/step - loss: 0.3764 - accuracy: 0.8361\n",
      "Epoch 92/100\n",
      "83/83 [==============================] - 0s 3ms/step - loss: 0.3770 - accuracy: 0.8349\n",
      "Epoch 93/100\n",
      "83/83 [==============================] - 0s 3ms/step - loss: 0.3735 - accuracy: 0.8368\n",
      "Epoch 94/100\n",
      "83/83 [==============================] - 0s 4ms/step - loss: 0.3747 - accuracy: 0.8330\n",
      "Epoch 95/100\n",
      "83/83 [==============================] - 0s 5ms/step - loss: 0.3739 - accuracy: 0.8353: 0s - loss: 0.3740 - accuracy\n",
      "Epoch 96/100\n",
      "83/83 [==============================] - 0s 3ms/step - loss: 0.3724 - accuracy: 0.8417\n",
      "Epoch 97/100\n",
      "83/83 [==============================] - 0s 3ms/step - loss: 0.3716 - accuracy: 0.8387\n",
      "Epoch 98/100\n",
      "83/83 [==============================] - 0s 3ms/step - loss: 0.3711 - accuracy: 0.8361\n",
      "Epoch 99/100\n",
      "83/83 [==============================] - 0s 3ms/step - loss: 0.3721 - accuracy: 0.8353\n",
      "Epoch 100/100\n",
      "83/83 [==============================] - 0s 4ms/step - loss: 0.3693 - accuracy: 0.8383\n",
      "44/44 [==============================] - 0s 2ms/step - loss: 0.6719 - accuracy: 0.6752\n",
      "              precision    recall  f1-score   support\n",
      "\n",
      "           0       0.91      0.62      0.74      1033\n",
      "           1       0.44      0.82      0.57       374\n",
      "\n",
      "    accuracy                           0.68      1407\n",
      "   macro avg       0.67      0.72      0.66      1407\n",
      "weighted avg       0.78      0.68      0.69      1407\n",
      "\n"
     ]
    }
   ],
   "source": [
    "X_train, y_train = get_train_batch(df3_class_0, df3_class_1, 1495, 2990)\n",
    "y_pred2 = ANN(X_train, X_test, y_train, y_test, 'binary_crossentropy', -1)\n",
    "X_train, y_train = get_train_batch(df3_class_0, df3_class_1, 2990, 4130)\n",
    "y_pred3 = ANN(X_train, X_test, y_train, y_test, 'binary_crossentropy', -1)"
   ]
  },
  {
   "cell_type": "code",
   "execution_count": 68,
   "id": "87704f8f",
   "metadata": {},
   "outputs": [],
   "source": [
    "y_pred_final = y_pred1.copy()\n",
    "\n",
    "for i in range(len(y_pred_final)):\n",
    "    n_ones = y_pred1[i]+y_pred2[i]+y_pred3[i]\n",
    "    if n_ones>1:\n",
    "        y_pred_final[i] = 1\n",
    "    else:\n",
    "        y_pred_final[i] = 0"
   ]
  },
  {
   "cell_type": "code",
   "execution_count": 69,
   "id": "cf978466",
   "metadata": {},
   "outputs": [
    {
     "name": "stdout",
     "output_type": "stream",
     "text": [
      "              precision    recall  f1-score   support\n",
      "\n",
      "           0       0.90      0.69      0.78      1033\n",
      "           1       0.48      0.79      0.60       374\n",
      "\n",
      "    accuracy                           0.72      1407\n",
      "   macro avg       0.69      0.74      0.69      1407\n",
      "weighted avg       0.79      0.72      0.73      1407\n",
      "\n"
     ]
    }
   ],
   "source": [
    "print(classification_report(y_test, y_pred_final))"
   ]
  },
  {
   "cell_type": "code",
   "execution_count": 183,
   "id": "631babd0",
   "metadata": {},
   "outputs": [
    {
     "data": {
      "text/html": [
       "<div>\n",
       "<style scoped>\n",
       "    .dataframe tbody tr th:only-of-type {\n",
       "        vertical-align: middle;\n",
       "    }\n",
       "\n",
       "    .dataframe tbody tr th {\n",
       "        vertical-align: top;\n",
       "    }\n",
       "\n",
       "    .dataframe thead th {\n",
       "        text-align: right;\n",
       "    }\n",
       "</style>\n",
       "<table border=\"1\" class=\"dataframe\">\n",
       "  <thead>\n",
       "    <tr style=\"text-align: right;\">\n",
       "      <th></th>\n",
       "      <th>0</th>\n",
       "      <th>1</th>\n",
       "      <th>2</th>\n",
       "      <th>3</th>\n",
       "      <th>4</th>\n",
       "      <th>5</th>\n",
       "      <th>6</th>\n",
       "      <th>7</th>\n",
       "      <th>8</th>\n",
       "      <th>9</th>\n",
       "      <th>...</th>\n",
       "      <th>51</th>\n",
       "      <th>52</th>\n",
       "      <th>53</th>\n",
       "      <th>54</th>\n",
       "      <th>55</th>\n",
       "      <th>56</th>\n",
       "      <th>57</th>\n",
       "      <th>58</th>\n",
       "      <th>59</th>\n",
       "      <th>60</th>\n",
       "    </tr>\n",
       "  </thead>\n",
       "  <tbody>\n",
       "    <tr>\n",
       "      <th>0</th>\n",
       "      <td>0.0200</td>\n",
       "      <td>0.0371</td>\n",
       "      <td>0.0428</td>\n",
       "      <td>0.0207</td>\n",
       "      <td>0.0954</td>\n",
       "      <td>0.0986</td>\n",
       "      <td>0.1539</td>\n",
       "      <td>0.1601</td>\n",
       "      <td>0.3109</td>\n",
       "      <td>0.2111</td>\n",
       "      <td>...</td>\n",
       "      <td>0.0027</td>\n",
       "      <td>0.0065</td>\n",
       "      <td>0.0159</td>\n",
       "      <td>0.0072</td>\n",
       "      <td>0.0167</td>\n",
       "      <td>0.0180</td>\n",
       "      <td>0.0084</td>\n",
       "      <td>0.0090</td>\n",
       "      <td>0.0032</td>\n",
       "      <td>R</td>\n",
       "    </tr>\n",
       "    <tr>\n",
       "      <th>1</th>\n",
       "      <td>0.0453</td>\n",
       "      <td>0.0523</td>\n",
       "      <td>0.0843</td>\n",
       "      <td>0.0689</td>\n",
       "      <td>0.1183</td>\n",
       "      <td>0.2583</td>\n",
       "      <td>0.2156</td>\n",
       "      <td>0.3481</td>\n",
       "      <td>0.3337</td>\n",
       "      <td>0.2872</td>\n",
       "      <td>...</td>\n",
       "      <td>0.0084</td>\n",
       "      <td>0.0089</td>\n",
       "      <td>0.0048</td>\n",
       "      <td>0.0094</td>\n",
       "      <td>0.0191</td>\n",
       "      <td>0.0140</td>\n",
       "      <td>0.0049</td>\n",
       "      <td>0.0052</td>\n",
       "      <td>0.0044</td>\n",
       "      <td>R</td>\n",
       "    </tr>\n",
       "    <tr>\n",
       "      <th>2</th>\n",
       "      <td>0.0262</td>\n",
       "      <td>0.0582</td>\n",
       "      <td>0.1099</td>\n",
       "      <td>0.1083</td>\n",
       "      <td>0.0974</td>\n",
       "      <td>0.2280</td>\n",
       "      <td>0.2431</td>\n",
       "      <td>0.3771</td>\n",
       "      <td>0.5598</td>\n",
       "      <td>0.6194</td>\n",
       "      <td>...</td>\n",
       "      <td>0.0232</td>\n",
       "      <td>0.0166</td>\n",
       "      <td>0.0095</td>\n",
       "      <td>0.0180</td>\n",
       "      <td>0.0244</td>\n",
       "      <td>0.0316</td>\n",
       "      <td>0.0164</td>\n",
       "      <td>0.0095</td>\n",
       "      <td>0.0078</td>\n",
       "      <td>R</td>\n",
       "    </tr>\n",
       "    <tr>\n",
       "      <th>3</th>\n",
       "      <td>0.0100</td>\n",
       "      <td>0.0171</td>\n",
       "      <td>0.0623</td>\n",
       "      <td>0.0205</td>\n",
       "      <td>0.0205</td>\n",
       "      <td>0.0368</td>\n",
       "      <td>0.1098</td>\n",
       "      <td>0.1276</td>\n",
       "      <td>0.0598</td>\n",
       "      <td>0.1264</td>\n",
       "      <td>...</td>\n",
       "      <td>0.0121</td>\n",
       "      <td>0.0036</td>\n",
       "      <td>0.0150</td>\n",
       "      <td>0.0085</td>\n",
       "      <td>0.0073</td>\n",
       "      <td>0.0050</td>\n",
       "      <td>0.0044</td>\n",
       "      <td>0.0040</td>\n",
       "      <td>0.0117</td>\n",
       "      <td>R</td>\n",
       "    </tr>\n",
       "    <tr>\n",
       "      <th>4</th>\n",
       "      <td>0.0762</td>\n",
       "      <td>0.0666</td>\n",
       "      <td>0.0481</td>\n",
       "      <td>0.0394</td>\n",
       "      <td>0.0590</td>\n",
       "      <td>0.0649</td>\n",
       "      <td>0.1209</td>\n",
       "      <td>0.2467</td>\n",
       "      <td>0.3564</td>\n",
       "      <td>0.4459</td>\n",
       "      <td>...</td>\n",
       "      <td>0.0031</td>\n",
       "      <td>0.0054</td>\n",
       "      <td>0.0105</td>\n",
       "      <td>0.0110</td>\n",
       "      <td>0.0015</td>\n",
       "      <td>0.0072</td>\n",
       "      <td>0.0048</td>\n",
       "      <td>0.0107</td>\n",
       "      <td>0.0094</td>\n",
       "      <td>R</td>\n",
       "    </tr>\n",
       "  </tbody>\n",
       "</table>\n",
       "<p>5 rows × 61 columns</p>\n",
       "</div>"
      ],
      "text/plain": [
       "       0       1       2       3       4       5       6       7       8   \\\n",
       "0  0.0200  0.0371  0.0428  0.0207  0.0954  0.0986  0.1539  0.1601  0.3109   \n",
       "1  0.0453  0.0523  0.0843  0.0689  0.1183  0.2583  0.2156  0.3481  0.3337   \n",
       "2  0.0262  0.0582  0.1099  0.1083  0.0974  0.2280  0.2431  0.3771  0.5598   \n",
       "3  0.0100  0.0171  0.0623  0.0205  0.0205  0.0368  0.1098  0.1276  0.0598   \n",
       "4  0.0762  0.0666  0.0481  0.0394  0.0590  0.0649  0.1209  0.2467  0.3564   \n",
       "\n",
       "       9   ...      51      52      53      54      55      56      57  \\\n",
       "0  0.2111  ...  0.0027  0.0065  0.0159  0.0072  0.0167  0.0180  0.0084   \n",
       "1  0.2872  ...  0.0084  0.0089  0.0048  0.0094  0.0191  0.0140  0.0049   \n",
       "2  0.6194  ...  0.0232  0.0166  0.0095  0.0180  0.0244  0.0316  0.0164   \n",
       "3  0.1264  ...  0.0121  0.0036  0.0150  0.0085  0.0073  0.0050  0.0044   \n",
       "4  0.4459  ...  0.0031  0.0054  0.0105  0.0110  0.0015  0.0072  0.0048   \n",
       "\n",
       "       58      59  60  \n",
       "0  0.0090  0.0032   R  \n",
       "1  0.0052  0.0044   R  \n",
       "2  0.0095  0.0078   R  \n",
       "3  0.0040  0.0117   R  \n",
       "4  0.0107  0.0094   R  \n",
       "\n",
       "[5 rows x 61 columns]"
      ]
     },
     "execution_count": 183,
     "metadata": {},
     "output_type": "execute_result"
    }
   ],
   "source": [
    "data = pd.read_csv('sonar.csv', header = None)\n",
    "data.head()"
   ]
  },
  {
   "cell_type": "code",
   "execution_count": 184,
   "id": "c87e87bf",
   "metadata": {
    "scrolled": true
   },
   "outputs": [
    {
     "name": "stdout",
     "output_type": "stream",
     "text": [
      "<class 'pandas.core.frame.DataFrame'>\n",
      "RangeIndex: 208 entries, 0 to 207\n",
      "Data columns (total 61 columns):\n",
      " #   Column  Non-Null Count  Dtype  \n",
      "---  ------  --------------  -----  \n",
      " 0   0       208 non-null    float64\n",
      " 1   1       208 non-null    float64\n",
      " 2   2       208 non-null    float64\n",
      " 3   3       208 non-null    float64\n",
      " 4   4       208 non-null    float64\n",
      " 5   5       208 non-null    float64\n",
      " 6   6       208 non-null    float64\n",
      " 7   7       208 non-null    float64\n",
      " 8   8       208 non-null    float64\n",
      " 9   9       208 non-null    float64\n",
      " 10  10      208 non-null    float64\n",
      " 11  11      208 non-null    float64\n",
      " 12  12      208 non-null    float64\n",
      " 13  13      208 non-null    float64\n",
      " 14  14      208 non-null    float64\n",
      " 15  15      208 non-null    float64\n",
      " 16  16      208 non-null    float64\n",
      " 17  17      208 non-null    float64\n",
      " 18  18      208 non-null    float64\n",
      " 19  19      208 non-null    float64\n",
      " 20  20      208 non-null    float64\n",
      " 21  21      208 non-null    float64\n",
      " 22  22      208 non-null    float64\n",
      " 23  23      208 non-null    float64\n",
      " 24  24      208 non-null    float64\n",
      " 25  25      208 non-null    float64\n",
      " 26  26      208 non-null    float64\n",
      " 27  27      208 non-null    float64\n",
      " 28  28      208 non-null    float64\n",
      " 29  29      208 non-null    float64\n",
      " 30  30      208 non-null    float64\n",
      " 31  31      208 non-null    float64\n",
      " 32  32      208 non-null    float64\n",
      " 33  33      208 non-null    float64\n",
      " 34  34      208 non-null    float64\n",
      " 35  35      208 non-null    float64\n",
      " 36  36      208 non-null    float64\n",
      " 37  37      208 non-null    float64\n",
      " 38  38      208 non-null    float64\n",
      " 39  39      208 non-null    float64\n",
      " 40  40      208 non-null    float64\n",
      " 41  41      208 non-null    float64\n",
      " 42  42      208 non-null    float64\n",
      " 43  43      208 non-null    float64\n",
      " 44  44      208 non-null    float64\n",
      " 45  45      208 non-null    float64\n",
      " 46  46      208 non-null    float64\n",
      " 47  47      208 non-null    float64\n",
      " 48  48      208 non-null    float64\n",
      " 49  49      208 non-null    float64\n",
      " 50  50      208 non-null    float64\n",
      " 51  51      208 non-null    float64\n",
      " 52  52      208 non-null    float64\n",
      " 53  53      208 non-null    float64\n",
      " 54  54      208 non-null    float64\n",
      " 55  55      208 non-null    float64\n",
      " 56  56      208 non-null    float64\n",
      " 57  57      208 non-null    float64\n",
      " 58  58      208 non-null    float64\n",
      " 59  59      208 non-null    float64\n",
      " 60  60      208 non-null    object \n",
      "dtypes: float64(60), object(1)\n",
      "memory usage: 99.2+ KB\n"
     ]
    }
   ],
   "source": [
    "data.info()"
   ]
  },
  {
   "cell_type": "code",
   "execution_count": 186,
   "id": "5708db71",
   "metadata": {},
   "outputs": [
    {
     "data": {
      "text/plain": [
       "array([0])"
      ]
     },
     "execution_count": 186,
     "metadata": {},
     "output_type": "execute_result"
    }
   ],
   "source": [
    "data.isna().sum().unique()"
   ]
  },
  {
   "cell_type": "code",
   "execution_count": 189,
   "id": "efb07344",
   "metadata": {},
   "outputs": [
    {
     "data": {
      "text/plain": [
       "M    111\n",
       "R     97\n",
       "Name: 60, dtype: int64"
      ]
     },
     "execution_count": 189,
     "metadata": {},
     "output_type": "execute_result"
    }
   ],
   "source": [
    "data[60].value_counts()"
   ]
  },
  {
   "cell_type": "code",
   "execution_count": 190,
   "id": "7e9482ae",
   "metadata": {},
   "outputs": [],
   "source": [
    "X = data.drop(60, axis = 1)\n",
    "y = data[60]"
   ]
  },
  {
   "cell_type": "code",
   "execution_count": 191,
   "id": "69605232",
   "metadata": {},
   "outputs": [
    {
     "data": {
      "text/html": [
       "<div>\n",
       "<style scoped>\n",
       "    .dataframe tbody tr th:only-of-type {\n",
       "        vertical-align: middle;\n",
       "    }\n",
       "\n",
       "    .dataframe tbody tr th {\n",
       "        vertical-align: top;\n",
       "    }\n",
       "\n",
       "    .dataframe thead th {\n",
       "        text-align: right;\n",
       "    }\n",
       "</style>\n",
       "<table border=\"1\" class=\"dataframe\">\n",
       "  <thead>\n",
       "    <tr style=\"text-align: right;\">\n",
       "      <th></th>\n",
       "      <th>R</th>\n",
       "    </tr>\n",
       "  </thead>\n",
       "  <tbody>\n",
       "    <tr>\n",
       "      <th>0</th>\n",
       "      <td>1</td>\n",
       "    </tr>\n",
       "    <tr>\n",
       "      <th>1</th>\n",
       "      <td>1</td>\n",
       "    </tr>\n",
       "    <tr>\n",
       "      <th>2</th>\n",
       "      <td>1</td>\n",
       "    </tr>\n",
       "    <tr>\n",
       "      <th>3</th>\n",
       "      <td>1</td>\n",
       "    </tr>\n",
       "    <tr>\n",
       "      <th>4</th>\n",
       "      <td>1</td>\n",
       "    </tr>\n",
       "    <tr>\n",
       "      <th>...</th>\n",
       "      <td>...</td>\n",
       "    </tr>\n",
       "    <tr>\n",
       "      <th>203</th>\n",
       "      <td>0</td>\n",
       "    </tr>\n",
       "    <tr>\n",
       "      <th>204</th>\n",
       "      <td>0</td>\n",
       "    </tr>\n",
       "    <tr>\n",
       "      <th>205</th>\n",
       "      <td>0</td>\n",
       "    </tr>\n",
       "    <tr>\n",
       "      <th>206</th>\n",
       "      <td>0</td>\n",
       "    </tr>\n",
       "    <tr>\n",
       "      <th>207</th>\n",
       "      <td>0</td>\n",
       "    </tr>\n",
       "  </tbody>\n",
       "</table>\n",
       "<p>208 rows × 1 columns</p>\n",
       "</div>"
      ],
      "text/plain": [
       "     R\n",
       "0    1\n",
       "1    1\n",
       "2    1\n",
       "3    1\n",
       "4    1\n",
       "..  ..\n",
       "203  0\n",
       "204  0\n",
       "205  0\n",
       "206  0\n",
       "207  0\n",
       "\n",
       "[208 rows x 1 columns]"
      ]
     },
     "execution_count": 191,
     "metadata": {},
     "output_type": "execute_result"
    }
   ],
   "source": [
    "y = pd.get_dummies(y, drop_first = True)\n",
    "y"
   ]
  },
  {
   "cell_type": "code",
   "execution_count": 192,
   "id": "d61bc5b0",
   "metadata": {},
   "outputs": [
    {
     "data": {
      "text/plain": [
       "R\n",
       "0    111\n",
       "1     97\n",
       "dtype: int64"
      ]
     },
     "execution_count": 192,
     "metadata": {},
     "output_type": "execute_result"
    }
   ],
   "source": [
    "y.value_counts()"
   ]
  },
  {
   "cell_type": "code",
   "execution_count": 194,
   "id": "bab6ac14",
   "metadata": {},
   "outputs": [],
   "source": [
    "from sklearn.model_selection import train_test_split\n",
    "\n",
    "X_train, X_test, y_train, y_test = train_test_split(X, y, test_size = 0.2, random_state = 1)"
   ]
  },
  {
   "cell_type": "code",
   "execution_count": 196,
   "id": "7e23e920",
   "metadata": {},
   "outputs": [
    {
     "data": {
      "text/plain": [
       "((166, 60), (42, 60))"
      ]
     },
     "execution_count": 196,
     "metadata": {},
     "output_type": "execute_result"
    }
   ],
   "source": [
    "X_train.shape, X_test.shape"
   ]
  },
  {
   "cell_type": "code",
   "execution_count": 198,
   "id": "6a4ad1a1",
   "metadata": {},
   "outputs": [
    {
     "name": "stdout",
     "output_type": "stream",
     "text": [
      "Epoch 1/100\n",
      "21/21 [==============================] - 2s 3ms/step - loss: 0.6786 - accuracy: 0.5783\n",
      "Epoch 2/100\n",
      "21/21 [==============================] - 0s 3ms/step - loss: 0.6466 - accuracy: 0.6566\n",
      "Epoch 3/100\n",
      "21/21 [==============================] - 0s 2ms/step - loss: 0.6100 - accuracy: 0.6325\n",
      "Epoch 4/100\n",
      "21/21 [==============================] - 0s 2ms/step - loss: 0.5714 - accuracy: 0.7711\n",
      "Epoch 5/100\n",
      "21/21 [==============================] - 0s 3ms/step - loss: 0.5298 - accuracy: 0.8072\n",
      "Epoch 6/100\n",
      "21/21 [==============================] - 0s 3ms/step - loss: 0.5006 - accuracy: 0.7892\n",
      "Epoch 7/100\n",
      "21/21 [==============================] - 0s 2ms/step - loss: 0.4607 - accuracy: 0.8012\n",
      "Epoch 8/100\n",
      "21/21 [==============================] - 0s 3ms/step - loss: 0.4365 - accuracy: 0.8193\n",
      "Epoch 9/100\n",
      "21/21 [==============================] - 0s 2ms/step - loss: 0.3933 - accuracy: 0.8494\n",
      "Epoch 10/100\n",
      "21/21 [==============================] - 0s 2ms/step - loss: 0.3764 - accuracy: 0.8795\n",
      "Epoch 11/100\n",
      "21/21 [==============================] - 0s 3ms/step - loss: 0.3868 - accuracy: 0.8313\n",
      "Epoch 12/100\n",
      "21/21 [==============================] - 0s 2ms/step - loss: 0.3481 - accuracy: 0.8855\n",
      "Epoch 13/100\n",
      "21/21 [==============================] - 0s 2ms/step - loss: 0.3344 - accuracy: 0.8795\n",
      "Epoch 14/100\n",
      "21/21 [==============================] - 0s 2ms/step - loss: 0.3337 - accuracy: 0.8735\n",
      "Epoch 15/100\n",
      "21/21 [==============================] - 0s 3ms/step - loss: 0.3147 - accuracy: 0.8554\n",
      "Epoch 16/100\n",
      "21/21 [==============================] - 0s 3ms/step - loss: 0.2976 - accuracy: 0.8855\n",
      "Epoch 17/100\n",
      "21/21 [==============================] - 0s 2ms/step - loss: 0.2706 - accuracy: 0.9217\n",
      "Epoch 18/100\n",
      "21/21 [==============================] - 0s 2ms/step - loss: 0.2622 - accuracy: 0.8976\n",
      "Epoch 19/100\n",
      "21/21 [==============================] - 0s 3ms/step - loss: 0.2534 - accuracy: 0.9096\n",
      "Epoch 20/100\n",
      "21/21 [==============================] - 0s 2ms/step - loss: 0.2399 - accuracy: 0.9398\n",
      "Epoch 21/100\n",
      "21/21 [==============================] - 0s 2ms/step - loss: 0.2290 - accuracy: 0.9398\n",
      "Epoch 22/100\n",
      "21/21 [==============================] - 0s 2ms/step - loss: 0.2153 - accuracy: 0.9458\n",
      "Epoch 23/100\n",
      "21/21 [==============================] - 0s 2ms/step - loss: 0.2169 - accuracy: 0.9157\n",
      "Epoch 24/100\n",
      "21/21 [==============================] - 0s 2ms/step - loss: 0.1849 - accuracy: 0.9518\n",
      "Epoch 25/100\n",
      "21/21 [==============================] - 0s 2ms/step - loss: 0.1861 - accuracy: 0.9518\n",
      "Epoch 26/100\n",
      "21/21 [==============================] - 0s 2ms/step - loss: 0.2061 - accuracy: 0.9096\n",
      "Epoch 27/100\n",
      "21/21 [==============================] - 0s 2ms/step - loss: 0.1867 - accuracy: 0.9458\n",
      "Epoch 28/100\n",
      "21/21 [==============================] - 0s 2ms/step - loss: 0.1711 - accuracy: 0.9458\n",
      "Epoch 29/100\n",
      "21/21 [==============================] - 0s 2ms/step - loss: 0.1402 - accuracy: 0.9639\n",
      "Epoch 30/100\n",
      "21/21 [==============================] - 0s 2ms/step - loss: 0.1385 - accuracy: 0.9639\n",
      "Epoch 31/100\n",
      "21/21 [==============================] - 0s 2ms/step - loss: 0.2000 - accuracy: 0.9096\n",
      "Epoch 32/100\n",
      "21/21 [==============================] - 0s 3ms/step - loss: 0.1421 - accuracy: 0.9578\n",
      "Epoch 33/100\n",
      "21/21 [==============================] - 0s 2ms/step - loss: 0.1346 - accuracy: 0.9578\n",
      "Epoch 34/100\n",
      "21/21 [==============================] - 0s 2ms/step - loss: 0.1055 - accuracy: 0.9699\n",
      "Epoch 35/100\n",
      "21/21 [==============================] - 0s 2ms/step - loss: 0.1081 - accuracy: 0.9699\n",
      "Epoch 36/100\n",
      "21/21 [==============================] - 0s 2ms/step - loss: 0.0976 - accuracy: 0.9759\n",
      "Epoch 37/100\n",
      "21/21 [==============================] - 0s 2ms/step - loss: 0.0814 - accuracy: 0.9819\n",
      "Epoch 38/100\n",
      "21/21 [==============================] - 0s 2ms/step - loss: 0.0771 - accuracy: 0.9819\n",
      "Epoch 39/100\n",
      "21/21 [==============================] - 0s 2ms/step - loss: 0.0760 - accuracy: 0.9759\n",
      "Epoch 40/100\n",
      "21/21 [==============================] - 0s 2ms/step - loss: 0.0810 - accuracy: 0.9759\n",
      "Epoch 41/100\n",
      "21/21 [==============================] - 0s 3ms/step - loss: 0.1160 - accuracy: 0.9458\n",
      "Epoch 42/100\n",
      "21/21 [==============================] - 0s 2ms/step - loss: 0.0631 - accuracy: 0.9819\n",
      "Epoch 43/100\n",
      "21/21 [==============================] - 0s 2ms/step - loss: 0.0516 - accuracy: 0.9940\n",
      "Epoch 44/100\n",
      "21/21 [==============================] - 0s 2ms/step - loss: 0.0636 - accuracy: 0.9880\n",
      "Epoch 45/100\n",
      "21/21 [==============================] - 0s 2ms/step - loss: 0.0402 - accuracy: 1.0000\n",
      "Epoch 46/100\n",
      "21/21 [==============================] - 0s 2ms/step - loss: 0.0425 - accuracy: 1.0000\n",
      "Epoch 47/100\n",
      "21/21 [==============================] - 0s 2ms/step - loss: 0.0410 - accuracy: 1.0000\n",
      "Epoch 48/100\n",
      "21/21 [==============================] - 0s 2ms/step - loss: 0.0600 - accuracy: 0.9819\n",
      "Epoch 49/100\n",
      "21/21 [==============================] - 0s 3ms/step - loss: 0.0535 - accuracy: 0.9819\n",
      "Epoch 50/100\n",
      "21/21 [==============================] - 0s 3ms/step - loss: 0.0334 - accuracy: 1.0000\n",
      "Epoch 51/100\n",
      "21/21 [==============================] - 0s 5ms/step - loss: 0.0285 - accuracy: 1.0000\n",
      "Epoch 52/100\n",
      "21/21 [==============================] - 0s 2ms/step - loss: 0.0234 - accuracy: 1.0000\n",
      "Epoch 53/100\n",
      "21/21 [==============================] - 0s 3ms/step - loss: 0.0257 - accuracy: 1.0000\n",
      "Epoch 54/100\n",
      "21/21 [==============================] - ETA: 0s - loss: 0.0046 - accuracy: 1.00 - 0s 2ms/step - loss: 0.0231 - accuracy: 1.0000\n",
      "Epoch 55/100\n",
      "21/21 [==============================] - 0s 3ms/step - loss: 0.0198 - accuracy: 1.0000\n",
      "Epoch 56/100\n",
      "21/21 [==============================] - 0s 3ms/step - loss: 0.0205 - accuracy: 1.0000\n",
      "Epoch 57/100\n",
      "21/21 [==============================] - 0s 5ms/step - loss: 0.0148 - accuracy: 1.0000\n",
      "Epoch 58/100\n",
      "21/21 [==============================] - 0s 15ms/step - loss: 0.0150 - accuracy: 1.0000\n",
      "Epoch 59/100\n",
      "21/21 [==============================] - 0s 5ms/step - loss: 0.0142 - accuracy: 1.0000\n",
      "Epoch 60/100\n",
      "21/21 [==============================] - 0s 5ms/step - loss: 0.0124 - accuracy: 1.0000\n",
      "Epoch 61/100\n",
      "21/21 [==============================] - 0s 7ms/step - loss: 0.0122 - accuracy: 1.0000\n",
      "Epoch 62/100\n",
      "21/21 [==============================] - 0s 5ms/step - loss: 0.0126 - accuracy: 1.0000\n",
      "Epoch 63/100\n",
      "21/21 [==============================] - 0s 11ms/step - loss: 0.0103 - accuracy: 1.0000\n",
      "Epoch 64/100\n",
      "21/21 [==============================] - 0s 5ms/step - loss: 0.0097 - accuracy: 1.0000\n",
      "Epoch 65/100\n",
      "21/21 [==============================] - 0s 3ms/step - loss: 0.0097 - accuracy: 1.0000\n",
      "Epoch 66/100\n",
      "21/21 [==============================] - 0s 4ms/step - loss: 0.0088 - accuracy: 1.0000\n",
      "Epoch 67/100\n",
      "21/21 [==============================] - 0s 4ms/step - loss: 0.0080 - accuracy: 1.0000\n",
      "Epoch 68/100\n",
      "21/21 [==============================] - 0s 4ms/step - loss: 0.0078 - accuracy: 1.0000\n",
      "Epoch 69/100\n",
      "21/21 [==============================] - 0s 4ms/step - loss: 0.0077 - accuracy: 1.0000\n",
      "Epoch 70/100\n",
      "21/21 [==============================] - 0s 5ms/step - loss: 0.0071 - accuracy: 1.0000\n",
      "Epoch 71/100\n",
      "21/21 [==============================] - 0s 4ms/step - loss: 0.0069 - accuracy: 1.0000\n",
      "Epoch 72/100\n",
      "21/21 [==============================] - 0s 2ms/step - loss: 0.0067 - accuracy: 1.0000\n",
      "Epoch 73/100\n",
      "21/21 [==============================] - 0s 3ms/step - loss: 0.0072 - accuracy: 1.0000\n",
      "Epoch 74/100\n",
      "21/21 [==============================] - 0s 3ms/step - loss: 0.0072 - accuracy: 1.0000\n",
      "Epoch 75/100\n",
      "21/21 [==============================] - 0s 3ms/step - loss: 0.0051 - accuracy: 1.0000\n",
      "Epoch 76/100\n",
      "21/21 [==============================] - 0s 2ms/step - loss: 0.0055 - accuracy: 1.0000\n",
      "Epoch 77/100\n",
      "21/21 [==============================] - 0s 2ms/step - loss: 0.0053 - accuracy: 1.0000\n",
      "Epoch 78/100\n",
      "21/21 [==============================] - 0s 2ms/step - loss: 0.0050 - accuracy: 1.0000\n",
      "Epoch 79/100\n",
      "21/21 [==============================] - 0s 2ms/step - loss: 0.0043 - accuracy: 1.0000\n",
      "Epoch 80/100\n",
      "21/21 [==============================] - 0s 2ms/step - loss: 0.0043 - accuracy: 1.0000\n",
      "Epoch 81/100\n",
      "21/21 [==============================] - 0s 2ms/step - loss: 0.0040 - accuracy: 1.0000\n",
      "Epoch 82/100\n",
      "21/21 [==============================] - 0s 2ms/step - loss: 0.0038 - accuracy: 1.0000\n",
      "Epoch 83/100\n",
      "21/21 [==============================] - 0s 2ms/step - loss: 0.0043 - accuracy: 1.0000\n",
      "Epoch 84/100\n",
      "21/21 [==============================] - 0s 2ms/step - loss: 0.0037 - accuracy: 1.0000\n",
      "Epoch 85/100\n",
      "21/21 [==============================] - 0s 2ms/step - loss: 0.0033 - accuracy: 1.0000\n",
      "Epoch 86/100\n",
      "21/21 [==============================] - 0s 2ms/step - loss: 0.0033 - accuracy: 1.0000\n",
      "Epoch 87/100\n",
      "21/21 [==============================] - 0s 2ms/step - loss: 0.0031 - accuracy: 1.0000\n",
      "Epoch 88/100\n",
      "21/21 [==============================] - 0s 2ms/step - loss: 0.0030 - accuracy: 1.0000\n",
      "Epoch 89/100\n",
      "21/21 [==============================] - 0s 2ms/step - loss: 0.0030 - accuracy: 1.0000\n",
      "Epoch 90/100\n",
      "21/21 [==============================] - 0s 2ms/step - loss: 0.0028 - accuracy: 1.0000\n",
      "Epoch 91/100\n",
      "21/21 [==============================] - 0s 2ms/step - loss: 0.0027 - accuracy: 1.0000\n",
      "Epoch 92/100\n",
      "21/21 [==============================] - 0s 2ms/step - loss: 0.0028 - accuracy: 1.0000\n",
      "Epoch 93/100\n",
      "21/21 [==============================] - 0s 2ms/step - loss: 0.0025 - accuracy: 1.0000\n",
      "Epoch 94/100\n",
      "21/21 [==============================] - 0s 2ms/step - loss: 0.0024 - accuracy: 1.0000\n",
      "Epoch 95/100\n",
      "21/21 [==============================] - 0s 2ms/step - loss: 0.0024 - accuracy: 1.0000\n",
      "Epoch 96/100\n",
      "21/21 [==============================] - 0s 2ms/step - loss: 0.0023 - accuracy: 1.0000\n",
      "Epoch 97/100\n",
      "21/21 [==============================] - 0s 2ms/step - loss: 0.0021 - accuracy: 1.0000\n",
      "Epoch 98/100\n",
      "21/21 [==============================] - 0s 2ms/step - loss: 0.0022 - accuracy: 1.0000\n",
      "Epoch 99/100\n",
      "21/21 [==============================] - 0s 2ms/step - loss: 0.0020 - accuracy: 1.0000\n",
      "Epoch 100/100\n",
      "21/21 [==============================] - 0s 2ms/step - loss: 0.0020 - accuracy: 1.0000\n"
     ]
    },
    {
     "data": {
      "text/plain": [
       "<tensorflow.python.keras.callbacks.History at 0x7fe27daebac0>"
      ]
     },
     "execution_count": 198,
     "metadata": {},
     "output_type": "execute_result"
    }
   ],
   "source": [
    "model = keras.Sequential([\n",
    "    keras.layers.Dense(60, input_dim = 60, activation = 'relu'),\n",
    "    keras.layers.Dense(30, activation = 'relu'),\n",
    "    keras.layers.Dense(15, activation = 'relu'),\n",
    "    keras.layers.Dense(1, activation = 'sigmoid')\n",
    "])\n",
    "model.compile(optimizer = 'adam', loss = 'binary_crossentropy', metrics = ['accuracy'])\n",
    "model.fit(X_train, y_train, epochs = 100, batch_size = 8)"
   ]
  },
  {
   "cell_type": "code",
   "execution_count": 200,
   "id": "ba5f8c29",
   "metadata": {},
   "outputs": [
    {
     "name": "stdout",
     "output_type": "stream",
     "text": [
      "2/2 [==============================] - 0s 4ms/step - loss: 1.1471 - accuracy: 0.7619\n"
     ]
    },
    {
     "data": {
      "text/plain": [
       "[1.1470587253570557, 0.761904776096344]"
      ]
     },
     "execution_count": 200,
     "metadata": {},
     "output_type": "execute_result"
    }
   ],
   "source": [
    "model.evaluate(X_test, y_test)"
   ]
  },
  {
   "cell_type": "code",
   "execution_count": 203,
   "id": "c78d7337",
   "metadata": {},
   "outputs": [
    {
     "data": {
      "text/plain": [
       "array([0., 1., 1., 0., 1., 1., 0., 1., 0., 1.], dtype=float32)"
      ]
     },
     "execution_count": 203,
     "metadata": {},
     "output_type": "execute_result"
    }
   ],
   "source": [
    "y_pred = model.predict(X_test).reshape(-1)\n",
    "y_pred = np.round(y_pred)\n",
    "y_pred[:10]"
   ]
  },
  {
   "cell_type": "code",
   "execution_count": 205,
   "id": "3f08e583",
   "metadata": {},
   "outputs": [
    {
     "data": {
      "text/html": [
       "<div>\n",
       "<style scoped>\n",
       "    .dataframe tbody tr th:only-of-type {\n",
       "        vertical-align: middle;\n",
       "    }\n",
       "\n",
       "    .dataframe tbody tr th {\n",
       "        vertical-align: top;\n",
       "    }\n",
       "\n",
       "    .dataframe thead th {\n",
       "        text-align: right;\n",
       "    }\n",
       "</style>\n",
       "<table border=\"1\" class=\"dataframe\">\n",
       "  <thead>\n",
       "    <tr style=\"text-align: right;\">\n",
       "      <th></th>\n",
       "      <th>186</th>\n",
       "      <th>155</th>\n",
       "      <th>165</th>\n",
       "      <th>200</th>\n",
       "      <th>58</th>\n",
       "      <th>34</th>\n",
       "      <th>151</th>\n",
       "      <th>18</th>\n",
       "      <th>202</th>\n",
       "      <th>62</th>\n",
       "    </tr>\n",
       "  </thead>\n",
       "  <tbody>\n",
       "    <tr>\n",
       "      <th>R</th>\n",
       "      <td>0</td>\n",
       "      <td>0</td>\n",
       "      <td>0</td>\n",
       "      <td>0</td>\n",
       "      <td>1</td>\n",
       "      <td>1</td>\n",
       "      <td>0</td>\n",
       "      <td>1</td>\n",
       "      <td>0</td>\n",
       "      <td>1</td>\n",
       "    </tr>\n",
       "  </tbody>\n",
       "</table>\n",
       "</div>"
      ],
      "text/plain": [
       "   186  155  165  200  58   34   151  18   202  62 \n",
       "R    0    0    0    0    1    1    0    1    0    1"
      ]
     },
     "execution_count": 205,
     "metadata": {},
     "output_type": "execute_result"
    }
   ],
   "source": [
    "y_test[:10].T"
   ]
  },
  {
   "cell_type": "code",
   "execution_count": 206,
   "id": "63bdcbca",
   "metadata": {},
   "outputs": [
    {
     "name": "stdout",
     "output_type": "stream",
     "text": [
      "              precision    recall  f1-score   support\n",
      "\n",
      "           0       0.71      0.85      0.77        20\n",
      "           1       0.83      0.68      0.75        22\n",
      "\n",
      "    accuracy                           0.76        42\n",
      "   macro avg       0.77      0.77      0.76        42\n",
      "weighted avg       0.77      0.76      0.76        42\n",
      "\n"
     ]
    }
   ],
   "source": [
    "from sklearn.metrics import confusion_matrix, classification_report\n",
    "\n",
    "print(classification_report(y_test, y_pred))"
   ]
  },
  {
   "cell_type": "code",
   "execution_count": 207,
   "id": "c0b028c0",
   "metadata": {},
   "outputs": [
    {
     "name": "stdout",
     "output_type": "stream",
     "text": [
      "Epoch 1/100\n",
      "21/21 [==============================] - 1s 4ms/step - loss: 0.7372 - accuracy: 0.5181\n",
      "Epoch 2/100\n",
      "21/21 [==============================] - 0s 3ms/step - loss: 0.7104 - accuracy: 0.5361\n",
      "Epoch 3/100\n",
      "21/21 [==============================] - 0s 4ms/step - loss: 0.6798 - accuracy: 0.5602\n",
      "Epoch 4/100\n",
      "21/21 [==============================] - 0s 3ms/step - loss: 0.6572 - accuracy: 0.5422\n",
      "Epoch 5/100\n",
      "21/21 [==============================] - 0s 3ms/step - loss: 0.7144 - accuracy: 0.5181\n",
      "Epoch 6/100\n",
      "21/21 [==============================] - 0s 4ms/step - loss: 0.6920 - accuracy: 0.5181\n",
      "Epoch 7/100\n",
      "21/21 [==============================] - 0s 3ms/step - loss: 0.6725 - accuracy: 0.5542\n",
      "Epoch 8/100\n",
      "21/21 [==============================] - 0s 7ms/step - loss: 0.6880 - accuracy: 0.5723\n",
      "Epoch 9/100\n",
      "21/21 [==============================] - 0s 5ms/step - loss: 0.6791 - accuracy: 0.6084\n",
      "Epoch 10/100\n",
      "21/21 [==============================] - 0s 5ms/step - loss: 0.6563 - accuracy: 0.5843\n",
      "Epoch 11/100\n",
      "21/21 [==============================] - 0s 9ms/step - loss: 0.6541 - accuracy: 0.5843\n",
      "Epoch 12/100\n",
      "21/21 [==============================] - 0s 4ms/step - loss: 0.6687 - accuracy: 0.5602\n",
      "Epoch 13/100\n",
      "21/21 [==============================] - 0s 4ms/step - loss: 0.6558 - accuracy: 0.6084\n",
      "Epoch 14/100\n",
      "21/21 [==============================] - 0s 5ms/step - loss: 0.6656 - accuracy: 0.5783\n",
      "Epoch 15/100\n",
      "21/21 [==============================] - 0s 3ms/step - loss: 0.6467 - accuracy: 0.5241\n",
      "Epoch 16/100\n",
      "21/21 [==============================] - 0s 7ms/step - loss: 0.6580 - accuracy: 0.5904\n",
      "Epoch 17/100\n",
      "21/21 [==============================] - 0s 5ms/step - loss: 0.6538 - accuracy: 0.6386\n",
      "Epoch 18/100\n",
      "21/21 [==============================] - 0s 4ms/step - loss: 0.6251 - accuracy: 0.6145\n",
      "Epoch 19/100\n",
      "21/21 [==============================] - 0s 4ms/step - loss: 0.6391 - accuracy: 0.6325\n",
      "Epoch 20/100\n",
      "21/21 [==============================] - 0s 4ms/step - loss: 0.6489 - accuracy: 0.6265\n",
      "Epoch 21/100\n",
      "21/21 [==============================] - 0s 5ms/step - loss: 0.6474 - accuracy: 0.6446\n",
      "Epoch 22/100\n",
      "21/21 [==============================] - 0s 6ms/step - loss: 0.5958 - accuracy: 0.6506\n",
      "Epoch 23/100\n",
      "21/21 [==============================] - 0s 4ms/step - loss: 0.6386 - accuracy: 0.6024\n",
      "Epoch 24/100\n",
      "21/21 [==============================] - 0s 5ms/step - loss: 0.6403 - accuracy: 0.6325\n",
      "Epoch 25/100\n",
      "21/21 [==============================] - 0s 4ms/step - loss: 0.6127 - accuracy: 0.6566\n",
      "Epoch 26/100\n",
      "21/21 [==============================] - 0s 6ms/step - loss: 0.6125 - accuracy: 0.6627\n",
      "Epoch 27/100\n",
      "21/21 [==============================] - 0s 3ms/step - loss: 0.6016 - accuracy: 0.7349\n",
      "Epoch 28/100\n",
      "21/21 [==============================] - 0s 3ms/step - loss: 0.5752 - accuracy: 0.6687\n",
      "Epoch 29/100\n",
      "21/21 [==============================] - 0s 2ms/step - loss: 0.5854 - accuracy: 0.6988\n",
      "Epoch 30/100\n",
      "21/21 [==============================] - 0s 3ms/step - loss: 0.5655 - accuracy: 0.7169\n",
      "Epoch 31/100\n",
      "21/21 [==============================] - 0s 3ms/step - loss: 0.5547 - accuracy: 0.7289\n",
      "Epoch 32/100\n",
      "21/21 [==============================] - 0s 4ms/step - loss: 0.5606 - accuracy: 0.7289\n",
      "Epoch 33/100\n",
      "21/21 [==============================] - 0s 5ms/step - loss: 0.5643 - accuracy: 0.7289\n",
      "Epoch 34/100\n",
      "21/21 [==============================] - 0s 3ms/step - loss: 0.4888 - accuracy: 0.8072\n",
      "Epoch 35/100\n",
      "21/21 [==============================] - 0s 3ms/step - loss: 0.5591 - accuracy: 0.6867\n",
      "Epoch 36/100\n",
      "21/21 [==============================] - 0s 3ms/step - loss: 0.5777 - accuracy: 0.7289\n",
      "Epoch 37/100\n",
      "21/21 [==============================] - 0s 4ms/step - loss: 0.4912 - accuracy: 0.7831\n",
      "Epoch 38/100\n",
      "21/21 [==============================] - 0s 2ms/step - loss: 0.5190 - accuracy: 0.7651\n",
      "Epoch 39/100\n",
      "21/21 [==============================] - 0s 2ms/step - loss: 0.5458 - accuracy: 0.7771\n",
      "Epoch 40/100\n",
      "21/21 [==============================] - 0s 3ms/step - loss: 0.4878 - accuracy: 0.7651\n",
      "Epoch 41/100\n",
      "21/21 [==============================] - 0s 4ms/step - loss: 0.4876 - accuracy: 0.7831\n",
      "Epoch 42/100\n",
      "21/21 [==============================] - 0s 3ms/step - loss: 0.4668 - accuracy: 0.8012\n",
      "Epoch 43/100\n",
      "21/21 [==============================] - 0s 2ms/step - loss: 0.4528 - accuracy: 0.8133\n",
      "Epoch 44/100\n",
      "21/21 [==============================] - 0s 3ms/step - loss: 0.5070 - accuracy: 0.7892\n",
      "Epoch 45/100\n",
      "21/21 [==============================] - 0s 3ms/step - loss: 0.4281 - accuracy: 0.8313\n",
      "Epoch 46/100\n",
      "21/21 [==============================] - 0s 3ms/step - loss: 0.5173 - accuracy: 0.7530\n",
      "Epoch 47/100\n",
      "21/21 [==============================] - 0s 5ms/step - loss: 0.5256 - accuracy: 0.7229\n",
      "Epoch 48/100\n",
      "21/21 [==============================] - 0s 3ms/step - loss: 0.4318 - accuracy: 0.8133\n",
      "Epoch 49/100\n",
      "21/21 [==============================] - 0s 2ms/step - loss: 0.5054 - accuracy: 0.7530\n",
      "Epoch 50/100\n",
      "21/21 [==============================] - 0s 3ms/step - loss: 0.5082 - accuracy: 0.8373\n",
      "Epoch 51/100\n",
      "21/21 [==============================] - 0s 2ms/step - loss: 0.4842 - accuracy: 0.7952\n",
      "Epoch 52/100\n",
      "21/21 [==============================] - 0s 3ms/step - loss: 0.4179 - accuracy: 0.8373\n",
      "Epoch 53/100\n",
      "21/21 [==============================] - 0s 3ms/step - loss: 0.4465 - accuracy: 0.8373\n",
      "Epoch 54/100\n",
      "21/21 [==============================] - 0s 3ms/step - loss: 0.4260 - accuracy: 0.8253\n",
      "Epoch 55/100\n",
      "21/21 [==============================] - 0s 3ms/step - loss: 0.3869 - accuracy: 0.8434\n",
      "Epoch 56/100\n",
      "21/21 [==============================] - 0s 2ms/step - loss: 0.4282 - accuracy: 0.7952\n",
      "Epoch 57/100\n",
      "21/21 [==============================] - 0s 3ms/step - loss: 0.3928 - accuracy: 0.8253\n",
      "Epoch 58/100\n",
      "21/21 [==============================] - 0s 2ms/step - loss: 0.4270 - accuracy: 0.8133\n",
      "Epoch 59/100\n",
      "21/21 [==============================] - 0s 2ms/step - loss: 0.4365 - accuracy: 0.7831\n",
      "Epoch 60/100\n",
      "21/21 [==============================] - 0s 3ms/step - loss: 0.4157 - accuracy: 0.8373\n",
      "Epoch 61/100\n",
      "21/21 [==============================] - 0s 2ms/step - loss: 0.3544 - accuracy: 0.8675\n",
      "Epoch 62/100\n",
      "21/21 [==============================] - 0s 3ms/step - loss: 0.3894 - accuracy: 0.8675\n",
      "Epoch 63/100\n",
      "21/21 [==============================] - 0s 12ms/step - loss: 0.3788 - accuracy: 0.8554\n",
      "Epoch 64/100\n",
      "21/21 [==============================] - 0s 2ms/step - loss: 0.4024 - accuracy: 0.8313\n",
      "Epoch 65/100\n",
      "21/21 [==============================] - 0s 3ms/step - loss: 0.3591 - accuracy: 0.8735\n",
      "Epoch 66/100\n",
      "21/21 [==============================] - 0s 3ms/step - loss: 0.3710 - accuracy: 0.8012\n",
      "Epoch 67/100\n",
      "21/21 [==============================] - 0s 4ms/step - loss: 0.3916 - accuracy: 0.8373\n",
      "Epoch 68/100\n",
      "21/21 [==============================] - 0s 3ms/step - loss: 0.3501 - accuracy: 0.8434\n",
      "Epoch 69/100\n",
      "21/21 [==============================] - 0s 4ms/step - loss: 0.3380 - accuracy: 0.8614\n",
      "Epoch 70/100\n",
      "21/21 [==============================] - 0s 4ms/step - loss: 0.3854 - accuracy: 0.8313\n",
      "Epoch 71/100\n",
      "21/21 [==============================] - 0s 4ms/step - loss: 0.3362 - accuracy: 0.8675\n",
      "Epoch 72/100\n",
      "21/21 [==============================] - 0s 4ms/step - loss: 0.3369 - accuracy: 0.8735\n",
      "Epoch 73/100\n",
      "21/21 [==============================] - 0s 3ms/step - loss: 0.3703 - accuracy: 0.8675\n",
      "Epoch 74/100\n",
      "21/21 [==============================] - 0s 4ms/step - loss: 0.3401 - accuracy: 0.8494\n",
      "Epoch 75/100\n",
      "21/21 [==============================] - 0s 6ms/step - loss: 0.3201 - accuracy: 0.8795\n",
      "Epoch 76/100\n",
      "21/21 [==============================] - 0s 3ms/step - loss: 0.3288 - accuracy: 0.8614\n",
      "Epoch 77/100\n",
      "21/21 [==============================] - 0s 3ms/step - loss: 0.3161 - accuracy: 0.8795\n",
      "Epoch 78/100\n",
      "21/21 [==============================] - 0s 2ms/step - loss: 0.3425 - accuracy: 0.8494\n",
      "Epoch 79/100\n",
      "21/21 [==============================] - 0s 2ms/step - loss: 0.2542 - accuracy: 0.8916\n",
      "Epoch 80/100\n",
      "21/21 [==============================] - 0s 3ms/step - loss: 0.2716 - accuracy: 0.8855\n",
      "Epoch 81/100\n",
      "21/21 [==============================] - 0s 4ms/step - loss: 0.2602 - accuracy: 0.9217\n",
      "Epoch 82/100\n",
      "21/21 [==============================] - 0s 3ms/step - loss: 0.2891 - accuracy: 0.8494\n",
      "Epoch 83/100\n"
     ]
    },
    {
     "name": "stdout",
     "output_type": "stream",
     "text": [
      "21/21 [==============================] - 0s 3ms/step - loss: 0.3287 - accuracy: 0.8675\n",
      "Epoch 84/100\n",
      "21/21 [==============================] - 0s 3ms/step - loss: 0.3081 - accuracy: 0.8855\n",
      "Epoch 85/100\n",
      "21/21 [==============================] - 0s 4ms/step - loss: 0.3529 - accuracy: 0.8735\n",
      "Epoch 86/100\n",
      "21/21 [==============================] - 0s 3ms/step - loss: 0.3283 - accuracy: 0.8614\n",
      "Epoch 87/100\n",
      "21/21 [==============================] - 0s 3ms/step - loss: 0.2366 - accuracy: 0.9398\n",
      "Epoch 88/100\n",
      "21/21 [==============================] - 0s 3ms/step - loss: 0.2831 - accuracy: 0.9096\n",
      "Epoch 89/100\n",
      "21/21 [==============================] - 0s 2ms/step - loss: 0.2910 - accuracy: 0.8855\n",
      "Epoch 90/100\n",
      "21/21 [==============================] - 0s 3ms/step - loss: 0.2630 - accuracy: 0.8795\n",
      "Epoch 91/100\n",
      "21/21 [==============================] - 0s 2ms/step - loss: 0.3096 - accuracy: 0.8855\n",
      "Epoch 92/100\n",
      "21/21 [==============================] - 0s 2ms/step - loss: 0.2554 - accuracy: 0.9157\n",
      "Epoch 93/100\n",
      "21/21 [==============================] - 0s 3ms/step - loss: 0.2710 - accuracy: 0.8916\n",
      "Epoch 94/100\n",
      "21/21 [==============================] - 0s 3ms/step - loss: 0.2191 - accuracy: 0.9458\n",
      "Epoch 95/100\n",
      "21/21 [==============================] - 0s 2ms/step - loss: 0.2331 - accuracy: 0.9398\n",
      "Epoch 96/100\n",
      "21/21 [==============================] - 0s 3ms/step - loss: 0.2935 - accuracy: 0.8795\n",
      "Epoch 97/100\n",
      "21/21 [==============================] - 0s 2ms/step - loss: 0.2879 - accuracy: 0.9096\n",
      "Epoch 98/100\n",
      "21/21 [==============================] - 0s 2ms/step - loss: 0.2905 - accuracy: 0.8976\n",
      "Epoch 99/100\n",
      "21/21 [==============================] - 0s 3ms/step - loss: 0.2599 - accuracy: 0.8976\n",
      "Epoch 100/100\n",
      "21/21 [==============================] - 0s 2ms/step - loss: 0.2582 - accuracy: 0.9217\n"
     ]
    },
    {
     "data": {
      "text/plain": [
       "<tensorflow.python.keras.callbacks.History at 0x7fe279067fd0>"
      ]
     },
     "execution_count": 207,
     "metadata": {},
     "output_type": "execute_result"
    }
   ],
   "source": [
    "model = keras.Sequential([\n",
    "    keras.layers.Dense(60, input_dim = 60, activation = 'relu'),\n",
    "    keras.layers.Dropout(0.5),\n",
    "    keras.layers.Dense(30, activation = 'relu'),\n",
    "    keras.layers.Dropout(0.5),\n",
    "    keras.layers.Dense(15, activation = 'relu'),\n",
    "    keras.layers.Dropout(0.5),\n",
    "    keras.layers.Dense(1, activation = 'sigmoid')\n",
    "])\n",
    "model.compile(optimizer = 'adam', loss = 'binary_crossentropy', metrics = ['accuracy'])\n",
    "model.fit(X_train, y_train, epochs = 100, batch_size = 8)"
   ]
  },
  {
   "cell_type": "code",
   "execution_count": 208,
   "id": "c62f2735",
   "metadata": {},
   "outputs": [
    {
     "name": "stdout",
     "output_type": "stream",
     "text": [
      "2/2 [==============================] - 0s 4ms/step - loss: 0.5443 - accuracy: 0.7381\n"
     ]
    },
    {
     "data": {
      "text/plain": [
       "[0.5442798733711243, 0.738095223903656]"
      ]
     },
     "execution_count": 208,
     "metadata": {},
     "output_type": "execute_result"
    }
   ],
   "source": [
    "model.evaluate(X_test, y_test)"
   ]
  },
  {
   "cell_type": "code",
   "execution_count": null,
   "id": "09db2b0c",
   "metadata": {},
   "outputs": [],
   "source": [
    "def mini_batch_gradient_descent(X, y_true, epochs, learning_rate = 0.01):\n",
    "\n",
    "    number_of_features = X.shape[1]\n",
    "    # numpy array with 1 row and columns equal to number of features. In \n",
    "    # our case number_of_features = 2 (area, bedroom)\n",
    "    w = np.ones(shape=(number_of_features)) \n",
    "    b = 0\n",
    "    total_samples = X.shape[0] # number of rows in X\n",
    "    \n",
    "    cost_list = []\n",
    "    epoch_list = []\n",
    "    \n",
    "    for i in range(epochs):        \n",
    "        batch_index = int(number_of_features/epochs)\n",
    "        y_predicted = np.dot(w, X.T) + b\n",
    "\n",
    "        w_grad = -(2/total_samples)*(X.T.dot(y_true-y_predicted))\n",
    "        b_grad = -(2/total_samples)*np.sum(y_true-y_predicted)\n",
    "        \n",
    "        w = w - learning_rate * w_grad\n",
    "        b = b - learning_rate * b_grad\n",
    "        \n",
    "        cost = np.mean(np.square(y_true-y_predicted)) # MSE (Mean Squared Error)\n",
    "        \n",
    "        if i%10==0:\n",
    "            cost_list.append(cost)\n",
    "            epoch_list.append(i)\n",
    "        \n",
    "    return w, b, cost, cost_list, epoch_list\n",
    "\n",
    "w, b, cost, cost_list, epoch_list = batch_gradient_descent(scaled_X,scaled_y.reshape(scaled_y.shape[0],),500)\n",
    "w, b, cost"
   ]
  },
  {
   "cell_type": "code",
   "execution_count": 3,
   "id": "e5b89830",
   "metadata": {},
   "outputs": [
    {
     "data": {
      "text/html": [
       "<div>\n",
       "<style scoped>\n",
       "    .dataframe tbody tr th:only-of-type {\n",
       "        vertical-align: middle;\n",
       "    }\n",
       "\n",
       "    .dataframe tbody tr th {\n",
       "        vertical-align: top;\n",
       "    }\n",
       "\n",
       "    .dataframe thead th {\n",
       "        text-align: right;\n",
       "    }\n",
       "</style>\n",
       "<table border=\"1\" class=\"dataframe\">\n",
       "  <thead>\n",
       "    <tr style=\"text-align: right;\">\n",
       "      <th></th>\n",
       "      <th>RowNumber</th>\n",
       "      <th>CustomerId</th>\n",
       "      <th>Surname</th>\n",
       "      <th>CreditScore</th>\n",
       "      <th>Geography</th>\n",
       "      <th>Gender</th>\n",
       "      <th>Age</th>\n",
       "      <th>Tenure</th>\n",
       "      <th>Balance</th>\n",
       "      <th>NumOfProducts</th>\n",
       "      <th>HasCrCard</th>\n",
       "      <th>IsActiveMember</th>\n",
       "      <th>EstimatedSalary</th>\n",
       "      <th>Exited</th>\n",
       "    </tr>\n",
       "  </thead>\n",
       "  <tbody>\n",
       "    <tr>\n",
       "      <th>0</th>\n",
       "      <td>1</td>\n",
       "      <td>15634602</td>\n",
       "      <td>Hargrave</td>\n",
       "      <td>619</td>\n",
       "      <td>France</td>\n",
       "      <td>Female</td>\n",
       "      <td>42</td>\n",
       "      <td>2</td>\n",
       "      <td>0.00</td>\n",
       "      <td>1</td>\n",
       "      <td>1</td>\n",
       "      <td>1</td>\n",
       "      <td>101348.88</td>\n",
       "      <td>1</td>\n",
       "    </tr>\n",
       "    <tr>\n",
       "      <th>1</th>\n",
       "      <td>2</td>\n",
       "      <td>15647311</td>\n",
       "      <td>Hill</td>\n",
       "      <td>608</td>\n",
       "      <td>Spain</td>\n",
       "      <td>Female</td>\n",
       "      <td>41</td>\n",
       "      <td>1</td>\n",
       "      <td>83807.86</td>\n",
       "      <td>1</td>\n",
       "      <td>0</td>\n",
       "      <td>1</td>\n",
       "      <td>112542.58</td>\n",
       "      <td>0</td>\n",
       "    </tr>\n",
       "    <tr>\n",
       "      <th>2</th>\n",
       "      <td>3</td>\n",
       "      <td>15619304</td>\n",
       "      <td>Onio</td>\n",
       "      <td>502</td>\n",
       "      <td>France</td>\n",
       "      <td>Female</td>\n",
       "      <td>42</td>\n",
       "      <td>8</td>\n",
       "      <td>159660.80</td>\n",
       "      <td>3</td>\n",
       "      <td>1</td>\n",
       "      <td>0</td>\n",
       "      <td>113931.57</td>\n",
       "      <td>1</td>\n",
       "    </tr>\n",
       "    <tr>\n",
       "      <th>3</th>\n",
       "      <td>4</td>\n",
       "      <td>15701354</td>\n",
       "      <td>Boni</td>\n",
       "      <td>699</td>\n",
       "      <td>France</td>\n",
       "      <td>Female</td>\n",
       "      <td>39</td>\n",
       "      <td>1</td>\n",
       "      <td>0.00</td>\n",
       "      <td>2</td>\n",
       "      <td>0</td>\n",
       "      <td>0</td>\n",
       "      <td>93826.63</td>\n",
       "      <td>0</td>\n",
       "    </tr>\n",
       "    <tr>\n",
       "      <th>4</th>\n",
       "      <td>5</td>\n",
       "      <td>15737888</td>\n",
       "      <td>Mitchell</td>\n",
       "      <td>850</td>\n",
       "      <td>Spain</td>\n",
       "      <td>Female</td>\n",
       "      <td>43</td>\n",
       "      <td>2</td>\n",
       "      <td>125510.82</td>\n",
       "      <td>1</td>\n",
       "      <td>1</td>\n",
       "      <td>1</td>\n",
       "      <td>79084.10</td>\n",
       "      <td>0</td>\n",
       "    </tr>\n",
       "  </tbody>\n",
       "</table>\n",
       "</div>"
      ],
      "text/plain": [
       "   RowNumber  CustomerId   Surname  CreditScore Geography  Gender  Age  \\\n",
       "0          1    15634602  Hargrave          619    France  Female   42   \n",
       "1          2    15647311      Hill          608     Spain  Female   41   \n",
       "2          3    15619304      Onio          502    France  Female   42   \n",
       "3          4    15701354      Boni          699    France  Female   39   \n",
       "4          5    15737888  Mitchell          850     Spain  Female   43   \n",
       "\n",
       "   Tenure    Balance  NumOfProducts  HasCrCard  IsActiveMember  \\\n",
       "0       2       0.00              1          1               1   \n",
       "1       1   83807.86              1          0               1   \n",
       "2       8  159660.80              3          1               0   \n",
       "3       1       0.00              2          0               0   \n",
       "4       2  125510.82              1          1               1   \n",
       "\n",
       "   EstimatedSalary  Exited  \n",
       "0        101348.88       1  \n",
       "1        112542.58       0  \n",
       "2        113931.57       1  \n",
       "3         93826.63       0  \n",
       "4         79084.10       0  "
      ]
     },
     "execution_count": 3,
     "metadata": {},
     "output_type": "execute_result"
    }
   ],
   "source": [
    "from sklearn.linear_model import LogisticRegression\n",
    "\n",
    "data = pd.read_csv('Churn_Modelling.csv')\n",
    "data.head()"
   ]
  },
  {
   "cell_type": "code",
   "execution_count": 4,
   "id": "ee7e6209",
   "metadata": {},
   "outputs": [
    {
     "name": "stdout",
     "output_type": "stream",
     "text": [
      "<class 'pandas.core.frame.DataFrame'>\n",
      "RangeIndex: 10000 entries, 0 to 9999\n",
      "Data columns (total 14 columns):\n",
      " #   Column           Non-Null Count  Dtype  \n",
      "---  ------           --------------  -----  \n",
      " 0   RowNumber        10000 non-null  int64  \n",
      " 1   CustomerId       10000 non-null  int64  \n",
      " 2   Surname          10000 non-null  object \n",
      " 3   CreditScore      10000 non-null  int64  \n",
      " 4   Geography        10000 non-null  object \n",
      " 5   Gender           10000 non-null  object \n",
      " 6   Age              10000 non-null  int64  \n",
      " 7   Tenure           10000 non-null  int64  \n",
      " 8   Balance          10000 non-null  float64\n",
      " 9   NumOfProducts    10000 non-null  int64  \n",
      " 10  HasCrCard        10000 non-null  int64  \n",
      " 11  IsActiveMember   10000 non-null  int64  \n",
      " 12  EstimatedSalary  10000 non-null  float64\n",
      " 13  Exited           10000 non-null  int64  \n",
      "dtypes: float64(2), int64(9), object(3)\n",
      "memory usage: 1.1+ MB\n"
     ]
    }
   ],
   "source": [
    "data.info()"
   ]
  },
  {
   "cell_type": "markdown",
   "id": "70c66e06",
   "metadata": {},
   "source": [
    "# 1. undersampling"
   ]
  },
  {
   "cell_type": "code",
   "execution_count": 6,
   "id": "51a40eef",
   "metadata": {},
   "outputs": [],
   "source": [
    "class0_count, class1_count = data.Exited.value_counts()\n",
    "data_class0 = data[data.Exited == 0]\n",
    "data_class1 = data[data.Exited == 1]"
   ]
  },
  {
   "cell_type": "code",
   "execution_count": 7,
   "id": "c4c60780",
   "metadata": {},
   "outputs": [
    {
     "data": {
      "text/plain": [
       "(7963, 2037)"
      ]
     },
     "execution_count": 7,
     "metadata": {},
     "output_type": "execute_result"
    }
   ],
   "source": [
    "class0_count, class1_count"
   ]
  },
  {
   "cell_type": "code",
   "execution_count": 17,
   "id": "f3b37d85",
   "metadata": {},
   "outputs": [
    {
     "data": {
      "text/html": [
       "<div>\n",
       "<style scoped>\n",
       "    .dataframe tbody tr th:only-of-type {\n",
       "        vertical-align: middle;\n",
       "    }\n",
       "\n",
       "    .dataframe tbody tr th {\n",
       "        vertical-align: top;\n",
       "    }\n",
       "\n",
       "    .dataframe thead th {\n",
       "        text-align: right;\n",
       "    }\n",
       "</style>\n",
       "<table border=\"1\" class=\"dataframe\">\n",
       "  <thead>\n",
       "    <tr style=\"text-align: right;\">\n",
       "      <th></th>\n",
       "      <th>RowNumber</th>\n",
       "      <th>CustomerId</th>\n",
       "      <th>Surname</th>\n",
       "      <th>CreditScore</th>\n",
       "      <th>Geography</th>\n",
       "      <th>Gender</th>\n",
       "      <th>Age</th>\n",
       "      <th>Tenure</th>\n",
       "      <th>Balance</th>\n",
       "      <th>NumOfProducts</th>\n",
       "      <th>HasCrCard</th>\n",
       "      <th>IsActiveMember</th>\n",
       "      <th>EstimatedSalary</th>\n",
       "      <th>Exited</th>\n",
       "    </tr>\n",
       "  </thead>\n",
       "  <tbody>\n",
       "    <tr>\n",
       "      <th>2037</th>\n",
       "      <td>2038</td>\n",
       "      <td>15678146</td>\n",
       "      <td>Wong</td>\n",
       "      <td>668</td>\n",
       "      <td>Spain</td>\n",
       "      <td>Female</td>\n",
       "      <td>24</td>\n",
       "      <td>7</td>\n",
       "      <td>173962.32</td>\n",
       "      <td>1</td>\n",
       "      <td>0</td>\n",
       "      <td>0</td>\n",
       "      <td>106457.11</td>\n",
       "      <td>1</td>\n",
       "    </tr>\n",
       "    <tr>\n",
       "      <th>1180</th>\n",
       "      <td>1181</td>\n",
       "      <td>15570326</td>\n",
       "      <td>Wilkins</td>\n",
       "      <td>621</td>\n",
       "      <td>France</td>\n",
       "      <td>Male</td>\n",
       "      <td>34</td>\n",
       "      <td>6</td>\n",
       "      <td>0.00</td>\n",
       "      <td>2</td>\n",
       "      <td>1</td>\n",
       "      <td>1</td>\n",
       "      <td>99128.13</td>\n",
       "      <td>0</td>\n",
       "    </tr>\n",
       "    <tr>\n",
       "      <th>4436</th>\n",
       "      <td>4437</td>\n",
       "      <td>15664498</td>\n",
       "      <td>Golovanov</td>\n",
       "      <td>508</td>\n",
       "      <td>France</td>\n",
       "      <td>Male</td>\n",
       "      <td>26</td>\n",
       "      <td>7</td>\n",
       "      <td>205962.00</td>\n",
       "      <td>1</td>\n",
       "      <td>1</td>\n",
       "      <td>0</td>\n",
       "      <td>156424.40</td>\n",
       "      <td>0</td>\n",
       "    </tr>\n",
       "    <tr>\n",
       "      <th>6087</th>\n",
       "      <td>6088</td>\n",
       "      <td>15730759</td>\n",
       "      <td>Chukwudi</td>\n",
       "      <td>561</td>\n",
       "      <td>France</td>\n",
       "      <td>Female</td>\n",
       "      <td>27</td>\n",
       "      <td>9</td>\n",
       "      <td>135637.00</td>\n",
       "      <td>1</td>\n",
       "      <td>1</td>\n",
       "      <td>0</td>\n",
       "      <td>153080.40</td>\n",
       "      <td>1</td>\n",
       "    </tr>\n",
       "    <tr>\n",
       "      <th>1829</th>\n",
       "      <td>1830</td>\n",
       "      <td>15605275</td>\n",
       "      <td>Ofodile</td>\n",
       "      <td>725</td>\n",
       "      <td>Germany</td>\n",
       "      <td>Male</td>\n",
       "      <td>45</td>\n",
       "      <td>8</td>\n",
       "      <td>116917.07</td>\n",
       "      <td>1</td>\n",
       "      <td>0</td>\n",
       "      <td>0</td>\n",
       "      <td>173464.43</td>\n",
       "      <td>1</td>\n",
       "    </tr>\n",
       "  </tbody>\n",
       "</table>\n",
       "</div>"
      ],
      "text/plain": [
       "      RowNumber  CustomerId    Surname  CreditScore Geography  Gender  Age  \\\n",
       "2037       2038    15678146       Wong          668     Spain  Female   24   \n",
       "1180       1181    15570326    Wilkins          621    France    Male   34   \n",
       "4436       4437    15664498  Golovanov          508    France    Male   26   \n",
       "6087       6088    15730759   Chukwudi          561    France  Female   27   \n",
       "1829       1830    15605275    Ofodile          725   Germany    Male   45   \n",
       "\n",
       "      Tenure    Balance  NumOfProducts  HasCrCard  IsActiveMember  \\\n",
       "2037       7  173962.32              1          0               0   \n",
       "1180       6       0.00              2          1               1   \n",
       "4436       7  205962.00              1          1               0   \n",
       "6087       9  135637.00              1          1               0   \n",
       "1829       8  116917.07              1          0               0   \n",
       "\n",
       "      EstimatedSalary  Exited  \n",
       "2037        106457.11       1  \n",
       "1180         99128.13       0  \n",
       "4436        156424.40       0  \n",
       "6087        153080.40       1  \n",
       "1829        173464.43       1  "
      ]
     },
     "execution_count": 17,
     "metadata": {},
     "output_type": "execute_result"
    }
   ],
   "source": [
    "data_class0_under = data_class0.sample(class1_count)\n",
    "data_under = pd.concat([data_class0_under, data_class1], axis = 0).sample(frac = 1)\n",
    "data_under.head()"
   ]
  },
  {
   "cell_type": "code",
   "execution_count": 19,
   "id": "1d8771e1",
   "metadata": {},
   "outputs": [
    {
     "data": {
      "text/plain": [
       "1    2037\n",
       "0    2037\n",
       "Name: Exited, dtype: int64"
      ]
     },
     "execution_count": 19,
     "metadata": {},
     "output_type": "execute_result"
    }
   ],
   "source": [
    "data_under.Exited.value_counts()"
   ]
  },
  {
   "cell_type": "markdown",
   "id": "54d1fe0c",
   "metadata": {},
   "source": [
    "# 2. oversampling"
   ]
  },
  {
   "cell_type": "code",
   "execution_count": 23,
   "id": "637762e7",
   "metadata": {},
   "outputs": [
    {
     "data": {
      "text/html": [
       "<div>\n",
       "<style scoped>\n",
       "    .dataframe tbody tr th:only-of-type {\n",
       "        vertical-align: middle;\n",
       "    }\n",
       "\n",
       "    .dataframe tbody tr th {\n",
       "        vertical-align: top;\n",
       "    }\n",
       "\n",
       "    .dataframe thead th {\n",
       "        text-align: right;\n",
       "    }\n",
       "</style>\n",
       "<table border=\"1\" class=\"dataframe\">\n",
       "  <thead>\n",
       "    <tr style=\"text-align: right;\">\n",
       "      <th></th>\n",
       "      <th>RowNumber</th>\n",
       "      <th>CustomerId</th>\n",
       "      <th>Surname</th>\n",
       "      <th>CreditScore</th>\n",
       "      <th>Geography</th>\n",
       "      <th>Gender</th>\n",
       "      <th>Age</th>\n",
       "      <th>Tenure</th>\n",
       "      <th>Balance</th>\n",
       "      <th>NumOfProducts</th>\n",
       "      <th>HasCrCard</th>\n",
       "      <th>IsActiveMember</th>\n",
       "      <th>EstimatedSalary</th>\n",
       "      <th>Exited</th>\n",
       "    </tr>\n",
       "  </thead>\n",
       "  <tbody>\n",
       "    <tr>\n",
       "      <th>2915</th>\n",
       "      <td>2916</td>\n",
       "      <td>15617482</td>\n",
       "      <td>Milanesi</td>\n",
       "      <td>489</td>\n",
       "      <td>Germany</td>\n",
       "      <td>Female</td>\n",
       "      <td>52</td>\n",
       "      <td>1</td>\n",
       "      <td>131441.51</td>\n",
       "      <td>1</td>\n",
       "      <td>1</td>\n",
       "      <td>0</td>\n",
       "      <td>37240.11</td>\n",
       "      <td>1</td>\n",
       "    </tr>\n",
       "    <tr>\n",
       "      <th>2381</th>\n",
       "      <td>2382</td>\n",
       "      <td>15774151</td>\n",
       "      <td>Iadanza</td>\n",
       "      <td>614</td>\n",
       "      <td>Spain</td>\n",
       "      <td>Female</td>\n",
       "      <td>41</td>\n",
       "      <td>7</td>\n",
       "      <td>179915.85</td>\n",
       "      <td>1</td>\n",
       "      <td>0</td>\n",
       "      <td>0</td>\n",
       "      <td>14666.35</td>\n",
       "      <td>1</td>\n",
       "    </tr>\n",
       "    <tr>\n",
       "      <th>6431</th>\n",
       "      <td>6432</td>\n",
       "      <td>15683363</td>\n",
       "      <td>Goddard</td>\n",
       "      <td>540</td>\n",
       "      <td>Spain</td>\n",
       "      <td>Male</td>\n",
       "      <td>39</td>\n",
       "      <td>1</td>\n",
       "      <td>0.00</td>\n",
       "      <td>1</td>\n",
       "      <td>0</td>\n",
       "      <td>1</td>\n",
       "      <td>108419.41</td>\n",
       "      <td>0</td>\n",
       "    </tr>\n",
       "    <tr>\n",
       "      <th>4790</th>\n",
       "      <td>4791</td>\n",
       "      <td>15642022</td>\n",
       "      <td>Zito</td>\n",
       "      <td>621</td>\n",
       "      <td>Spain</td>\n",
       "      <td>Male</td>\n",
       "      <td>34</td>\n",
       "      <td>8</td>\n",
       "      <td>0.00</td>\n",
       "      <td>1</td>\n",
       "      <td>0</td>\n",
       "      <td>0</td>\n",
       "      <td>47972.65</td>\n",
       "      <td>0</td>\n",
       "    </tr>\n",
       "    <tr>\n",
       "      <th>9220</th>\n",
       "      <td>9221</td>\n",
       "      <td>15600399</td>\n",
       "      <td>Trentino</td>\n",
       "      <td>598</td>\n",
       "      <td>France</td>\n",
       "      <td>Male</td>\n",
       "      <td>60</td>\n",
       "      <td>4</td>\n",
       "      <td>0.00</td>\n",
       "      <td>1</td>\n",
       "      <td>1</td>\n",
       "      <td>0</td>\n",
       "      <td>197727.14</td>\n",
       "      <td>1</td>\n",
       "    </tr>\n",
       "  </tbody>\n",
       "</table>\n",
       "</div>"
      ],
      "text/plain": [
       "      RowNumber  CustomerId   Surname  CreditScore Geography  Gender  Age  \\\n",
       "2915       2916    15617482  Milanesi          489   Germany  Female   52   \n",
       "2381       2382    15774151   Iadanza          614     Spain  Female   41   \n",
       "6431       6432    15683363   Goddard          540     Spain    Male   39   \n",
       "4790       4791    15642022      Zito          621     Spain    Male   34   \n",
       "9220       9221    15600399  Trentino          598    France    Male   60   \n",
       "\n",
       "      Tenure    Balance  NumOfProducts  HasCrCard  IsActiveMember  \\\n",
       "2915       1  131441.51              1          1               0   \n",
       "2381       7  179915.85              1          0               0   \n",
       "6431       1       0.00              1          0               1   \n",
       "4790       8       0.00              1          0               0   \n",
       "9220       4       0.00              1          1               0   \n",
       "\n",
       "      EstimatedSalary  Exited  \n",
       "2915         37240.11       1  \n",
       "2381         14666.35       1  \n",
       "6431        108419.41       0  \n",
       "4790         47972.65       0  \n",
       "9220        197727.14       1  "
      ]
     },
     "execution_count": 23,
     "metadata": {},
     "output_type": "execute_result"
    }
   ],
   "source": [
    "data_class1_over = data_class1.sample(class0_count, replace = True)\n",
    "data_over = pd.concat([data_class1_over, data_class0], axis = 0).sample(frac = 1)\n",
    "data_over.head()"
   ]
  },
  {
   "cell_type": "code",
   "execution_count": 24,
   "id": "7f7d8f33",
   "metadata": {},
   "outputs": [
    {
     "data": {
      "text/plain": [
       "1    7963\n",
       "0    7963\n",
       "Name: Exited, dtype: int64"
      ]
     },
     "execution_count": 24,
     "metadata": {},
     "output_type": "execute_result"
    }
   ],
   "source": [
    "data_over.Exited.value_counts()"
   ]
  },
  {
   "cell_type": "markdown",
   "id": "f04dcf66",
   "metadata": {},
   "source": [
    "# 3. oversampling (SMOTE)"
   ]
  },
  {
   "cell_type": "code",
   "execution_count": 25,
   "id": "3cb5034a",
   "metadata": {},
   "outputs": [],
   "source": [
    "from imblearn.over_sampling import SMOTE\n",
    "from sklearn.model_selection import train_test_split\n"
   ]
  },
  {
   "cell_type": "code",
   "execution_count": 27,
   "id": "5f15fb80",
   "metadata": {},
   "outputs": [],
   "source": [
    "X = data.drop('Exited', axis = 1)\n",
    "y = data.Exited\n",
    "\n",
    "X_train, X_test, y_train, y_test = train_test_split(X, y, test_size = 0.2, stratify = y, \n",
    "                                                   random_state = 42)"
   ]
  },
  {
   "cell_type": "code",
   "execution_count": 29,
   "id": "d4c291ab",
   "metadata": {
    "scrolled": true
   },
   "outputs": [
    {
     "ename": "ValueError",
     "evalue": "could not convert string to float: 'Walton'",
     "output_type": "error",
     "traceback": [
      "\u001b[0;31m---------------------------------------------------------------------------\u001b[0m",
      "\u001b[0;31mValueError\u001b[0m                                Traceback (most recent call last)",
      "\u001b[0;32m<ipython-input-29-d3c3ae939d20>\u001b[0m in \u001b[0;36m<module>\u001b[0;34m\u001b[0m\n\u001b[1;32m      1\u001b[0m \u001b[0msmote\u001b[0m \u001b[0;34m=\u001b[0m \u001b[0mSMOTE\u001b[0m\u001b[0;34m(\u001b[0m\u001b[0msampling_strategy\u001b[0m \u001b[0;34m=\u001b[0m \u001b[0;34m'minority'\u001b[0m\u001b[0;34m)\u001b[0m\u001b[0;34m\u001b[0m\u001b[0;34m\u001b[0m\u001b[0m\n\u001b[0;32m----> 2\u001b[0;31m \u001b[0mX_train_smote\u001b[0m\u001b[0;34m,\u001b[0m \u001b[0my_train_smote\u001b[0m \u001b[0;34m=\u001b[0m \u001b[0msmote\u001b[0m\u001b[0;34m.\u001b[0m\u001b[0mfit_resample\u001b[0m\u001b[0;34m(\u001b[0m\u001b[0mX_train\u001b[0m\u001b[0;34m,\u001b[0m \u001b[0my_train\u001b[0m\u001b[0;34m)\u001b[0m\u001b[0;34m\u001b[0m\u001b[0;34m\u001b[0m\u001b[0m\n\u001b[0m",
      "\u001b[0;32m/opt/anaconda3/lib/python3.8/site-packages/imblearn/base.py\u001b[0m in \u001b[0;36mfit_resample\u001b[0;34m(self, X, y)\u001b[0m\n\u001b[1;32m     75\u001b[0m         \u001b[0mcheck_classification_targets\u001b[0m\u001b[0;34m(\u001b[0m\u001b[0my\u001b[0m\u001b[0;34m)\u001b[0m\u001b[0;34m\u001b[0m\u001b[0;34m\u001b[0m\u001b[0m\n\u001b[1;32m     76\u001b[0m         \u001b[0marrays_transformer\u001b[0m \u001b[0;34m=\u001b[0m \u001b[0mArraysTransformer\u001b[0m\u001b[0;34m(\u001b[0m\u001b[0mX\u001b[0m\u001b[0;34m,\u001b[0m \u001b[0my\u001b[0m\u001b[0;34m)\u001b[0m\u001b[0;34m\u001b[0m\u001b[0;34m\u001b[0m\u001b[0m\n\u001b[0;32m---> 77\u001b[0;31m         \u001b[0mX\u001b[0m\u001b[0;34m,\u001b[0m \u001b[0my\u001b[0m\u001b[0;34m,\u001b[0m \u001b[0mbinarize_y\u001b[0m \u001b[0;34m=\u001b[0m \u001b[0mself\u001b[0m\u001b[0;34m.\u001b[0m\u001b[0m_check_X_y\u001b[0m\u001b[0;34m(\u001b[0m\u001b[0mX\u001b[0m\u001b[0;34m,\u001b[0m \u001b[0my\u001b[0m\u001b[0;34m)\u001b[0m\u001b[0;34m\u001b[0m\u001b[0;34m\u001b[0m\u001b[0m\n\u001b[0m\u001b[1;32m     78\u001b[0m \u001b[0;34m\u001b[0m\u001b[0m\n\u001b[1;32m     79\u001b[0m         self.sampling_strategy_ = check_sampling_strategy(\n",
      "\u001b[0;32m/opt/anaconda3/lib/python3.8/site-packages/imblearn/base.py\u001b[0m in \u001b[0;36m_check_X_y\u001b[0;34m(self, X, y, accept_sparse)\u001b[0m\n\u001b[1;32m    130\u001b[0m             \u001b[0maccept_sparse\u001b[0m \u001b[0;34m=\u001b[0m \u001b[0;34m[\u001b[0m\u001b[0;34m\"csr\"\u001b[0m\u001b[0;34m,\u001b[0m \u001b[0;34m\"csc\"\u001b[0m\u001b[0;34m]\u001b[0m\u001b[0;34m\u001b[0m\u001b[0;34m\u001b[0m\u001b[0m\n\u001b[1;32m    131\u001b[0m         \u001b[0my\u001b[0m\u001b[0;34m,\u001b[0m \u001b[0mbinarize_y\u001b[0m \u001b[0;34m=\u001b[0m \u001b[0mcheck_target_type\u001b[0m\u001b[0;34m(\u001b[0m\u001b[0my\u001b[0m\u001b[0;34m,\u001b[0m \u001b[0mindicate_one_vs_all\u001b[0m\u001b[0;34m=\u001b[0m\u001b[0;32mTrue\u001b[0m\u001b[0;34m)\u001b[0m\u001b[0;34m\u001b[0m\u001b[0;34m\u001b[0m\u001b[0m\n\u001b[0;32m--> 132\u001b[0;31m         \u001b[0mX\u001b[0m\u001b[0;34m,\u001b[0m \u001b[0my\u001b[0m \u001b[0;34m=\u001b[0m \u001b[0mself\u001b[0m\u001b[0;34m.\u001b[0m\u001b[0m_validate_data\u001b[0m\u001b[0;34m(\u001b[0m\u001b[0mX\u001b[0m\u001b[0;34m,\u001b[0m \u001b[0my\u001b[0m\u001b[0;34m,\u001b[0m \u001b[0mreset\u001b[0m\u001b[0;34m=\u001b[0m\u001b[0;32mTrue\u001b[0m\u001b[0;34m,\u001b[0m \u001b[0maccept_sparse\u001b[0m\u001b[0;34m=\u001b[0m\u001b[0maccept_sparse\u001b[0m\u001b[0;34m)\u001b[0m\u001b[0;34m\u001b[0m\u001b[0;34m\u001b[0m\u001b[0m\n\u001b[0m\u001b[1;32m    133\u001b[0m         \u001b[0;32mreturn\u001b[0m \u001b[0mX\u001b[0m\u001b[0;34m,\u001b[0m \u001b[0my\u001b[0m\u001b[0;34m,\u001b[0m \u001b[0mbinarize_y\u001b[0m\u001b[0;34m\u001b[0m\u001b[0;34m\u001b[0m\u001b[0m\n\u001b[1;32m    134\u001b[0m \u001b[0;34m\u001b[0m\u001b[0m\n",
      "\u001b[0;32m/opt/anaconda3/lib/python3.8/site-packages/sklearn/base.py\u001b[0m in \u001b[0;36m_validate_data\u001b[0;34m(self, X, y, reset, validate_separately, **check_params)\u001b[0m\n\u001b[1;32m    574\u001b[0m                 \u001b[0my\u001b[0m \u001b[0;34m=\u001b[0m \u001b[0mcheck_array\u001b[0m\u001b[0;34m(\u001b[0m\u001b[0my\u001b[0m\u001b[0;34m,\u001b[0m \u001b[0;34m**\u001b[0m\u001b[0mcheck_y_params\u001b[0m\u001b[0;34m)\u001b[0m\u001b[0;34m\u001b[0m\u001b[0;34m\u001b[0m\u001b[0m\n\u001b[1;32m    575\u001b[0m             \u001b[0;32melse\u001b[0m\u001b[0;34m:\u001b[0m\u001b[0;34m\u001b[0m\u001b[0;34m\u001b[0m\u001b[0m\n\u001b[0;32m--> 576\u001b[0;31m                 \u001b[0mX\u001b[0m\u001b[0;34m,\u001b[0m \u001b[0my\u001b[0m \u001b[0;34m=\u001b[0m \u001b[0mcheck_X_y\u001b[0m\u001b[0;34m(\u001b[0m\u001b[0mX\u001b[0m\u001b[0;34m,\u001b[0m \u001b[0my\u001b[0m\u001b[0;34m,\u001b[0m \u001b[0;34m**\u001b[0m\u001b[0mcheck_params\u001b[0m\u001b[0;34m)\u001b[0m\u001b[0;34m\u001b[0m\u001b[0;34m\u001b[0m\u001b[0m\n\u001b[0m\u001b[1;32m    577\u001b[0m             \u001b[0mout\u001b[0m \u001b[0;34m=\u001b[0m \u001b[0mX\u001b[0m\u001b[0;34m,\u001b[0m \u001b[0my\u001b[0m\u001b[0;34m\u001b[0m\u001b[0;34m\u001b[0m\u001b[0m\n\u001b[1;32m    578\u001b[0m \u001b[0;34m\u001b[0m\u001b[0m\n",
      "\u001b[0;32m/opt/anaconda3/lib/python3.8/site-packages/sklearn/utils/validation.py\u001b[0m in \u001b[0;36mcheck_X_y\u001b[0;34m(X, y, accept_sparse, accept_large_sparse, dtype, order, copy, force_all_finite, ensure_2d, allow_nd, multi_output, ensure_min_samples, ensure_min_features, y_numeric, estimator)\u001b[0m\n\u001b[1;32m    954\u001b[0m         \u001b[0;32mraise\u001b[0m \u001b[0mValueError\u001b[0m\u001b[0;34m(\u001b[0m\u001b[0;34m\"y cannot be None\"\u001b[0m\u001b[0;34m)\u001b[0m\u001b[0;34m\u001b[0m\u001b[0;34m\u001b[0m\u001b[0m\n\u001b[1;32m    955\u001b[0m \u001b[0;34m\u001b[0m\u001b[0m\n\u001b[0;32m--> 956\u001b[0;31m     X = check_array(\n\u001b[0m\u001b[1;32m    957\u001b[0m         \u001b[0mX\u001b[0m\u001b[0;34m,\u001b[0m\u001b[0;34m\u001b[0m\u001b[0;34m\u001b[0m\u001b[0m\n\u001b[1;32m    958\u001b[0m         \u001b[0maccept_sparse\u001b[0m\u001b[0;34m=\u001b[0m\u001b[0maccept_sparse\u001b[0m\u001b[0;34m,\u001b[0m\u001b[0;34m\u001b[0m\u001b[0;34m\u001b[0m\u001b[0m\n",
      "\u001b[0;32m/opt/anaconda3/lib/python3.8/site-packages/sklearn/utils/validation.py\u001b[0m in \u001b[0;36mcheck_array\u001b[0;34m(array, accept_sparse, accept_large_sparse, dtype, order, copy, force_all_finite, ensure_2d, allow_nd, ensure_min_samples, ensure_min_features, estimator)\u001b[0m\n\u001b[1;32m    736\u001b[0m                     \u001b[0marray\u001b[0m \u001b[0;34m=\u001b[0m \u001b[0marray\u001b[0m\u001b[0;34m.\u001b[0m\u001b[0mastype\u001b[0m\u001b[0;34m(\u001b[0m\u001b[0mdtype\u001b[0m\u001b[0;34m,\u001b[0m \u001b[0mcasting\u001b[0m\u001b[0;34m=\u001b[0m\u001b[0;34m\"unsafe\"\u001b[0m\u001b[0;34m,\u001b[0m \u001b[0mcopy\u001b[0m\u001b[0;34m=\u001b[0m\u001b[0;32mFalse\u001b[0m\u001b[0;34m)\u001b[0m\u001b[0;34m\u001b[0m\u001b[0;34m\u001b[0m\u001b[0m\n\u001b[1;32m    737\u001b[0m                 \u001b[0;32melse\u001b[0m\u001b[0;34m:\u001b[0m\u001b[0;34m\u001b[0m\u001b[0;34m\u001b[0m\u001b[0m\n\u001b[0;32m--> 738\u001b[0;31m                     \u001b[0marray\u001b[0m \u001b[0;34m=\u001b[0m \u001b[0mnp\u001b[0m\u001b[0;34m.\u001b[0m\u001b[0masarray\u001b[0m\u001b[0;34m(\u001b[0m\u001b[0marray\u001b[0m\u001b[0;34m,\u001b[0m \u001b[0morder\u001b[0m\u001b[0;34m=\u001b[0m\u001b[0morder\u001b[0m\u001b[0;34m,\u001b[0m \u001b[0mdtype\u001b[0m\u001b[0;34m=\u001b[0m\u001b[0mdtype\u001b[0m\u001b[0;34m)\u001b[0m\u001b[0;34m\u001b[0m\u001b[0;34m\u001b[0m\u001b[0m\n\u001b[0m\u001b[1;32m    739\u001b[0m             \u001b[0;32mexcept\u001b[0m \u001b[0mComplexWarning\u001b[0m \u001b[0;32mas\u001b[0m \u001b[0mcomplex_warning\u001b[0m\u001b[0;34m:\u001b[0m\u001b[0;34m\u001b[0m\u001b[0;34m\u001b[0m\u001b[0m\n\u001b[1;32m    740\u001b[0m                 raise ValueError(\n",
      "\u001b[0;32m/opt/anaconda3/lib/python3.8/site-packages/numpy/core/_asarray.py\u001b[0m in \u001b[0;36masarray\u001b[0;34m(a, dtype, order, like)\u001b[0m\n\u001b[1;32m    100\u001b[0m         \u001b[0;32mreturn\u001b[0m \u001b[0m_asarray_with_like\u001b[0m\u001b[0;34m(\u001b[0m\u001b[0ma\u001b[0m\u001b[0;34m,\u001b[0m \u001b[0mdtype\u001b[0m\u001b[0;34m=\u001b[0m\u001b[0mdtype\u001b[0m\u001b[0;34m,\u001b[0m \u001b[0morder\u001b[0m\u001b[0;34m=\u001b[0m\u001b[0morder\u001b[0m\u001b[0;34m,\u001b[0m \u001b[0mlike\u001b[0m\u001b[0;34m=\u001b[0m\u001b[0mlike\u001b[0m\u001b[0;34m)\u001b[0m\u001b[0;34m\u001b[0m\u001b[0;34m\u001b[0m\u001b[0m\n\u001b[1;32m    101\u001b[0m \u001b[0;34m\u001b[0m\u001b[0m\n\u001b[0;32m--> 102\u001b[0;31m     \u001b[0;32mreturn\u001b[0m \u001b[0marray\u001b[0m\u001b[0;34m(\u001b[0m\u001b[0ma\u001b[0m\u001b[0;34m,\u001b[0m \u001b[0mdtype\u001b[0m\u001b[0;34m,\u001b[0m \u001b[0mcopy\u001b[0m\u001b[0;34m=\u001b[0m\u001b[0;32mFalse\u001b[0m\u001b[0;34m,\u001b[0m \u001b[0morder\u001b[0m\u001b[0;34m=\u001b[0m\u001b[0morder\u001b[0m\u001b[0;34m)\u001b[0m\u001b[0;34m\u001b[0m\u001b[0;34m\u001b[0m\u001b[0m\n\u001b[0m\u001b[1;32m    103\u001b[0m \u001b[0;34m\u001b[0m\u001b[0m\n\u001b[1;32m    104\u001b[0m \u001b[0;34m\u001b[0m\u001b[0m\n",
      "\u001b[0;32m/opt/anaconda3/lib/python3.8/site-packages/pandas/core/generic.py\u001b[0m in \u001b[0;36m__array__\u001b[0;34m(self, dtype)\u001b[0m\n\u001b[1;32m   1988\u001b[0m \u001b[0;34m\u001b[0m\u001b[0m\n\u001b[1;32m   1989\u001b[0m     \u001b[0;32mdef\u001b[0m \u001b[0m__array__\u001b[0m\u001b[0;34m(\u001b[0m\u001b[0mself\u001b[0m\u001b[0;34m,\u001b[0m \u001b[0mdtype\u001b[0m\u001b[0;34m:\u001b[0m \u001b[0mNpDtype\u001b[0m \u001b[0;34m|\u001b[0m \u001b[0;32mNone\u001b[0m \u001b[0;34m=\u001b[0m \u001b[0;32mNone\u001b[0m\u001b[0;34m)\u001b[0m \u001b[0;34m->\u001b[0m \u001b[0mnp\u001b[0m\u001b[0;34m.\u001b[0m\u001b[0mndarray\u001b[0m\u001b[0;34m:\u001b[0m\u001b[0;34m\u001b[0m\u001b[0;34m\u001b[0m\u001b[0m\n\u001b[0;32m-> 1990\u001b[0;31m         \u001b[0;32mreturn\u001b[0m \u001b[0mnp\u001b[0m\u001b[0;34m.\u001b[0m\u001b[0masarray\u001b[0m\u001b[0;34m(\u001b[0m\u001b[0mself\u001b[0m\u001b[0;34m.\u001b[0m\u001b[0m_values\u001b[0m\u001b[0;34m,\u001b[0m \u001b[0mdtype\u001b[0m\u001b[0;34m=\u001b[0m\u001b[0mdtype\u001b[0m\u001b[0;34m)\u001b[0m\u001b[0;34m\u001b[0m\u001b[0;34m\u001b[0m\u001b[0m\n\u001b[0m\u001b[1;32m   1991\u001b[0m \u001b[0;34m\u001b[0m\u001b[0m\n\u001b[1;32m   1992\u001b[0m     def __array_wrap__(\n",
      "\u001b[0;32m/opt/anaconda3/lib/python3.8/site-packages/numpy/core/_asarray.py\u001b[0m in \u001b[0;36masarray\u001b[0;34m(a, dtype, order, like)\u001b[0m\n\u001b[1;32m    100\u001b[0m         \u001b[0;32mreturn\u001b[0m \u001b[0m_asarray_with_like\u001b[0m\u001b[0;34m(\u001b[0m\u001b[0ma\u001b[0m\u001b[0;34m,\u001b[0m \u001b[0mdtype\u001b[0m\u001b[0;34m=\u001b[0m\u001b[0mdtype\u001b[0m\u001b[0;34m,\u001b[0m \u001b[0morder\u001b[0m\u001b[0;34m=\u001b[0m\u001b[0morder\u001b[0m\u001b[0;34m,\u001b[0m \u001b[0mlike\u001b[0m\u001b[0;34m=\u001b[0m\u001b[0mlike\u001b[0m\u001b[0;34m)\u001b[0m\u001b[0;34m\u001b[0m\u001b[0;34m\u001b[0m\u001b[0m\n\u001b[1;32m    101\u001b[0m \u001b[0;34m\u001b[0m\u001b[0m\n\u001b[0;32m--> 102\u001b[0;31m     \u001b[0;32mreturn\u001b[0m \u001b[0marray\u001b[0m\u001b[0;34m(\u001b[0m\u001b[0ma\u001b[0m\u001b[0;34m,\u001b[0m \u001b[0mdtype\u001b[0m\u001b[0;34m,\u001b[0m \u001b[0mcopy\u001b[0m\u001b[0;34m=\u001b[0m\u001b[0;32mFalse\u001b[0m\u001b[0;34m,\u001b[0m \u001b[0morder\u001b[0m\u001b[0;34m=\u001b[0m\u001b[0morder\u001b[0m\u001b[0;34m)\u001b[0m\u001b[0;34m\u001b[0m\u001b[0;34m\u001b[0m\u001b[0m\n\u001b[0m\u001b[1;32m    103\u001b[0m \u001b[0;34m\u001b[0m\u001b[0m\n\u001b[1;32m    104\u001b[0m \u001b[0;34m\u001b[0m\u001b[0m\n",
      "\u001b[0;31mValueError\u001b[0m: could not convert string to float: 'Walton'"
     ]
    }
   ],
   "source": [
    "smote = SMOTE(sampling_strategy = 'minority')\n",
    "X_train_smote, y_train_smote = smote.fit_resample(X_train, y_train)"
   ]
  },
  {
   "cell_type": "markdown",
   "id": "84e30f87",
   "metadata": {},
   "source": [
    "# 4. ensemble method"
   ]
  },
  {
   "cell_type": "code",
   "execution_count": null,
   "id": "2e20e7a1",
   "metadata": {},
   "outputs": [],
   "source": [
    "X = data.drop('Exited', axis = 1)\n",
    "y = data.Exited\n",
    "\n",
    "X_train, X_test, y_train, y_test = train_test_split(X, y, stratify = y, random_state = 42,\n",
    "                                                   test_size = 0.2)\n",
    "df3 = X_train.copy()\n",
    "df3['Exited'] = y_train\n",
    "\n",
    "df3_class0 = df3[df3.Exited == 0]\n",
    "df3_class1 = df3[df3.Exited == 1]\n",
    "\n",
    "def get_training_batch(df_minority, df_majoirty, start end):\n",
    "    df = pd.concat([df_minoirty[start:end], df_majority], axis = 0)\n",
    "    X_train = df.drop('Exited', axis = 1)\n",
    "    y_train = df.Exited\n",
    "    \n",
    "    return X_train, y_train\n",
    "X_train, y_train = get_training_batch(df3_class1, df3_class0, 0, df3_class1.shape[0])\n",
    "model = LogisticRegression().fit(X_train, y_train)\n",
    "y_pred1 = model.predict(X_test)\n",
    "X_train, y_train = get_training_batch(df3_class1, df3_class0, df3_class1.shape[0], df3_class1.shape[0]*2)\n",
    "model = LogisticRegression().fit(X_train, y_train)\n",
    "y_pred2 = model.predict(X_test)\n",
    "X_train, y_train = get_training_batch(df3_class1, df3_class0, df3_class1.shape[0]*2, df3_class0.shape[0])\n",
    "model = LogisticRegression().fit(X_train, y_train)\n",
    "y_pred3 = model.predict(X_test)\n",
    "\n",
    "y_pred_final = y_pred1.copy()\n",
    "\n",
    "for i in range(len(y_pred1)):\n",
    "    final = y_pred1[i]+y_pred2[i]+y_pred3[i]\n",
    "    if final>1:\n",
    "        y_pred_final[i] = 1\n",
    "    else:\n",
    "        y_pred_final[i] = 0\n",
    "        "
   ]
  },
  {
   "cell_type": "code",
   "execution_count": 4,
   "id": "24e80fac",
   "metadata": {},
   "outputs": [],
   "source": [
    "from tensorflow.keras.preprocessing.text import one_hot\n",
    "from tensorflow.keras.preprocessing.sequence import pad_sequences\n",
    "from tensorflow.keras.models import Sequential\n",
    "from tensorflow.keras.layers import Dense, Flatten, Embedding"
   ]
  },
  {
   "cell_type": "code",
   "execution_count": 5,
   "id": "a35113d7",
   "metadata": {},
   "outputs": [],
   "source": [
    "reviews = ['nice food',\n",
    "        'amazing restaurant',\n",
    "        'too good',\n",
    "        'just loved it!',\n",
    "        'will go again',\n",
    "        'horrible food',\n",
    "        'never go there',\n",
    "        'poor service',\n",
    "        'poor quality',\n",
    "        'needs improvement']\n",
    "\n",
    "sentiment = np.array([1,1,1,1,1,0,0,0,0,0])"
   ]
  },
  {
   "cell_type": "code",
   "execution_count": 25,
   "id": "4da3f1c9",
   "metadata": {},
   "outputs": [
    {
     "data": {
      "text/plain": [
       "[26, 12]"
      ]
     },
     "execution_count": 25,
     "metadata": {},
     "output_type": "execute_result"
    }
   ],
   "source": [
    "one_hot('amazing restaurant', 30)"
   ]
  },
  {
   "cell_type": "code",
   "execution_count": 8,
   "id": "d5dd69c7",
   "metadata": {},
   "outputs": [
    {
     "name": "stdout",
     "output_type": "stream",
     "text": [
      "[[1, 29], [26, 12], [27, 15], [18, 27, 9], [26, 12, 25], [21, 29], [13, 12, 4], [17, 2], [17, 9], [3, 20]]\n"
     ]
    }
   ],
   "source": [
    "vocab_size = 30\n",
    "encoded_review = [one_hot(d, vocab_size) for d in reviews]\n",
    "print(encoded_review)"
   ]
  },
  {
   "cell_type": "code",
   "execution_count": 11,
   "id": "1e7e6384",
   "metadata": {},
   "outputs": [
    {
     "name": "stdout",
     "output_type": "stream",
     "text": [
      "[[ 1 29  0]\n",
      " [26 12  0]\n",
      " [27 15  0]\n",
      " [18 27  9]\n",
      " [26 12 25]\n",
      " [21 29  0]\n",
      " [13 12  4]\n",
      " [17  2  0]\n",
      " [17  9  0]\n",
      " [ 3 20  0]]\n"
     ]
    }
   ],
   "source": [
    "max_length = 3\n",
    "padded_review = pad_sequences(encoded_review, maxlen = max_length, padding = 'post')\n",
    "print(padded_review)"
   ]
  },
  {
   "cell_type": "code",
   "execution_count": 17,
   "id": "43f757e1",
   "metadata": {},
   "outputs": [],
   "source": [
    "embeded_vector_size = 4\n",
    "\n",
    "model = Sequential()\n",
    "model.add(Embedding(vocab_size, embeded_vector_size, input_length = max_length, name = 'embedding'))\n",
    "model.add(Flatten())\n",
    "model.add(Dense(1, activation = 'sigmoid'))"
   ]
  },
  {
   "cell_type": "code",
   "execution_count": 18,
   "id": "32d7890c",
   "metadata": {},
   "outputs": [],
   "source": [
    "X = padded_review\n",
    "y = sentiment"
   ]
  },
  {
   "cell_type": "code",
   "execution_count": 19,
   "id": "facc5c22",
   "metadata": {},
   "outputs": [
    {
     "name": "stdout",
     "output_type": "stream",
     "text": [
      "Model: \"sequential_2\"\n",
      "_________________________________________________________________\n",
      "Layer (type)                 Output Shape              Param #   \n",
      "=================================================================\n",
      "embedding (Embedding)        (None, 3, 4)              120       \n",
      "_________________________________________________________________\n",
      "flatten_1 (Flatten)          (None, 12)                0         \n",
      "_________________________________________________________________\n",
      "dense_1 (Dense)              (None, 1)                 13        \n",
      "=================================================================\n",
      "Total params: 133\n",
      "Trainable params: 133\n",
      "Non-trainable params: 0\n",
      "_________________________________________________________________\n"
     ]
    }
   ],
   "source": [
    "model.compile(optimizer = 'adam', loss = 'binary_crossentropy', metrics = ['accuracy'])\n",
    "model.summary()"
   ]
  },
  {
   "cell_type": "code",
   "execution_count": 20,
   "id": "a4e2edb3",
   "metadata": {},
   "outputs": [
    {
     "data": {
      "text/plain": [
       "<tensorflow.python.keras.callbacks.History at 0x7fd826076250>"
      ]
     },
     "execution_count": 20,
     "metadata": {},
     "output_type": "execute_result"
    }
   ],
   "source": [
    "model.fit(X, y, epochs = 20, verbose = 0)"
   ]
  },
  {
   "cell_type": "code",
   "execution_count": 21,
   "id": "d4b1f935",
   "metadata": {},
   "outputs": [
    {
     "name": "stdout",
     "output_type": "stream",
     "text": [
      "1/1 [==============================] - 0s 230ms/step - loss: 0.6643 - accuracy: 0.9000\n"
     ]
    },
    {
     "data": {
      "text/plain": [
       "[0.6642730832099915, 0.8999999761581421]"
      ]
     },
     "execution_count": 21,
     "metadata": {},
     "output_type": "execute_result"
    }
   ],
   "source": [
    "model.evaluate(X, y)"
   ]
  },
  {
   "cell_type": "code",
   "execution_count": 23,
   "id": "a80a6329",
   "metadata": {},
   "outputs": [
    {
     "data": {
      "text/plain": [
       "30"
      ]
     },
     "execution_count": 23,
     "metadata": {},
     "output_type": "execute_result"
    }
   ],
   "source": [
    "weights = model.get_layer('embedding').get_weights()[0]\n",
    "len(weights)"
   ]
  },
  {
   "cell_type": "code",
   "execution_count": 6,
   "id": "40555410",
   "metadata": {},
   "outputs": [
    {
     "data": {
      "text/html": [
       "<div>\n",
       "<style scoped>\n",
       "    .dataframe tbody tr th:only-of-type {\n",
       "        vertical-align: middle;\n",
       "    }\n",
       "\n",
       "    .dataframe tbody tr th {\n",
       "        vertical-align: top;\n",
       "    }\n",
       "\n",
       "    .dataframe thead th {\n",
       "        text-align: right;\n",
       "    }\n",
       "</style>\n",
       "<table border=\"1\" class=\"dataframe\">\n",
       "  <thead>\n",
       "    <tr style=\"text-align: right;\">\n",
       "      <th></th>\n",
       "      <th>reviewerID</th>\n",
       "      <th>asin</th>\n",
       "      <th>reviewerName</th>\n",
       "      <th>helpful</th>\n",
       "      <th>reviewText</th>\n",
       "      <th>overall</th>\n",
       "      <th>summary</th>\n",
       "      <th>unixReviewTime</th>\n",
       "      <th>reviewTime</th>\n",
       "    </tr>\n",
       "  </thead>\n",
       "  <tbody>\n",
       "    <tr>\n",
       "      <th>0</th>\n",
       "      <td>A30TL5EWN6DFXT</td>\n",
       "      <td>120401325X</td>\n",
       "      <td>christina</td>\n",
       "      <td>[0, 0]</td>\n",
       "      <td>They look good and stick good! I just don't li...</td>\n",
       "      <td>4</td>\n",
       "      <td>Looks Good</td>\n",
       "      <td>1400630400</td>\n",
       "      <td>05 21, 2014</td>\n",
       "    </tr>\n",
       "    <tr>\n",
       "      <th>1</th>\n",
       "      <td>ASY55RVNIL0UD</td>\n",
       "      <td>120401325X</td>\n",
       "      <td>emily l.</td>\n",
       "      <td>[0, 0]</td>\n",
       "      <td>These stickers work like the review says they ...</td>\n",
       "      <td>5</td>\n",
       "      <td>Really great product.</td>\n",
       "      <td>1389657600</td>\n",
       "      <td>01 14, 2014</td>\n",
       "    </tr>\n",
       "    <tr>\n",
       "      <th>2</th>\n",
       "      <td>A2TMXE2AFO7ONB</td>\n",
       "      <td>120401325X</td>\n",
       "      <td>Erica</td>\n",
       "      <td>[0, 0]</td>\n",
       "      <td>These are awesome and make my phone look so st...</td>\n",
       "      <td>5</td>\n",
       "      <td>LOVE LOVE LOVE</td>\n",
       "      <td>1403740800</td>\n",
       "      <td>06 26, 2014</td>\n",
       "    </tr>\n",
       "    <tr>\n",
       "      <th>3</th>\n",
       "      <td>AWJ0WZQYMYFQ4</td>\n",
       "      <td>120401325X</td>\n",
       "      <td>JM</td>\n",
       "      <td>[4, 4]</td>\n",
       "      <td>Item arrived in great time and was in perfect ...</td>\n",
       "      <td>4</td>\n",
       "      <td>Cute!</td>\n",
       "      <td>1382313600</td>\n",
       "      <td>10 21, 2013</td>\n",
       "    </tr>\n",
       "    <tr>\n",
       "      <th>4</th>\n",
       "      <td>ATX7CZYFXI1KW</td>\n",
       "      <td>120401325X</td>\n",
       "      <td>patrice m rogoza</td>\n",
       "      <td>[2, 3]</td>\n",
       "      <td>awesome! stays on, and looks great. can be use...</td>\n",
       "      <td>5</td>\n",
       "      <td>leopard home button sticker for iphone 4s</td>\n",
       "      <td>1359849600</td>\n",
       "      <td>02 3, 2013</td>\n",
       "    </tr>\n",
       "  </tbody>\n",
       "</table>\n",
       "</div>"
      ],
      "text/plain": [
       "       reviewerID        asin      reviewerName helpful  \\\n",
       "0  A30TL5EWN6DFXT  120401325X         christina  [0, 0]   \n",
       "1   ASY55RVNIL0UD  120401325X          emily l.  [0, 0]   \n",
       "2  A2TMXE2AFO7ONB  120401325X             Erica  [0, 0]   \n",
       "3   AWJ0WZQYMYFQ4  120401325X                JM  [4, 4]   \n",
       "4   ATX7CZYFXI1KW  120401325X  patrice m rogoza  [2, 3]   \n",
       "\n",
       "                                          reviewText  overall  \\\n",
       "0  They look good and stick good! I just don't li...        4   \n",
       "1  These stickers work like the review says they ...        5   \n",
       "2  These are awesome and make my phone look so st...        5   \n",
       "3  Item arrived in great time and was in perfect ...        4   \n",
       "4  awesome! stays on, and looks great. can be use...        5   \n",
       "\n",
       "                                     summary  unixReviewTime   reviewTime  \n",
       "0                                 Looks Good      1400630400  05 21, 2014  \n",
       "1                      Really great product.      1389657600  01 14, 2014  \n",
       "2                             LOVE LOVE LOVE      1403740800  06 26, 2014  \n",
       "3                                      Cute!      1382313600  10 21, 2013  \n",
       "4  leopard home button sticker for iphone 4s      1359849600   02 3, 2013  "
      ]
     },
     "execution_count": 6,
     "metadata": {},
     "output_type": "execute_result"
    }
   ],
   "source": [
    "import gensim\n",
    "\n",
    "df = pd.read_json('reviews_Cell_Phones_and_Accessories_5.json', lines = True)\n",
    "df.head()"
   ]
  },
  {
   "cell_type": "code",
   "execution_count": 4,
   "id": "f7d20931",
   "metadata": {},
   "outputs": [
    {
     "data": {
      "text/plain": [
       "(194439, 9)"
      ]
     },
     "execution_count": 4,
     "metadata": {},
     "output_type": "execute_result"
    }
   ],
   "source": [
    "df.shape"
   ]
  },
  {
   "cell_type": "code",
   "execution_count": 5,
   "id": "3e06ff46",
   "metadata": {},
   "outputs": [
    {
     "name": "stdout",
     "output_type": "stream",
     "text": [
      "<class 'pandas.core.frame.DataFrame'>\n",
      "RangeIndex: 194439 entries, 0 to 194438\n",
      "Data columns (total 9 columns):\n",
      " #   Column          Non-Null Count   Dtype \n",
      "---  ------          --------------   ----- \n",
      " 0   reviewerID      194439 non-null  object\n",
      " 1   asin            194439 non-null  object\n",
      " 2   reviewerName    190920 non-null  object\n",
      " 3   helpful         194439 non-null  object\n",
      " 4   reviewText      194439 non-null  object\n",
      " 5   overall         194439 non-null  int64 \n",
      " 6   summary         194439 non-null  object\n",
      " 7   unixReviewTime  194439 non-null  int64 \n",
      " 8   reviewTime      194439 non-null  object\n",
      "dtypes: int64(2), object(7)\n",
      "memory usage: 13.4+ MB\n"
     ]
    }
   ],
   "source": [
    "df.info()"
   ]
  },
  {
   "cell_type": "code",
   "execution_count": 7,
   "id": "a0df6c92",
   "metadata": {},
   "outputs": [
    {
     "data": {
      "text/plain": [
       "\"They look good and stick good! I just don't like the rounded shape because I was always bumping it and Siri kept popping up and it was irritating. I just won't buy a product like this again\""
      ]
     },
     "execution_count": 7,
     "metadata": {},
     "output_type": "execute_result"
    }
   ],
   "source": [
    "df.reviewText[0]"
   ]
  },
  {
   "cell_type": "code",
   "execution_count": 9,
   "id": "85de77f7",
   "metadata": {
    "scrolled": true
   },
   "outputs": [
    {
     "data": {
      "text/plain": [
       "0         [they, look, good, and, stick, good, just, don...\n",
       "1         [these, stickers, work, like, the, review, say...\n",
       "2         [these, are, awesome, and, make, my, phone, lo...\n",
       "3         [item, arrived, in, great, time, and, was, in,...\n",
       "4         [awesome, stays, on, and, looks, great, can, b...\n",
       "                                ...                        \n",
       "194434    [works, great, just, like, my, original, one, ...\n",
       "194435    [great, product, great, packaging, high, quali...\n",
       "194436    [this, is, great, cable, just, as, good, as, t...\n",
       "194437    [really, like, it, becasue, it, works, well, w...\n",
       "194438    [product, as, described, have, wasted, lot, of...\n",
       "Name: reviewText, Length: 194439, dtype: object"
      ]
     },
     "execution_count": 9,
     "metadata": {},
     "output_type": "execute_result"
    }
   ],
   "source": [
    "review_text = df.reviewText.apply(gensim.utils.simple_preprocess)\n",
    "review_text"
   ]
  },
  {
   "cell_type": "code",
   "execution_count": 10,
   "id": "05d35622",
   "metadata": {},
   "outputs": [],
   "source": [
    "model = gensim.models.Word2Vec(\n",
    "    window = 10, min_count = 2, workers = 4\n",
    ")"
   ]
  },
  {
   "cell_type": "code",
   "execution_count": 11,
   "id": "1942b125",
   "metadata": {},
   "outputs": [],
   "source": [
    "model.build_vocab(review_text, progress_per = 1000)"
   ]
  },
  {
   "cell_type": "code",
   "execution_count": 12,
   "id": "b4257d34",
   "metadata": {},
   "outputs": [
    {
     "data": {
      "text/plain": [
       "5"
      ]
     },
     "execution_count": 12,
     "metadata": {},
     "output_type": "execute_result"
    }
   ],
   "source": [
    "model.epochs"
   ]
  },
  {
   "cell_type": "code",
   "execution_count": 13,
   "id": "7f064454",
   "metadata": {},
   "outputs": [
    {
     "data": {
      "text/plain": [
       "194439"
      ]
     },
     "execution_count": 13,
     "metadata": {},
     "output_type": "execute_result"
    }
   ],
   "source": [
    "model.corpus_count"
   ]
  },
  {
   "cell_type": "code",
   "execution_count": 14,
   "id": "b6bf83cb",
   "metadata": {},
   "outputs": [
    {
     "data": {
      "text/plain": [
       "(61504357, 83868975)"
      ]
     },
     "execution_count": 14,
     "metadata": {},
     "output_type": "execute_result"
    }
   ],
   "source": [
    "model.train(review_text, total_examples = model.corpus_count, epochs = model.epochs)"
   ]
  },
  {
   "cell_type": "code",
   "execution_count": 15,
   "id": "2e4d858e",
   "metadata": {},
   "outputs": [],
   "source": [
    "model.save('word2vec_amazon_review.model')"
   ]
  },
  {
   "cell_type": "code",
   "execution_count": 16,
   "id": "b9fe1f5a",
   "metadata": {},
   "outputs": [
    {
     "data": {
      "text/plain": [
       "[('terrible', 0.6731167435646057),\n",
       " ('shabby', 0.6398932337760925),\n",
       " ('horrible', 0.5999248623847961),\n",
       " ('good', 0.5819047093391418),\n",
       " ('sad', 0.5442848205566406),\n",
       " ('awful', 0.5315987467765808),\n",
       " ('poor', 0.5272216200828552),\n",
       " ('funny', 0.5228155851364136),\n",
       " ('okay', 0.5225776433944702),\n",
       " ('ok', 0.5142305493354797)]"
      ]
     },
     "execution_count": 16,
     "metadata": {},
     "output_type": "execute_result"
    }
   ],
   "source": [
    "model.wv.most_similar('bad')"
   ]
  },
  {
   "cell_type": "code",
   "execution_count": 17,
   "id": "dc1e478b",
   "metadata": {},
   "outputs": [
    {
     "data": {
      "text/plain": [
       "0.5496903"
      ]
     },
     "execution_count": 17,
     "metadata": {},
     "output_type": "execute_result"
    }
   ],
   "source": [
    "model.wv.similarity(w1 = 'cheap', w2 = 'inexpensive')"
   ]
  },
  {
   "cell_type": "code",
   "execution_count": 18,
   "id": "2a17b743",
   "metadata": {},
   "outputs": [
    {
     "data": {
      "text/plain": [
       "0.78403556"
      ]
     },
     "execution_count": 18,
     "metadata": {},
     "output_type": "execute_result"
    }
   ],
   "source": [
    "model.wv.similarity(w1 = 'great', w2 = 'good')"
   ]
  },
  {
   "cell_type": "code",
   "execution_count": 19,
   "id": "b836f933",
   "metadata": {},
   "outputs": [
    {
     "data": {
      "text/plain": [
       "0.087051496"
      ]
     },
     "execution_count": 19,
     "metadata": {},
     "output_type": "execute_result"
    }
   ],
   "source": [
    "model.wv.similarity(w1 = 'great', w2 = 'iphone')"
   ]
  },
  {
   "cell_type": "code",
   "execution_count": 20,
   "id": "9f87c704",
   "metadata": {},
   "outputs": [],
   "source": [
    "import tensorflow as tf"
   ]
  },
  {
   "cell_type": "code",
   "execution_count": 21,
   "id": "f023a266",
   "metadata": {},
   "outputs": [
    {
     "data": {
      "text/plain": [
       "<TensorSliceDataset shapes: (), types: tf.int32>"
      ]
     },
     "execution_count": 21,
     "metadata": {},
     "output_type": "execute_result"
    }
   ],
   "source": [
    "daily_sales_numbers = [21, 22, -108, 31, -1, 32, 34,31]\n",
    "tf_dataset = tf.data.Dataset.from_tensor_slices(daily_sales_numbers)\n",
    "tf_dataset"
   ]
  },
  {
   "cell_type": "code",
   "execution_count": 23,
   "id": "cd953ab6",
   "metadata": {},
   "outputs": [
    {
     "name": "stdout",
     "output_type": "stream",
     "text": [
      "21\n",
      "22\n",
      "-108\n",
      "31\n",
      "-1\n",
      "32\n",
      "34\n",
      "31\n"
     ]
    }
   ],
   "source": [
    "for sales in tf_dataset.as_numpy_iterator():\n",
    "    print(sales)"
   ]
  },
  {
   "cell_type": "code",
   "execution_count": 25,
   "id": "dd0ff558",
   "metadata": {},
   "outputs": [
    {
     "name": "stdout",
     "output_type": "stream",
     "text": [
      "21\n",
      "22\n",
      "-108\n"
     ]
    }
   ],
   "source": [
    "for sales in tf_dataset.take(3):\n",
    "    print(sales.numpy())"
   ]
  },
  {
   "cell_type": "code",
   "execution_count": 26,
   "id": "1f4588ad",
   "metadata": {},
   "outputs": [
    {
     "name": "stdout",
     "output_type": "stream",
     "text": [
      "21\n",
      "22\n",
      "31\n",
      "32\n",
      "34\n",
      "31\n"
     ]
    }
   ],
   "source": [
    "tf_dataset = tf_dataset.filter(lambda x: x>0)\n",
    "for sales in tf_dataset.as_numpy_iterator():\n",
    "    print(sales)"
   ]
  },
  {
   "cell_type": "code",
   "execution_count": 28,
   "id": "63e6e2c7",
   "metadata": {},
   "outputs": [
    {
     "name": "stdout",
     "output_type": "stream",
     "text": [
      "1512\n",
      "1584\n",
      "2232\n",
      "2304\n",
      "2448\n",
      "2232\n"
     ]
    }
   ],
   "source": [
    "tf_dataset = tf_dataset.map(lambda x: x*72)\n",
    "for sales in tf_dataset.as_numpy_iterator():\n",
    "    print(sales)"
   ]
  },
  {
   "cell_type": "code",
   "execution_count": 38,
   "id": "b59f9025",
   "metadata": {},
   "outputs": [
    {
     "name": "stdout",
     "output_type": "stream",
     "text": [
      "2232\n",
      "1584\n",
      "1512\n",
      "2232\n",
      "2448\n",
      "2304\n"
     ]
    }
   ],
   "source": [
    "tf_dataset = tf_dataset.shuffle(4)\n",
    "for sales in tf_dataset.as_numpy_iterator():\n",
    "    print(sales)"
   ]
  },
  {
   "cell_type": "code",
   "execution_count": 39,
   "id": "7d648127",
   "metadata": {},
   "outputs": [
    {
     "name": "stdout",
     "output_type": "stream",
     "text": [
      "[2232 2232 1584 2448]\n",
      "[1512 2304]\n"
     ]
    }
   ],
   "source": [
    "for sales in tf_dataset.batch(4):\n",
    "    print(sales.numpy())"
   ]
  },
  {
   "cell_type": "code",
   "execution_count": 42,
   "id": "540f5a76",
   "metadata": {},
   "outputs": [
    {
     "name": "stdout",
     "output_type": "stream",
     "text": [
      "[1512 1584]\n",
      "[2232 2448]\n",
      "[2232 2304]\n"
     ]
    }
   ],
   "source": [
    "tf_dataset = tf.data.Dataset.from_tensor_slices(daily_sales_numbers)\n",
    "tf_dataset = tf_dataset.filter(lambda x: x>0).map(lambda y: y*72).shuffle(2).batch(2)\n",
    "\n",
    "for sales in tf_dataset.as_numpy_iterator():\n",
    "    print(sales)"
   ]
  },
  {
   "cell_type": "code",
   "execution_count": null,
   "id": "e08e80f3",
   "metadata": {},
   "outputs": [],
   "source": [
    "image_ds = tf.data.Dataset.list_files('images/*/*', shuffle = False)\n",
    "image_ds = image_ds.shuffle(200)\n",
    "\n",
    "for file in image_ds.take(3):\n",
    "    print(file.numpy())"
   ]
  },
  {
   "cell_type": "code",
   "execution_count": null,
   "id": "a773506e",
   "metadata": {},
   "outputs": [],
   "source": [
    "class_names = ['cat', 'dog']\n",
    "image_count = len(image_ds)\n",
    "train_size = int(image_count)*0.8\n",
    "train_ds = image_ds.take(train_size)\n",
    "test_ds = image_ds.skip(train_size)"
   ]
  },
  {
   "cell_type": "code",
   "execution_count": 45,
   "id": "1fb51feb",
   "metadata": {},
   "outputs": [],
   "source": [
    "import os\n",
    "\n",
    "def get_label(file_path):\n",
    "    return tf.strings.split(file_path, os.path.sep)[-2]"
   ]
  },
  {
   "cell_type": "code",
   "execution_count": 46,
   "id": "c2d3f180",
   "metadata": {},
   "outputs": [],
   "source": [
    "def process_image(file_path):\n",
    "    label = get_label(file_path)\n",
    "    img = tf.io.read_file(file_path)\n",
    "    img = tf.image.decode_jpeg(img)\n",
    "    img = tf.image.resize(img, [128, 128])\n",
    "    \n",
    "    return img, label"
   ]
  },
  {
   "cell_type": "code",
   "execution_count": null,
   "id": "dfc62d68",
   "metadata": {},
   "outputs": [],
   "source": [
    "for img, label in train_ds.map(process_img).take(3):\n",
    "    print(img)\n",
    "    print(label)"
   ]
  },
  {
   "cell_type": "code",
   "execution_count": 47,
   "id": "7ff3e711",
   "metadata": {},
   "outputs": [],
   "source": [
    "def scale(image, label):\n",
    "    return image/255, label"
   ]
  },
  {
   "cell_type": "code",
   "execution_count": 48,
   "id": "717806ec",
   "metadata": {},
   "outputs": [
    {
     "data": {
      "text/plain": [
       "'2.5.0'"
      ]
     },
     "execution_count": 48,
     "metadata": {},
     "output_type": "execute_result"
    }
   ],
   "source": [
    "import time\n",
    "\n",
    "tf.__version__"
   ]
  },
  {
   "cell_type": "code",
   "execution_count": 65,
   "id": "dfc3b518",
   "metadata": {},
   "outputs": [],
   "source": [
    "class FileDataset(tf.data.Dataset):\n",
    "    def read_files(num_samples):\n",
    "        time.sleep(0.03)\n",
    "        for sample_idx in range(num_samples):\n",
    "            time.sleep(0.015)\n",
    "            yield (sample_idx,)\n",
    "    \n",
    "    def __new__(cls, num_samples = 3):\n",
    "        return tf.data.Dataset.from_generator(\n",
    "        cls.read_files, output_signature = tf.TensorSpec(shape = (1, ), dtype = tf.int64),\n",
    "        args = (num_samples,)\n",
    "        )"
   ]
  },
  {
   "cell_type": "code",
   "execution_count": 66,
   "id": "b04918e1",
   "metadata": {},
   "outputs": [],
   "source": [
    "def benchmark(dataset, num_epochs = 2):\n",
    "    for epoch_num in range(num_epochs):\n",
    "        for sample in dataset:\n",
    "            time.sleep(0.01)"
   ]
  },
  {
   "cell_type": "code",
   "execution_count": 67,
   "id": "fc00dd78",
   "metadata": {
    "scrolled": true
   },
   "outputs": [
    {
     "name": "stdout",
     "output_type": "stream",
     "text": [
      "466 ms ± 150 ms per loop (mean ± std. dev. of 7 runs, 1 loop each)\n"
     ]
    }
   ],
   "source": [
    "%%timeit\n",
    "benchmark(FileDataset())"
   ]
  },
  {
   "cell_type": "code",
   "execution_count": 68,
   "id": "94862c81",
   "metadata": {},
   "outputs": [
    {
     "name": "stdout",
     "output_type": "stream",
     "text": [
      "319 ms ± 37.5 ms per loop (mean ± std. dev. of 7 runs, 1 loop each)\n"
     ]
    }
   ],
   "source": [
    "%%timeit\n",
    "benchmark(FileDataset().prefetch(1))"
   ]
  },
  {
   "cell_type": "code",
   "execution_count": 69,
   "id": "2dd5711b",
   "metadata": {},
   "outputs": [
    {
     "name": "stdout",
     "output_type": "stream",
     "text": [
      "297 ms ± 18.5 ms per loop (mean ± std. dev. of 7 runs, 1 loop each)\n"
     ]
    }
   ],
   "source": [
    "%%timeit\n",
    "benchmark(FileDataset().prefetch(tf.data.AUTOTUNE))"
   ]
  },
  {
   "cell_type": "code",
   "execution_count": 71,
   "id": "b12ee184",
   "metadata": {},
   "outputs": [
    {
     "name": "stdout",
     "output_type": "stream",
     "text": [
      "0\n",
      "1\n",
      "2\n",
      "3\n",
      "4\n"
     ]
    }
   ],
   "source": [
    "dataset = tf.data.Dataset.range(5)\n",
    "for d in dataset:\n",
    "    print(d.numpy())"
   ]
  },
  {
   "cell_type": "code",
   "execution_count": 72,
   "id": "77c983da",
   "metadata": {},
   "outputs": [
    {
     "name": "stdout",
     "output_type": "stream",
     "text": [
      "0\n",
      "1\n",
      "4\n",
      "9\n",
      "16\n"
     ]
    }
   ],
   "source": [
    "dataset = dataset.map(lambda x: x**2)\n",
    "for d in dataset:\n",
    "    print(d.numpy())"
   ]
  },
  {
   "cell_type": "code",
   "execution_count": 74,
   "id": "ca2414fe",
   "metadata": {},
   "outputs": [
    {
     "data": {
      "text/plain": [
       "[0, 1, 4, 9, 16]"
      ]
     },
     "execution_count": 74,
     "metadata": {},
     "output_type": "execute_result"
    }
   ],
   "source": [
    "dataset = dataset.cache()"
   ]
  },
  {
   "cell_type": "code",
   "execution_count": 79,
   "id": "0a02de50",
   "metadata": {},
   "outputs": [
    {
     "data": {
      "text/plain": [
       "[<tf.Tensor: shape=(), dtype=int64, numpy=0>,\n",
       " <tf.Tensor: shape=(), dtype=int64, numpy=1>,\n",
       " <tf.Tensor: shape=(), dtype=int64, numpy=4>,\n",
       " <tf.Tensor: shape=(), dtype=int64, numpy=9>,\n",
       " <tf.Tensor: shape=(), dtype=int64, numpy=16>]"
      ]
     },
     "execution_count": 79,
     "metadata": {},
     "output_type": "execute_result"
    }
   ],
   "source": [
    "list(dataset)"
   ]
  },
  {
   "cell_type": "code",
   "execution_count": 81,
   "id": "1f0c9c58",
   "metadata": {},
   "outputs": [],
   "source": [
    "def mapped_function(s):\n",
    "    tf.py_function(lambda: time.sleep(0.03), [], ()) \n",
    "    return s"
   ]
  },
  {
   "cell_type": "code",
   "execution_count": 83,
   "id": "715b179d",
   "metadata": {},
   "outputs": [
    {
     "name": "stdout",
     "output_type": "stream",
     "text": [
      "1.39 s ± 0 ns per loop (mean ± std. dev. of 1 run, 1 loop each)\n"
     ]
    }
   ],
   "source": [
    "%%timeit -n1 -r1\n",
    "\n",
    "benchmark(FileDataset().map(mapped_function), 5)"
   ]
  },
  {
   "cell_type": "code",
   "execution_count": null,
   "id": "9b2dde7d",
   "metadata": {},
   "outputs": [],
   "source": []
  }
 ],
 "metadata": {
  "kernelspec": {
   "display_name": "Python 3 (ipykernel)",
   "language": "python",
   "name": "python3"
  },
  "language_info": {
   "codemirror_mode": {
    "name": "ipython",
    "version": 3
   },
   "file_extension": ".py",
   "mimetype": "text/x-python",
   "name": "python",
   "nbconvert_exporter": "python",
   "pygments_lexer": "ipython3",
   "version": "3.8.2"
  }
 },
 "nbformat": 4,
 "nbformat_minor": 5
}
